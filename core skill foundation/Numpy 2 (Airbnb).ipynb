{
 "cells": [
  {
   "cell_type": "code",
   "execution_count": 1,
   "id": "e474c55a",
   "metadata": {},
   "outputs": [],
   "source": [
    "#this is a second leacture on numpy"
   ]
  },
  {
   "cell_type": "code",
   "execution_count": 1,
   "id": "10282a87",
   "metadata": {},
   "outputs": [],
   "source": [
    "import numpy as np\n",
    "import pandas as ps"
   ]
  },
  {
   "cell_type": "code",
   "execution_count": 2,
   "id": "2fc38b2e",
   "metadata": {},
   "outputs": [],
   "source": [
    "#accessing a element in the numpy array, works sames as list in python both positive and negative."
   ]
  },
  {
   "cell_type": "code",
   "execution_count": 3,
   "id": "780ee9e4",
   "metadata": {},
   "outputs": [],
   "source": [
    "a = np.array([1,2,3,4,5,6,7,8,9])"
   ]
  },
  {
   "cell_type": "code",
   "execution_count": 4,
   "id": "4cd19764",
   "metadata": {},
   "outputs": [
    {
     "data": {
      "text/plain": [
       "1"
      ]
     },
     "execution_count": 4,
     "metadata": {},
     "output_type": "execute_result"
    }
   ],
   "source": [
    "a[0]"
   ]
  },
  {
   "cell_type": "code",
   "execution_count": 5,
   "id": "99d9cc69",
   "metadata": {},
   "outputs": [
    {
     "data": {
      "text/plain": [
       "2"
      ]
     },
     "execution_count": 5,
     "metadata": {},
     "output_type": "execute_result"
    }
   ],
   "source": [
    "a[1]"
   ]
  },
  {
   "cell_type": "code",
   "execution_count": 6,
   "id": "ed20b5a2",
   "metadata": {},
   "outputs": [
    {
     "data": {
      "text/plain": [
       "9"
      ]
     },
     "execution_count": 6,
     "metadata": {},
     "output_type": "execute_result"
    }
   ],
   "source": [
    "#negatieve indexes\n",
    "a[-1]"
   ]
  },
  {
   "cell_type": "code",
   "execution_count": 7,
   "id": "5a4e018e",
   "metadata": {},
   "outputs": [
    {
     "data": {
      "text/plain": [
       "array([2, 3, 4, 5, 6])"
      ]
     },
     "execution_count": 7,
     "metadata": {},
     "output_type": "execute_result"
    }
   ],
   "source": [
    "#slicing\n",
    "a[1:6]"
   ]
  },
  {
   "cell_type": "code",
   "execution_count": 8,
   "id": "fead6deb",
   "metadata": {},
   "outputs": [
    {
     "data": {
      "text/plain": [
       "array([2, 5])"
      ]
     },
     "execution_count": 8,
     "metadata": {},
     "output_type": "execute_result"
    }
   ],
   "source": [
    "a[1:6:3] #a[start:end:step]"
   ]
  },
  {
   "cell_type": "code",
   "execution_count": 9,
   "id": "979772f3",
   "metadata": {},
   "outputs": [
    {
     "data": {
      "text/plain": [
       "array([2, 4, 6, 8])"
      ]
     },
     "execution_count": 9,
     "metadata": {},
     "output_type": "execute_result"
    }
   ],
   "source": [
    "a[1:8:2]"
   ]
  },
  {
   "cell_type": "code",
   "execution_count": 10,
   "id": "21c0768c",
   "metadata": {},
   "outputs": [
    {
     "data": {
      "text/plain": [
       "1"
      ]
     },
     "execution_count": 10,
     "metadata": {},
     "output_type": "execute_result"
    }
   ],
   "source": [
    "#how can we know what is the dimentions of the array\n",
    "a.ndim"
   ]
  },
  {
   "cell_type": "code",
   "execution_count": 11,
   "id": "0edae7f9",
   "metadata": {},
   "outputs": [
    {
     "data": {
      "text/plain": [
       "(9,)"
      ]
     },
     "execution_count": 11,
     "metadata": {},
     "output_type": "execute_result"
    }
   ],
   "source": [
    "#shape of array?\n",
    "a.shape"
   ]
  },
  {
   "cell_type": "code",
   "execution_count": 12,
   "id": "d66ca6b0",
   "metadata": {},
   "outputs": [],
   "source": [
    "#lets tals about operations on numpy"
   ]
  },
  {
   "cell_type": "code",
   "execution_count": 13,
   "id": "1689770e",
   "metadata": {},
   "outputs": [],
   "source": [
    "a = np.array([1,2,3,4,5,6,7,8,9,10,11,12])"
   ]
  },
  {
   "cell_type": "code",
   "execution_count": 14,
   "id": "8f3c910b",
   "metadata": {},
   "outputs": [
    {
     "data": {
      "text/plain": [
       "array([ 2,  3,  4,  5,  6,  7,  8,  9, 10, 11, 12, 13])"
      ]
     },
     "execution_count": 14,
     "metadata": {},
     "output_type": "execute_result"
    }
   ],
   "source": [
    "a+1 #it performs a element wise operation"
   ]
  },
  {
   "cell_type": "code",
   "execution_count": 15,
   "id": "990f2648",
   "metadata": {},
   "outputs": [
    {
     "data": {
      "text/plain": [
       "array([ True,  True,  True,  True,  True, False, False, False, False,\n",
       "       False, False, False])"
      ]
     },
     "execution_count": 15,
     "metadata": {},
     "output_type": "execute_result"
    }
   ],
   "source": [
    "#but we have worked only on arithmatic operations, what about logocal opearator\n",
    "a < 6\n",
    "#it will return a array of boolean values that satifies that logical condition"
   ]
  },
  {
   "cell_type": "code",
   "execution_count": 16,
   "id": "ac5d90fc",
   "metadata": {},
   "outputs": [],
   "source": [
    "#we can use it as a mask.\n",
    "mask = a<6"
   ]
  },
  {
   "cell_type": "code",
   "execution_count": 17,
   "id": "502659a1",
   "metadata": {},
   "outputs": [
    {
     "data": {
      "text/plain": [
       "array([1, 2, 3, 4, 5])"
      ]
     },
     "execution_count": 17,
     "metadata": {},
     "output_type": "execute_result"
    }
   ],
   "source": [
    "a[mask]\n",
    "#like this"
   ]
  },
  {
   "cell_type": "code",
   "execution_count": 18,
   "id": "1dfd578b",
   "metadata": {},
   "outputs": [
    {
     "data": {
      "text/plain": [
       "array([ 1,  2,  3,  4,  5,  6,  7,  8,  9, 10, 11, 12])"
      ]
     },
     "execution_count": 18,
     "metadata": {},
     "output_type": "execute_result"
    }
   ],
   "source": [
    "a"
   ]
  },
  {
   "cell_type": "code",
   "execution_count": 19,
   "id": "98bd3266",
   "metadata": {},
   "outputs": [],
   "source": [
    "#okay what if i want only even elements fom the array.\n",
    "mask = a%2==0"
   ]
  },
  {
   "cell_type": "code",
   "execution_count": 20,
   "id": "64f1c1db",
   "metadata": {},
   "outputs": [
    {
     "data": {
      "text/plain": [
       "array([False,  True, False,  True, False,  True, False,  True, False,\n",
       "        True, False,  True])"
      ]
     },
     "execution_count": 20,
     "metadata": {},
     "output_type": "execute_result"
    }
   ],
   "source": [
    "mask"
   ]
  },
  {
   "cell_type": "code",
   "execution_count": 21,
   "id": "a6aaee1a",
   "metadata": {},
   "outputs": [
    {
     "data": {
      "text/plain": [
       "array([ 2,  4,  6,  8, 10, 12])"
      ]
     },
     "execution_count": 21,
     "metadata": {},
     "output_type": "execute_result"
    }
   ],
   "source": [
    "a[mask]"
   ]
  },
  {
   "cell_type": "code",
   "execution_count": 22,
   "id": "38fa2e35",
   "metadata": {},
   "outputs": [],
   "source": [
    "#now we got the elements that are only even."
   ]
  },
  {
   "cell_type": "code",
   "execution_count": 23,
   "id": "23fd9cdc",
   "metadata": {},
   "outputs": [
    {
     "ename": "ValueError",
     "evalue": "The truth value of an array with more than one element is ambiguous. Use a.any() or a.all()",
     "output_type": "error",
     "traceback": [
      "\u001b[1;31m---------------------------------------------------------------------------\u001b[0m",
      "\u001b[1;31mValueError\u001b[0m                                Traceback (most recent call last)",
      "Cell \u001b[1;32mIn [23], line 2\u001b[0m\n\u001b[0;32m      1\u001b[0m \u001b[38;5;66;03m#how to find elements that are divisible by two and five\u001b[39;00m\n\u001b[1;32m----> 2\u001b[0m mask \u001b[38;5;241m=\u001b[39m (a\u001b[38;5;241m%\u001b[39m\u001b[38;5;241m2\u001b[39m\u001b[38;5;241m==\u001b[39m\u001b[38;5;241m0\u001b[39m) \u001b[38;5;129;01mand\u001b[39;00m (a\u001b[38;5;241m%\u001b[39m\u001b[38;5;241m5\u001b[39m\u001b[38;5;241m==\u001b[39m\u001b[38;5;241m0\u001b[39m)\n",
      "\u001b[1;31mValueError\u001b[0m: The truth value of an array with more than one element is ambiguous. Use a.any() or a.all()"
     ]
    }
   ],
   "source": [
    "#how to find elements that are divisible by two and five\n",
    "mask = (a%2==0) and (a%5==0)#this you can't do"
   ]
  },
  {
   "cell_type": "code",
   "execution_count": 24,
   "id": "58a2e6e1",
   "metadata": {},
   "outputs": [],
   "source": [
    "#so, lets look at that."
   ]
  },
  {
   "cell_type": "code",
   "execution_count": 25,
   "id": "dda96897",
   "metadata": {},
   "outputs": [],
   "source": [
    "mask1 = a%2==0\n",
    "mask2 = a%5==0"
   ]
  },
  {
   "cell_type": "code",
   "execution_count": 26,
   "id": "61e62d74",
   "metadata": {},
   "outputs": [
    {
     "data": {
      "text/plain": [
       "array([10])"
      ]
     },
     "execution_count": 26,
     "metadata": {},
     "output_type": "execute_result"
    }
   ],
   "source": [
    "a[mask1 & mask2] #you have to use logical &, as mask1 and mask2 themselfs are numpy arrays."
   ]
  },
  {
   "cell_type": "code",
   "execution_count": 27,
   "id": "6e4d7c65",
   "metadata": {},
   "outputs": [
    {
     "data": {
      "text/plain": [
       "array([10])"
      ]
     },
     "execution_count": 27,
     "metadata": {},
     "output_type": "execute_result"
    }
   ],
   "source": [
    "a[(a%2==0) & (a%5==0)]"
   ]
  },
  {
   "cell_type": "code",
   "execution_count": 28,
   "id": "34f092e0",
   "metadata": {},
   "outputs": [
    {
     "data": {
      "text/plain": [
       "array([ 2,  4,  5,  6,  8, 10, 12])"
      ]
     },
     "execution_count": 28,
     "metadata": {},
     "output_type": "execute_result"
    }
   ],
   "source": [
    "#elements that are devisible by either 2 or 5\n",
    "a[(a%2==0) | (a%5==0)]"
   ]
  },
  {
   "cell_type": "code",
   "execution_count": 29,
   "id": "e219091f",
   "metadata": {},
   "outputs": [],
   "source": [
    "a = np.array([1,0,1,0,1,0],dtype='bool')\n",
    "b = np.array([0,0,0,1,1,0],dtype='bool')"
   ]
  },
  {
   "cell_type": "code",
   "execution_count": 30,
   "id": "3266d8ee",
   "metadata": {},
   "outputs": [
    {
     "data": {
      "text/plain": [
       "array([ True, False,  True, False,  True, False])"
      ]
     },
     "execution_count": 30,
     "metadata": {},
     "output_type": "execute_result"
    }
   ],
   "source": [
    "a"
   ]
  },
  {
   "cell_type": "code",
   "execution_count": 31,
   "id": "b8dc2c9a",
   "metadata": {},
   "outputs": [
    {
     "data": {
      "text/plain": [
       "array([False, False, False,  True,  True, False])"
      ]
     },
     "execution_count": 31,
     "metadata": {},
     "output_type": "execute_result"
    }
   ],
   "source": [
    "b"
   ]
  },
  {
   "cell_type": "code",
   "execution_count": 32,
   "id": "c1f0328b",
   "metadata": {},
   "outputs": [
    {
     "data": {
      "text/plain": [
       "array([False, False, False, False,  True, False])"
      ]
     },
     "execution_count": 32,
     "metadata": {},
     "output_type": "execute_result"
    }
   ],
   "source": [
    "a & b"
   ]
  },
  {
   "cell_type": "code",
   "execution_count": 33,
   "id": "c8ecd4cf",
   "metadata": {},
   "outputs": [
    {
     "data": {
      "text/plain": [
       "array([ True, False,  True,  True,  True, False])"
      ]
     },
     "execution_count": 33,
     "metadata": {},
     "output_type": "execute_result"
    }
   ],
   "source": [
    "a | b"
   ]
  },
  {
   "cell_type": "code",
   "execution_count": 46,
   "id": "190c8969",
   "metadata": {},
   "outputs": [],
   "source": [
    "#universal function."
   ]
  },
  {
   "cell_type": "code",
   "execution_count": 47,
   "id": "fe156b42",
   "metadata": {},
   "outputs": [],
   "source": [
    "a = np.array([1,2,3,4,5,6])"
   ]
  },
  {
   "cell_type": "code",
   "execution_count": 48,
   "id": "4f951fe6",
   "metadata": {},
   "outputs": [
    {
     "data": {
      "text/plain": [
       "6"
      ]
     },
     "execution_count": 48,
     "metadata": {},
     "output_type": "execute_result"
    }
   ],
   "source": [
    "len(a)"
   ]
  },
  {
   "cell_type": "code",
   "execution_count": 49,
   "id": "a068d1bb",
   "metadata": {},
   "outputs": [
    {
     "data": {
      "text/plain": [
       "array([3, 4, 5, 6, 7, 8])"
      ]
     },
     "execution_count": 49,
     "metadata": {},
     "output_type": "execute_result"
    }
   ],
   "source": [
    "#let's do an element wise addition to the array\n",
    "a + 2"
   ]
  },
  {
   "cell_type": "code",
   "execution_count": 50,
   "id": "d25c6c42",
   "metadata": {},
   "outputs": [
    {
     "data": {
      "text/plain": [
       "array([3, 4, 5, 6, 7, 8])"
      ]
     },
     "execution_count": 50,
     "metadata": {},
     "output_type": "execute_result"
    }
   ],
   "source": [
    "#but is there any function that can do did? yes\n",
    "np.add(a,2)"
   ]
  },
  {
   "cell_type": "code",
   "execution_count": 51,
   "id": "79ae3537",
   "metadata": {},
   "outputs": [],
   "source": [
    "b = np.array([5,8,8,4,6,1])"
   ]
  },
  {
   "cell_type": "code",
   "execution_count": 52,
   "id": "5d81b228",
   "metadata": {},
   "outputs": [
    {
     "data": {
      "text/plain": [
       "True"
      ]
     },
     "execution_count": 52,
     "metadata": {},
     "output_type": "execute_result"
    }
   ],
   "source": [
    "len(a) == len(b)"
   ]
  },
  {
   "cell_type": "code",
   "execution_count": 53,
   "id": "95ed9e5b",
   "metadata": {},
   "outputs": [
    {
     "data": {
      "text/plain": [
       "array([ 6, 10, 11,  8, 11,  7])"
      ]
     },
     "execution_count": 53,
     "metadata": {},
     "output_type": "execute_result"
    }
   ],
   "source": [
    "#remeber np.add() does element wise addition.\n",
    "np.add(a,b)"
   ]
  },
  {
   "cell_type": "code",
   "execution_count": 54,
   "id": "5f758851",
   "metadata": {},
   "outputs": [],
   "source": [
    "#the above one gives an error, if a and b have different size."
   ]
  },
  {
   "cell_type": "code",
   "execution_count": 55,
   "id": "ef275a3d",
   "metadata": {},
   "outputs": [
    {
     "data": {
      "text/plain": [
       "3.5"
      ]
     },
     "execution_count": 55,
     "metadata": {},
     "output_type": "execute_result"
    }
   ],
   "source": [
    "np.mean(a)"
   ]
  },
  {
   "cell_type": "code",
   "execution_count": 56,
   "id": "66550c1e",
   "metadata": {},
   "outputs": [
    {
     "data": {
      "text/plain": [
       "5.333333333333333"
      ]
     },
     "execution_count": 56,
     "metadata": {},
     "output_type": "execute_result"
    }
   ],
   "source": [
    "np.mean(b)"
   ]
  },
  {
   "cell_type": "code",
   "execution_count": 57,
   "id": "6d16988a",
   "metadata": {},
   "outputs": [
    {
     "data": {
      "text/plain": [
       "array([1, 2, 3, 4, 5, 6])"
      ]
     },
     "execution_count": 57,
     "metadata": {},
     "output_type": "execute_result"
    }
   ],
   "source": [
    "a"
   ]
  },
  {
   "cell_type": "code",
   "execution_count": 58,
   "id": "d8ae5fb9",
   "metadata": {},
   "outputs": [
    {
     "data": {
      "text/plain": [
       "21"
      ]
     },
     "execution_count": 58,
     "metadata": {},
     "output_type": "execute_result"
    }
   ],
   "source": [
    "np.sum(a)"
   ]
  },
  {
   "cell_type": "code",
   "execution_count": 59,
   "id": "d0af40a8",
   "metadata": {},
   "outputs": [
    {
     "data": {
      "text/plain": [
       "21"
      ]
     },
     "execution_count": 59,
     "metadata": {},
     "output_type": "execute_result"
    }
   ],
   "source": [
    "a.sum()"
   ]
  },
  {
   "cell_type": "code",
   "execution_count": 61,
   "id": "8f01338e",
   "metadata": {},
   "outputs": [],
   "source": [
    "#the difference is np.sum() is a universal function and a.sum() is  method that is bounded to the array a\n",
    "#it is like l.sort() and sorted(l) in python."
   ]
  },
  {
   "cell_type": "code",
   "execution_count": 62,
   "id": "7d738b6c",
   "metadata": {},
   "outputs": [],
   "source": [
    "#another difference is universal functions does not apply the changes to the data structure.\n",
    "#but the methods that are bound to the data structures are inplace."
   ]
  },
  {
   "cell_type": "code",
   "execution_count": 63,
   "id": "8d5f3073",
   "metadata": {},
   "outputs": [],
   "source": [
    "#there is also sort function in numpy arrays\n",
    "a = np.array([8,6,4,1,2,0,5,4,6,9])"
   ]
  },
  {
   "cell_type": "code",
   "execution_count": 65,
   "id": "5ff9fdac",
   "metadata": {},
   "outputs": [],
   "source": [
    "l = np.sort(a)"
   ]
  },
  {
   "cell_type": "code",
   "execution_count": 69,
   "id": "e13e9523",
   "metadata": {},
   "outputs": [
    {
     "data": {
      "text/plain": [
       "array([0, 1, 2, 4, 4, 5, 6, 6, 8, 9])"
      ]
     },
     "execution_count": 69,
     "metadata": {},
     "output_type": "execute_result"
    }
   ],
   "source": [
    "l  #a is not changed"
   ]
  },
  {
   "cell_type": "code",
   "execution_count": 70,
   "id": "a3b5246b",
   "metadata": {},
   "outputs": [],
   "source": [
    "a.sort()"
   ]
  },
  {
   "cell_type": "code",
   "execution_count": 71,
   "id": "5ef6c6e3",
   "metadata": {},
   "outputs": [
    {
     "data": {
      "text/plain": [
       "array([0, 1, 2, 4, 4, 5, 6, 6, 8, 9])"
      ]
     },
     "execution_count": 71,
     "metadata": {},
     "output_type": "execute_result"
    }
   ],
   "source": [
    "a #a is changed"
   ]
  },
  {
   "cell_type": "code",
   "execution_count": null,
   "id": "b9f6e72d",
   "metadata": {},
   "outputs": [],
   "source": []
  },
  {
   "cell_type": "code",
   "execution_count": null,
   "id": "4452a857",
   "metadata": {},
   "outputs": [],
   "source": []
  },
  {
   "cell_type": "code",
   "execution_count": 72,
   "id": "a96be50f",
   "metadata": {},
   "outputs": [],
   "source": [
    "#let's use the airbnb data into the pandas."
   ]
  },
  {
   "cell_type": "code",
   "execution_count": 74,
   "id": "f4da6f0c",
   "metadata": {},
   "outputs": [],
   "source": [
    "#we don't have to use this in feature as we will be working with the pandas import file method. "
   ]
  },
  {
   "cell_type": "code",
   "execution_count": 77,
   "id": "c64c3446",
   "metadata": {},
   "outputs": [],
   "source": [
    "path = 'Numpy_2/survey.txt'"
   ]
  },
  {
   "cell_type": "code",
   "execution_count": 81,
   "id": "966fc236",
   "metadata": {},
   "outputs": [],
   "source": [
    "data = np.loadtxt(path)"
   ]
  },
  {
   "cell_type": "code",
   "execution_count": 82,
   "id": "850160c6",
   "metadata": {},
   "outputs": [],
   "source": [
    "#this is the  airbnd customer data."
   ]
  },
  {
   "cell_type": "code",
   "execution_count": 83,
   "id": "612754b8",
   "metadata": {},
   "outputs": [],
   "source": [
    "#each element represents the survey poll from the customers"
   ]
  },
  {
   "cell_type": "code",
   "execution_count": 85,
   "id": "1c736a6d",
   "metadata": {},
   "outputs": [
    {
     "data": {
      "text/plain": [
       "(1167,)"
      ]
     },
     "execution_count": 85,
     "metadata": {},
     "output_type": "execute_result"
    }
   ],
   "source": [
    "#first find the number of people gave the survey.\n",
    "#use shape\n",
    "data.shape"
   ]
  },
  {
   "cell_type": "code",
   "execution_count": 86,
   "id": "0727aa0b",
   "metadata": {},
   "outputs": [],
   "source": [
    "total = data.shape[0]"
   ]
  },
  {
   "cell_type": "code",
   "execution_count": 89,
   "id": "2226f8ca",
   "metadata": {},
   "outputs": [
    {
     "data": {
      "text/plain": [
       "1167"
      ]
     },
     "execution_count": 89,
     "metadata": {},
     "output_type": "execute_result"
    }
   ],
   "source": [
    "total #total number of elements"
   ]
  },
  {
   "cell_type": "code",
   "execution_count": 90,
   "id": "a44ec5c6",
   "metadata": {},
   "outputs": [],
   "source": [
    "#lets find the maximum value of the survey\n",
    "max_value = np.max(data)"
   ]
  },
  {
   "cell_type": "code",
   "execution_count": 91,
   "id": "c1a2c62c",
   "metadata": {},
   "outputs": [],
   "source": [
    "min_value = np.min(data)"
   ]
  },
  {
   "cell_type": "code",
   "execution_count": 92,
   "id": "fedc0779",
   "metadata": {},
   "outputs": [
    {
     "data": {
      "text/plain": [
       "(10.0, 1.0)"
      ]
     },
     "execution_count": 92,
     "metadata": {},
     "output_type": "execute_result"
    }
   ],
   "source": [
    "max_value,min_value"
   ]
  },
  {
   "cell_type": "code",
   "execution_count": 93,
   "id": "31a59d32",
   "metadata": {},
   "outputs": [],
   "source": [
    "#lets make a mask for detractors <7\n",
    "detractors_mask = data<7"
   ]
  },
  {
   "cell_type": "code",
   "execution_count": 102,
   "id": "73abad71",
   "metadata": {},
   "outputs": [],
   "source": [
    "detractors_data = data[detractors_mask]"
   ]
  },
  {
   "cell_type": "code",
   "execution_count": 103,
   "id": "e7134f46",
   "metadata": {},
   "outputs": [
    {
     "data": {
      "text/plain": [
       "array([5., 4., 4., 5., 1., 5., 5., 1., 4., 5., 4., 4., 4., 5., 1., 4., 1.,\n",
       "       4., 1., 5., 5., 1., 1., 4., 1., 5., 4., 1., 1., 4., 1., 5., 1., 4.,\n",
       "       4., 1., 1., 1., 1., 1., 1., 1., 4., 1., 1., 5., 5., 5., 4., 4., 1.,\n",
       "       4., 1., 4., 1., 5., 1., 1., 5., 4., 4., 4., 4., 1., 4., 5., 4., 4.,\n",
       "       1., 1., 5., 5., 1., 5., 1., 5., 5., 4., 5., 4., 1., 1., 1., 1., 4.,\n",
       "       1., 4., 4., 5., 4., 1., 1., 1., 1., 5., 4., 5., 5., 4., 1., 5., 1.,\n",
       "       4., 4., 1., 1., 1., 4., 4., 5., 5., 4., 5., 5., 5., 1., 4., 1., 5.,\n",
       "       5., 1., 5., 1., 1., 5., 5., 4., 4., 1., 4., 4., 4., 1., 1., 4., 4.,\n",
       "       4., 5., 5., 1., 1., 4., 1., 4., 1., 4., 1., 4., 1., 4., 1., 5., 4.,\n",
       "       4., 5., 1., 4., 5., 5., 5., 1., 5., 4., 1., 1., 5., 5., 5., 4., 5.,\n",
       "       4., 4., 1., 4., 4., 4., 4., 5., 1., 5., 5., 1., 4., 4., 5., 1., 1.,\n",
       "       4., 5., 5., 5., 1., 4., 5., 5., 4., 1., 5., 5., 5., 1., 1., 5., 5.,\n",
       "       1., 1., 1., 4., 5., 5., 4., 4., 4., 5., 1., 4., 1., 4., 5., 4., 5.,\n",
       "       5., 1., 5., 1., 5., 5., 1., 4., 5., 5., 4., 1., 5., 1., 4., 1., 4.,\n",
       "       1., 1., 1., 1., 1., 1., 4., 1., 5., 4., 5., 1., 5., 1., 5., 4., 4.,\n",
       "       4., 4., 5., 5., 1., 4., 1., 5., 5., 1., 4., 1., 1., 4., 4., 4., 4.,\n",
       "       1., 4., 1., 1., 4., 1., 5., 4., 1., 1., 5., 4., 5., 4., 4., 4., 1.,\n",
       "       5., 5., 1., 4., 5., 4., 4., 4., 1., 4., 1., 4., 4., 4., 5., 1., 1.,\n",
       "       1., 4., 5., 5., 1., 5., 4., 5., 5., 4., 1., 1., 5., 5., 5., 1., 4.,\n",
       "       5., 4., 5., 5., 5., 1., 4., 1., 5.])"
      ]
     },
     "execution_count": 103,
     "metadata": {},
     "output_type": "execute_result"
    }
   ],
   "source": [
    "#number of detractors\n",
    "detractors_data"
   ]
  },
  {
   "cell_type": "code",
   "execution_count": null,
   "id": "44d0f6b6",
   "metadata": {},
   "outputs": [],
   "source": []
  },
  {
   "cell_type": "code",
   "execution_count": 104,
   "id": "7d8d8a15",
   "metadata": {},
   "outputs": [
    {
     "data": {
      "text/plain": [
       "array([10.,  9.,  9.,  9.,  9.,  9., 10.,  9.,  9., 10.,  9.,  9.,  9.,\n",
       "        9.,  9.,  9.,  9., 10., 10.,  9., 10.,  9., 10.,  9.,  9., 10.,\n",
       "       10.,  9., 10.,  9., 10., 10., 10.,  9.,  9., 10., 10., 10.,  9.,\n",
       "       10.,  9., 10.,  9.,  9.,  9., 10.,  9.,  9.,  9.,  9.,  9.,  9.,\n",
       "       10.,  9.,  9.,  9., 10.,  9., 10.,  9.,  9.,  9.,  9.,  9., 10.,\n",
       "       10.,  9., 10.,  9.,  9., 10.,  9.,  9., 10.,  9.,  9.,  9.,  9.,\n",
       "        9.,  9.,  9.,  9.,  9.,  9.,  9., 10.,  9.,  9.,  9.,  9.,  9.,\n",
       "        9.,  9.,  9., 10.,  9.,  9.,  9.,  9.,  9., 10., 10.,  9., 10.,\n",
       "       10., 10., 10.,  9., 10.,  9.,  9.,  9.,  9.,  9.,  9.,  9., 10.,\n",
       "        9., 10.,  9., 10.,  9., 10., 10., 10.,  9.,  9., 10., 10.,  9.,\n",
       "        9.,  9.,  9., 10.,  9.,  9.,  9.,  9., 10., 10.,  9.,  9.,  9.,\n",
       "       10.,  9.,  9.,  9.,  9.,  9., 10.,  9.,  9.,  9., 10.,  9., 10.,\n",
       "       10.,  9.,  9.,  9.,  9., 10.,  9., 10.,  9.,  9.,  9.,  9., 10.,\n",
       "        9., 10.,  9.,  9.,  9.,  9.,  9.,  9.,  9.,  9.,  9.,  9.,  9.,\n",
       "       10., 10.,  9.,  9.,  9., 10.,  9., 10., 10., 10., 10., 10.,  9.,\n",
       "        9.,  9.,  9., 10., 10., 10.,  9.,  9., 10.,  9., 10., 10., 10.,\n",
       "       10.,  9., 10., 10.,  9., 10.,  9.,  9.,  9.,  9., 10.,  9., 10.,\n",
       "        9., 10.,  9.,  9.,  9.,  9., 10.,  9.,  9.,  9.,  9.,  9., 10.,\n",
       "        9., 10., 10.,  9., 10., 10., 10.,  9.,  9.,  9.,  9.,  9.,  9.,\n",
       "       10.,  9.,  9., 10.,  9., 10., 10.,  9.,  9.,  9., 10., 10., 10.,\n",
       "       10.,  9.,  9.,  9., 10., 10.,  9., 10.,  9.,  9.,  9., 10.,  9.,\n",
       "        9.,  9.,  9.,  9.,  9.,  9.,  9.,  9.,  9., 10.,  9.,  9.,  9.,\n",
       "       10.,  9., 10.,  9., 10.,  9., 10.,  9.,  9., 10., 10.,  9.,  9.,\n",
       "        9., 10.,  9.,  9., 10.,  9.,  9.,  9.,  9.,  9.,  9., 10., 10.,\n",
       "        9., 10.,  9.,  9.,  9.,  9., 10.,  9.,  9.,  9.,  9., 10.,  9.,\n",
       "       10.,  9., 10.,  9., 10., 10.,  9., 10., 10.,  9., 10.,  9.,  9.,\n",
       "        9.,  9.,  9., 10.,  9., 10., 10.,  9., 10., 10.,  9.,  9., 10.,\n",
       "        9., 10., 10.,  9., 10., 10., 10.,  9.,  9.,  9., 10.,  9.,  9.,\n",
       "        9., 10.,  9.,  9.,  9.,  9.,  9., 10.,  9.,  9.,  9., 10.,  9.,\n",
       "        9.,  9.,  9.,  9., 10.,  9., 10.,  9.,  9., 10.,  9.,  9.,  9.,\n",
       "        9.,  9.,  9., 10.,  9.,  9.,  9.,  9.,  9.,  9.,  9.,  9.,  9.,\n",
       "        9., 10.,  9., 10.,  9.,  9.,  9.,  9.,  9.,  9.,  9.,  9.,  9.,\n",
       "        9.,  9.,  9.,  9.,  9., 10., 10.,  9.,  9.,  9.,  9., 10.,  9.,\n",
       "       10.,  9., 10., 10.,  9.,  9., 10.,  9., 10., 10., 10.,  9.,  9.,\n",
       "        9., 10., 10.,  9.,  9.,  9., 10.,  9.,  9.,  9.,  9., 10.,  9.,\n",
       "       10.,  9.,  9., 10.,  9.,  9.,  9., 10.,  9.,  9.,  9.,  9., 10.,\n",
       "        9.,  9.,  9.,  9.,  9.,  9., 10.,  9., 10., 10.,  9.,  9.,  9.,\n",
       "       10., 10., 10., 10.,  9.,  9., 10., 10.,  9., 10.,  9., 10.,  9.,\n",
       "       10.,  9.,  9., 10.,  9., 10., 10.,  9.,  9.,  9.,  9.,  9.,  9.,\n",
       "        9.,  9.,  9.,  9.,  9.,  9.,  9.,  9.,  9.,  9.,  9.,  9.,  9.,\n",
       "        9.,  9.,  9.,  9.,  9.,  9.,  9., 10., 10.,  9.,  9.,  9.,  9.,\n",
       "       10., 10.,  9., 10., 10.,  9., 10., 10.,  9., 10., 10., 10.,  9.,\n",
       "        9., 10., 10., 10.,  9.,  9., 10., 10.,  9.,  9.,  9.,  9.,  9.,\n",
       "        9., 10., 10., 10., 10., 10., 10.,  9.,  9.,  9.,  9., 10., 10.,\n",
       "        9.,  9.,  9.,  9.,  9., 10., 10.,  9., 10., 10.,  9., 10., 10.,\n",
       "        9., 10., 10.,  9., 10.,  9., 10., 10.,  9., 10., 10.,  9.,  9.,\n",
       "        9.,  9., 10.,  9.,  9., 10., 10., 10., 10.,  9., 10.])"
      ]
     },
     "execution_count": 104,
     "metadata": {},
     "output_type": "execute_result"
    }
   ],
   "source": [
    "#similiarly \n",
    "pramotors_data = data[data>8]\n",
    "pramotors_data"
   ]
  },
  {
   "cell_type": "code",
   "execution_count": 105,
   "id": "37d39bc1",
   "metadata": {},
   "outputs": [
    {
     "data": {
      "text/plain": [
       "array([7., 7., 7., 7., 8., 8., 8., 7., 7., 7., 8., 8., 7., 8., 8., 8., 8.,\n",
       "       7., 7., 7., 8., 7., 7., 7., 8., 7., 8., 8., 7., 8., 8., 8., 7., 8.,\n",
       "       7., 8., 8., 7., 8., 7., 8., 7., 7., 8., 8., 8., 7., 7., 8., 8., 8.,\n",
       "       7., 7., 7., 8., 7., 7., 8., 7., 7., 7., 8., 7., 7., 8., 8., 8., 7.,\n",
       "       7., 7., 7., 7., 8., 8., 7., 8., 7., 8., 8., 7., 8., 7., 7., 8., 7.,\n",
       "       7., 7., 7., 7., 8., 8., 7., 7., 8., 8., 8., 8., 8., 7., 7., 7., 8.,\n",
       "       7., 8., 8., 7., 7., 8., 8., 7., 7., 8., 7., 7., 8., 8., 8., 7., 7.,\n",
       "       8., 8., 8., 8., 7., 7., 7., 8., 7., 7., 7., 7., 8., 7., 8., 7., 7.,\n",
       "       7., 8., 8., 8., 7., 8., 8., 8., 8., 7., 8., 7., 7., 7., 7., 7., 8.,\n",
       "       7., 7., 7., 7., 8., 7., 8., 8., 7., 7., 8., 8., 7., 8., 8., 7., 7.,\n",
       "       7., 8., 8., 7., 7., 8., 7., 7., 7., 8., 7., 7., 7., 8., 7., 7., 7.,\n",
       "       7., 7., 8., 8., 7., 8., 7., 7., 7., 8., 8., 8., 8., 8., 7., 8., 7.,\n",
       "       7., 8., 7., 7., 8., 7., 8., 8., 7., 7., 8., 8., 8., 7., 8., 8., 7.,\n",
       "       7., 7., 7., 7., 8.])"
      ]
     },
     "execution_count": 105,
     "metadata": {},
     "output_type": "execute_result"
    }
   ],
   "source": [
    "passives_data = data[(data>=7) & (data<=8)]\n",
    "passives_data"
   ]
  },
  {
   "cell_type": "code",
   "execution_count": 106,
   "id": "f7148bb3",
   "metadata": {},
   "outputs": [],
   "source": [
    "#lets find the percentages of pramotors\n",
    "pramotors_perc = (pramotors_data.shape[0]/total)*100"
   ]
  },
  {
   "cell_type": "code",
   "execution_count": 107,
   "id": "a5614a8d",
   "metadata": {},
   "outputs": [],
   "source": [
    "detractors_perc = (detractors_data.shape[0]/total)*100"
   ]
  },
  {
   "cell_type": "code",
   "execution_count": 109,
   "id": "eef779cc",
   "metadata": {},
   "outputs": [],
   "source": [
    "#net pramotors score\n",
    "nps = pramotors_perc - detractors_perc"
   ]
  },
  {
   "cell_type": "code",
   "execution_count": 110,
   "id": "a96d8106",
   "metadata": {},
   "outputs": [
    {
     "data": {
      "text/plain": [
       "23.73607540702657"
      ]
     },
     "execution_count": 110,
     "metadata": {},
     "output_type": "execute_result"
    }
   ],
   "source": [
    "nps"
   ]
  },
  {
   "cell_type": "code",
   "execution_count": 111,
   "id": "e6e6a4c8",
   "metadata": {},
   "outputs": [],
   "source": [
    "#do you think it is a good score, well that depends on the industry to industry.\n",
    "#incase of internet provider industry even 20 is fine, but do you take it as a good when it is industry of planes. no right"
   ]
  },
  {
   "cell_type": "code",
   "execution_count": null,
   "id": "3e6cefe0",
   "metadata": {},
   "outputs": [],
   "source": []
  }
 ],
 "metadata": {
  "kernelspec": {
   "display_name": "Python 3 (ipykernel)",
   "language": "python",
   "name": "python3"
  },
  "language_info": {
   "codemirror_mode": {
    "name": "ipython",
    "version": 3
   },
   "file_extension": ".py",
   "mimetype": "text/x-python",
   "name": "python",
   "nbconvert_exporter": "python",
   "pygments_lexer": "ipython3",
   "version": "3.9.10"
  }
 },
 "nbformat": 4,
 "nbformat_minor": 5
}
