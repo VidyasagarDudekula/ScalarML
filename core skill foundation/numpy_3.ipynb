{
 "cells": [
  {
   "cell_type": "code",
   "execution_count": 1,
   "id": "5657a9de",
   "metadata": {},
   "outputs": [],
   "source": [
    "#today we are going to work on fitbit data."
   ]
  },
  {
   "cell_type": "code",
   "execution_count": 2,
   "id": "c91e61cb",
   "metadata": {},
   "outputs": [],
   "source": [
    "#okay we have seen how to convert a list into numpy array and we have also seen how to create a numpy array with predefined value.\n",
    "#but what about if we want to create a empty numpy array"
   ]
  },
  {
   "cell_type": "code",
   "execution_count": 2,
   "id": "48bd77b3",
   "metadata": {},
   "outputs": [],
   "source": [
    "import numpy as np"
   ]
  },
  {
   "cell_type": "code",
   "execution_count": 3,
   "id": "b7feeed1",
   "metadata": {},
   "outputs": [
    {
     "data": {
      "text/plain": [
       "array(['', '', '', '', '', '', '', ''], dtype='<U21')"
      ]
     },
     "execution_count": 3,
     "metadata": {},
     "output_type": "execute_result"
    }
   ],
   "source": [
    "np.empty((8,),dtype = 'U21')"
   ]
  },
  {
   "cell_type": "code",
   "execution_count": 4,
   "id": "97641883",
   "metadata": {},
   "outputs": [],
   "source": [
    "e = np.empty((10,),dtype='U21')"
   ]
  },
  {
   "cell_type": "code",
   "execution_count": 5,
   "id": "afbeac4f",
   "metadata": {},
   "outputs": [
    {
     "data": {
      "text/plain": [
       "(10,)"
      ]
     },
     "execution_count": 5,
     "metadata": {},
     "output_type": "execute_result"
    }
   ],
   "source": [
    "e.shape"
   ]
  },
  {
   "cell_type": "code",
   "execution_count": 6,
   "id": "b1aab7ab",
   "metadata": {},
   "outputs": [
    {
     "data": {
      "text/plain": [
       "''"
      ]
     },
     "execution_count": 6,
     "metadata": {},
     "output_type": "execute_result"
    }
   ],
   "source": [
    "e[0]"
   ]
  },
  {
   "cell_type": "code",
   "execution_count": 7,
   "id": "d9b9dda4",
   "metadata": {},
   "outputs": [],
   "source": [
    "#now lets import the airbnb data\n",
    "path = 'Numpy_2/survey.txt'"
   ]
  },
  {
   "cell_type": "code",
   "execution_count": 8,
   "id": "480f455a",
   "metadata": {},
   "outputs": [],
   "source": [
    "data = np.loadtxt(path)"
   ]
  },
  {
   "cell_type": "code",
   "execution_count": 9,
   "id": "530a23fa",
   "metadata": {},
   "outputs": [
    {
     "data": {
      "text/plain": [
       "(1167,)"
      ]
     },
     "execution_count": 9,
     "metadata": {},
     "output_type": "execute_result"
    }
   ],
   "source": [
    "data.shape"
   ]
  },
  {
   "cell_type": "code",
   "execution_count": 10,
   "id": "1ffc85a9",
   "metadata": {},
   "outputs": [],
   "source": [
    "#now create a numpy array empty\n",
    "result = np.empty(shape = data.shape, dtype = 'U21') #U21 - >unicde with 21bytes"
   ]
  },
  {
   "cell_type": "code",
   "execution_count": 11,
   "id": "6e764140",
   "metadata": {},
   "outputs": [
    {
     "data": {
      "text/plain": [
       "array(['', '', '', ..., '', '', ''], dtype='<U21')"
      ]
     },
     "execution_count": 11,
     "metadata": {},
     "output_type": "execute_result"
    }
   ],
   "source": [
    "result"
   ]
  },
  {
   "cell_type": "code",
   "execution_count": 12,
   "id": "0e815986",
   "metadata": {},
   "outputs": [
    {
     "data": {
      "text/plain": [
       "array([ 7., 10.,  5., ...,  5.,  9., 10.])"
      ]
     },
     "execution_count": 12,
     "metadata": {},
     "output_type": "execute_result"
    }
   ],
   "source": [
    "data"
   ]
  },
  {
   "cell_type": "code",
   "execution_count": 14,
   "id": "0dc8beac",
   "metadata": {},
   "outputs": [],
   "source": [
    "#now lets fill all the values less than 7 with word detractors\n",
    "#above 8 as pramotors\n",
    "#inbetween passive"
   ]
  },
  {
   "cell_type": "code",
   "execution_count": 15,
   "id": "fa081b7c",
   "metadata": {},
   "outputs": [],
   "source": [
    "mask1 = data<7\n",
    "mask2= (data>=7) & (data<=8)\n",
    "mask3 = data>8"
   ]
  },
  {
   "cell_type": "code",
   "execution_count": 16,
   "id": "7c187eae",
   "metadata": {},
   "outputs": [],
   "source": [
    "result[mask1] = 'Detractors'\n",
    "result[mask2] = 'Passive'\n",
    "result[mask3] = 'Pramotors'"
   ]
  },
  {
   "cell_type": "code",
   "execution_count": 17,
   "id": "ca7207a6",
   "metadata": {},
   "outputs": [
    {
     "data": {
      "text/plain": [
       "array(['Passive', 'Pramotors', 'Detractors', ..., 'Detractors',\n",
       "       'Pramotors', 'Pramotors'], dtype='<U21')"
      ]
     },
     "execution_count": 17,
     "metadata": {},
     "output_type": "execute_result"
    }
   ],
   "source": [
    "result"
   ]
  },
  {
   "cell_type": "code",
   "execution_count": 18,
   "id": "fb94380f",
   "metadata": {},
   "outputs": [],
   "source": [
    "#see how cool is that.\n",
    "#and the best part is previously we have like 10 different datas, now we have only 3 type of data."
   ]
  },
  {
   "cell_type": "code",
   "execution_count": 19,
   "id": "bb667585",
   "metadata": {},
   "outputs": [
    {
     "data": {
      "text/plain": [
       "array(['Detractors', 'Passive', 'Pramotors'], dtype='<U21')"
      ]
     },
     "execution_count": 19,
     "metadata": {},
     "output_type": "execute_result"
    }
   ],
   "source": [
    "#but is there a way to find out how many unique values we have in the array? yes\n",
    "np.unique(result)"
   ]
  },
  {
   "cell_type": "code",
   "execution_count": 20,
   "id": "43aa3217",
   "metadata": {},
   "outputs": [
    {
     "data": {
      "text/plain": [
       "array([ 1.,  4.,  5.,  7.,  8.,  9., 10.])"
      ]
     },
     "execution_count": 20,
     "metadata": {},
     "output_type": "execute_result"
    }
   ],
   "source": [
    "np.unique(data)"
   ]
  },
  {
   "cell_type": "code",
   "execution_count": 21,
   "id": "6886b0f7",
   "metadata": {},
   "outputs": [
    {
     "data": {
      "text/plain": [
       "(array(['Detractors', 'Passive', 'Pramotors'], dtype='<U21'),\n",
       " array([332, 226, 609], dtype=int64))"
      ]
     },
     "execution_count": 21,
     "metadata": {},
     "output_type": "execute_result"
    }
   ],
   "source": [
    "#but there is another cool parameter in this unique method, which gives the frequencies of each type\n",
    "np.unique(result,return_counts=True)"
   ]
  },
  {
   "cell_type": "code",
   "execution_count": 22,
   "id": "b703d545",
   "metadata": {},
   "outputs": [],
   "source": [
    "#now lets create the pramotors percentages and detractors percentages\n",
    "prom_perc = len(result[result=='Pramotors'])/data.shape[0]\n",
    "detr_perc = len(result[result=='Detractors'])/data.shape[0]"
   ]
  },
  {
   "cell_type": "code",
   "execution_count": 23,
   "id": "5290a825",
   "metadata": {},
   "outputs": [],
   "source": [
    "#now lets calcullate the net pramotors score\n",
    "nps = prom_perc - detr_perc"
   ]
  },
  {
   "cell_type": "code",
   "execution_count": 24,
   "id": "ebd02785",
   "metadata": {},
   "outputs": [
    {
     "data": {
      "text/plain": [
       "0.2373607540702657"
      ]
     },
     "execution_count": 24,
     "metadata": {},
     "output_type": "execute_result"
    }
   ],
   "source": [
    "nps"
   ]
  },
  {
   "cell_type": "code",
   "execution_count": null,
   "id": "dff70bcb",
   "metadata": {},
   "outputs": [],
   "source": []
  },
  {
   "cell_type": "code",
   "execution_count": null,
   "id": "c2da6f0b",
   "metadata": {},
   "outputs": [],
   "source": []
  },
  {
   "cell_type": "code",
   "execution_count": null,
   "id": "5888a482",
   "metadata": {},
   "outputs": [],
   "source": []
  },
  {
   "cell_type": "code",
   "execution_count": 25,
   "id": "fe7ce80a",
   "metadata": {},
   "outputs": [],
   "source": [
    "#let discuss about the 2 dim arrays"
   ]
  },
  {
   "cell_type": "code",
   "execution_count": 26,
   "id": "2b1337dc",
   "metadata": {},
   "outputs": [
    {
     "data": {
      "text/plain": [
       "array([[1, 2, 3],\n",
       "       [4, 5, 6]])"
      ]
     },
     "execution_count": 26,
     "metadata": {},
     "output_type": "execute_result"
    }
   ],
   "source": [
    "np.array([[1,2,3],[4,5,6]])"
   ]
  },
  {
   "cell_type": "code",
   "execution_count": 27,
   "id": "6e91575c",
   "metadata": {},
   "outputs": [],
   "source": [
    "#the number of columns in each row should be equal."
   ]
  },
  {
   "cell_type": "code",
   "execution_count": 28,
   "id": "f1b8582b",
   "metadata": {},
   "outputs": [],
   "source": [
    "arr = np.array([[1,2,3],[4,5,6]])"
   ]
  },
  {
   "cell_type": "code",
   "execution_count": 29,
   "id": "903fd56f",
   "metadata": {},
   "outputs": [
    {
     "data": {
      "text/plain": [
       "2"
      ]
     },
     "execution_count": 29,
     "metadata": {},
     "output_type": "execute_result"
    }
   ],
   "source": [
    "arr.ndim"
   ]
  },
  {
   "cell_type": "code",
   "execution_count": 30,
   "id": "473c2c3f",
   "metadata": {},
   "outputs": [
    {
     "data": {
      "text/plain": [
       "(2, 3)"
      ]
     },
     "execution_count": 30,
     "metadata": {},
     "output_type": "execute_result"
    }
   ],
   "source": [
    "arr.shape"
   ]
  },
  {
   "cell_type": "code",
   "execution_count": 31,
   "id": "54a7b0e9",
   "metadata": {},
   "outputs": [
    {
     "data": {
      "text/plain": [
       "6"
      ]
     },
     "execution_count": 31,
     "metadata": {},
     "output_type": "execute_result"
    }
   ],
   "source": [
    "arr.size"
   ]
  },
  {
   "cell_type": "code",
   "execution_count": 32,
   "id": "2284f8e2",
   "metadata": {},
   "outputs": [],
   "source": [
    "#we will learn about the dimentions much depper when we learn about he concept of axies."
   ]
  },
  {
   "cell_type": "code",
   "execution_count": 33,
   "id": "27f3b51f",
   "metadata": {},
   "outputs": [],
   "source": [
    "#can we reshape the numpy array? yes we can"
   ]
  },
  {
   "cell_type": "code",
   "execution_count": 34,
   "id": "80b3b26c",
   "metadata": {},
   "outputs": [
    {
     "data": {
      "text/plain": [
       "array([[1, 2],\n",
       "       [3, 4],\n",
       "       [5, 6]])"
      ]
     },
     "execution_count": 34,
     "metadata": {},
     "output_type": "execute_result"
    }
   ],
   "source": [
    "arr.reshape((3,2))"
   ]
  },
  {
   "cell_type": "code",
   "execution_count": 35,
   "id": "8a90ac25",
   "metadata": {},
   "outputs": [],
   "source": [
    "#first it will convert all the data into 1 dimentional array, regardless of in which dimention it is in.\n",
    "# then it will convert into the given shape"
   ]
  },
  {
   "cell_type": "code",
   "execution_count": 36,
   "id": "3bd8568e",
   "metadata": {},
   "outputs": [
    {
     "data": {
      "text/plain": [
       "array([[1, 2],\n",
       "       [3, 4],\n",
       "       [5, 6]])"
      ]
     },
     "execution_count": 36,
     "metadata": {},
     "output_type": "execute_result"
    }
   ],
   "source": [
    "#let's say you don't know how many columns it takes for a valid rows, then you can just pass number of rows and -1 in number of col.\n",
    "arr.reshape((3,-1))"
   ]
  },
  {
   "cell_type": "code",
   "execution_count": 37,
   "id": "6b9f0459",
   "metadata": {},
   "outputs": [],
   "source": [
    "#it should be valid rows."
   ]
  },
  {
   "cell_type": "code",
   "execution_count": 38,
   "id": "24fd3288",
   "metadata": {},
   "outputs": [
    {
     "data": {
      "text/plain": [
       "array([[1],\n",
       "       [2],\n",
       "       [3],\n",
       "       [4],\n",
       "       [5],\n",
       "       [6]])"
      ]
     },
     "execution_count": 38,
     "metadata": {},
     "output_type": "execute_result"
    }
   ],
   "source": [
    "arr.reshape((6,1))"
   ]
  },
  {
   "cell_type": "code",
   "execution_count": 39,
   "id": "75dc8658",
   "metadata": {},
   "outputs": [
    {
     "data": {
      "text/plain": [
       "array([[1],\n",
       "       [2],\n",
       "       [3],\n",
       "       [4],\n",
       "       [5],\n",
       "       [6]])"
      ]
     },
     "execution_count": 39,
     "metadata": {},
     "output_type": "execute_result"
    }
   ],
   "source": [
    "arr.reshape((6,-1))"
   ]
  },
  {
   "cell_type": "code",
   "execution_count": 40,
   "id": "887183e1",
   "metadata": {},
   "outputs": [
    {
     "data": {
      "text/plain": [
       "array([[1, 2, 3, 4, 5, 6]])"
      ]
     },
     "execution_count": 40,
     "metadata": {},
     "output_type": "execute_result"
    }
   ],
   "source": [
    "arr.reshape((1,-1))"
   ]
  },
  {
   "cell_type": "code",
   "execution_count": 41,
   "id": "0bcda99e",
   "metadata": {},
   "outputs": [
    {
     "data": {
      "text/plain": [
       "array([[1, 2, 3, 4, 5, 6]])"
      ]
     },
     "execution_count": 41,
     "metadata": {},
     "output_type": "execute_result"
    }
   ],
   "source": [
    "arr.reshape((1,6))"
   ]
  },
  {
   "cell_type": "code",
   "execution_count": 42,
   "id": "c310f218",
   "metadata": {},
   "outputs": [],
   "source": [
    "a = np.arange(1,13).reshape((4,3))"
   ]
  },
  {
   "cell_type": "code",
   "execution_count": 43,
   "id": "b23cf13a",
   "metadata": {},
   "outputs": [
    {
     "data": {
      "text/plain": [
       "array([[ 1,  2,  3],\n",
       "       [ 4,  5,  6],\n",
       "       [ 7,  8,  9],\n",
       "       [10, 11, 12]])"
      ]
     },
     "execution_count": 43,
     "metadata": {},
     "output_type": "execute_result"
    }
   ],
   "source": [
    "a"
   ]
  },
  {
   "cell_type": "code",
   "execution_count": 44,
   "id": "0c6c4f34",
   "metadata": {},
   "outputs": [],
   "source": [
    "#see how easy to create an 2 dimentional array with elements certain range."
   ]
  },
  {
   "cell_type": "code",
   "execution_count": 45,
   "id": "96b7d439",
   "metadata": {},
   "outputs": [
    {
     "data": {
      "text/plain": [
       "array([[1, 2, 3],\n",
       "       [4, 5, 6]])"
      ]
     },
     "execution_count": 45,
     "metadata": {},
     "output_type": "execute_result"
    }
   ],
   "source": [
    "#well can we do negative indexing in the reshape for rows? yes we can.\n",
    "arr.reshape((-1,3))"
   ]
  },
  {
   "cell_type": "code",
   "execution_count": 46,
   "id": "bebc5462",
   "metadata": {},
   "outputs": [],
   "source": [
    "#so the number of rows will automatically selected."
   ]
  },
  {
   "cell_type": "code",
   "execution_count": 47,
   "id": "8bfdfa57",
   "metadata": {},
   "outputs": [],
   "source": [
    "#but you can't give both the values a negative values.\n",
    "#so it can deal with the one unknown dimention."
   ]
  },
  {
   "cell_type": "code",
   "execution_count": 48,
   "id": "522c6fb2",
   "metadata": {},
   "outputs": [],
   "source": [
    "#but where do we use this, later on we will be working with matrix, but you have to create a model which accepts the data in 1d\n",
    "#so you will do arr.reshape((1,-1))"
   ]
  },
  {
   "cell_type": "code",
   "execution_count": 49,
   "id": "0ea86401",
   "metadata": {},
   "outputs": [],
   "source": [
    "#so models will accepts only in 1dimentional format, but we can make it to accept more than that."
   ]
  },
  {
   "cell_type": "code",
   "execution_count": 50,
   "id": "29bb7e44",
   "metadata": {},
   "outputs": [
    {
     "ename": "TypeError",
     "evalue": "fill() takes exactly 1 argument (2 given)",
     "output_type": "error",
     "traceback": [
      "\u001b[1;31m---------------------------------------------------------------------------\u001b[0m",
      "\u001b[1;31mTypeError\u001b[0m                                 Traceback (most recent call last)",
      "Cell \u001b[1;32mIn [50], line 1\u001b[0m\n\u001b[1;32m----> 1\u001b[0m arr \u001b[38;5;241m=\u001b[39m \u001b[43marr\u001b[49m\u001b[38;5;241;43m.\u001b[39;49m\u001b[43mfill\u001b[49m\u001b[43m(\u001b[49m\u001b[43m(\u001b[49m\u001b[38;5;241;43m3\u001b[39;49m\u001b[43m,\u001b[49m\u001b[38;5;241;43m2\u001b[39;49m\u001b[43m)\u001b[49m\u001b[43m,\u001b[49m\u001b[38;5;241;43m5\u001b[39;49m\u001b[43m)\u001b[49m\n",
      "\u001b[1;31mTypeError\u001b[0m: fill() takes exactly 1 argument (2 given)"
     ]
    }
   ],
   "source": [
    "arr = arr.fill((3,2),5)"
   ]
  },
  {
   "cell_type": "code",
   "execution_count": 51,
   "id": "15b91843",
   "metadata": {},
   "outputs": [
    {
     "data": {
      "text/plain": [
       "array([[1, 2, 3],\n",
       "       [4, 5, 6]])"
      ]
     },
     "execution_count": 51,
     "metadata": {},
     "output_type": "execute_result"
    }
   ],
   "source": [
    "#can we transform this into some othere shape\n",
    "arr #2X3"
   ]
  },
  {
   "cell_type": "code",
   "execution_count": 52,
   "id": "47cf7491",
   "metadata": {},
   "outputs": [
    {
     "data": {
      "text/plain": [
       "array([[1, 4],\n",
       "       [2, 5],\n",
       "       [3, 6]])"
      ]
     },
     "execution_count": 52,
     "metadata": {},
     "output_type": "execute_result"
    }
   ],
   "source": [
    "arr.T #3X2"
   ]
  },
  {
   "cell_type": "code",
   "execution_count": 53,
   "id": "5d194251",
   "metadata": {},
   "outputs": [],
   "source": [
    "#but what will happen if we apply transform tha numpy array to 1 dim\n",
    "b = np.arange(1,9)"
   ]
  },
  {
   "cell_type": "code",
   "execution_count": 54,
   "id": "742210a7",
   "metadata": {},
   "outputs": [
    {
     "data": {
      "text/plain": [
       "array([1, 2, 3, 4, 5, 6, 7, 8])"
      ]
     },
     "execution_count": 54,
     "metadata": {},
     "output_type": "execute_result"
    }
   ],
   "source": [
    "b"
   ]
  },
  {
   "cell_type": "code",
   "execution_count": 55,
   "id": "f7544609",
   "metadata": {},
   "outputs": [
    {
     "data": {
      "text/plain": [
       "array([1, 2, 3, 4, 5, 6, 7, 8])"
      ]
     },
     "execution_count": 55,
     "metadata": {},
     "output_type": "execute_result"
    }
   ],
   "source": [
    "b.T"
   ]
  },
  {
   "cell_type": "code",
   "execution_count": 56,
   "id": "1d5abdc2",
   "metadata": {},
   "outputs": [],
   "source": [
    "#but look at  this.\n",
    "c = np.array([list(range(1,12))])"
   ]
  },
  {
   "cell_type": "code",
   "execution_count": 57,
   "id": "3ba1b3a3",
   "metadata": {},
   "outputs": [
    {
     "data": {
      "text/plain": [
       "array([[ 1,  2,  3,  4,  5,  6,  7,  8,  9, 10, 11]])"
      ]
     },
     "execution_count": 57,
     "metadata": {},
     "output_type": "execute_result"
    }
   ],
   "source": [
    "c\n",
    "#look carefully it is not a 1 dimentional array, it is a 2 dim array 1X12"
   ]
  },
  {
   "cell_type": "code",
   "execution_count": 58,
   "id": "291dfdf1",
   "metadata": {},
   "outputs": [
    {
     "data": {
      "text/plain": [
       "array([[ 1],\n",
       "       [ 2],\n",
       "       [ 3],\n",
       "       [ 4],\n",
       "       [ 5],\n",
       "       [ 6],\n",
       "       [ 7],\n",
       "       [ 8],\n",
       "       [ 9],\n",
       "       [10],\n",
       "       [11]])"
      ]
     },
     "execution_count": 58,
     "metadata": {},
     "output_type": "execute_result"
    }
   ],
   "source": [
    "c.T # now it is 12X1 12 rows with 1column"
   ]
  },
  {
   "cell_type": "code",
   "execution_count": 59,
   "id": "ab9b1029",
   "metadata": {},
   "outputs": [],
   "source": [
    "#how can i convert any ddimentional array to 1 dimentional array\n",
    "a = np.arange(1,16).reshape((3,5))"
   ]
  },
  {
   "cell_type": "code",
   "execution_count": 60,
   "id": "7f4d7033",
   "metadata": {},
   "outputs": [
    {
     "data": {
      "text/plain": [
       "array([[ 1,  2,  3,  4,  5],\n",
       "       [ 6,  7,  8,  9, 10],\n",
       "       [11, 12, 13, 14, 15]])"
      ]
     },
     "execution_count": 60,
     "metadata": {},
     "output_type": "execute_result"
    }
   ],
   "source": [
    "a"
   ]
  },
  {
   "cell_type": "code",
   "execution_count": 61,
   "id": "0a643d5a",
   "metadata": {},
   "outputs": [
    {
     "data": {
      "text/plain": [
       "array([ 1,  2,  3,  4,  5,  6,  7,  8,  9, 10, 11, 12, 13, 14, 15])"
      ]
     },
     "execution_count": 61,
     "metadata": {},
     "output_type": "execute_result"
    }
   ],
   "source": [
    "#here is how\n",
    "a.reshape((1,-1))[0]"
   ]
  },
  {
   "cell_type": "code",
   "execution_count": 62,
   "id": "5cf96734",
   "metadata": {},
   "outputs": [],
   "source": [
    "#now you got the 1 dimentional array"
   ]
  },
  {
   "cell_type": "code",
   "execution_count": 63,
   "id": "1789de98",
   "metadata": {},
   "outputs": [
    {
     "data": {
      "text/plain": [
       "array([ 1,  2,  3,  4,  5,  6,  7,  8,  9, 10, 11, 12, 13, 14, 15])"
      ]
     },
     "execution_count": 63,
     "metadata": {},
     "output_type": "execute_result"
    }
   ],
   "source": [
    "#but is there a short form for this\n",
    "a.flatten()"
   ]
  },
  {
   "cell_type": "code",
   "execution_count": 64,
   "id": "76c272c0",
   "metadata": {},
   "outputs": [],
   "source": [
    "#the method flatten will cconvert any dimentional array to 1 dimentional array"
   ]
  },
  {
   "cell_type": "code",
   "execution_count": 65,
   "id": "d5e9dbed",
   "metadata": {},
   "outputs": [],
   "source": [
    "#accessing an element from a two dimentional array."
   ]
  },
  {
   "cell_type": "code",
   "execution_count": 66,
   "id": "2d7a5e48",
   "metadata": {},
   "outputs": [
    {
     "data": {
      "text/plain": [
       "array([[ 1,  2,  3,  4,  5],\n",
       "       [ 6,  7,  8,  9, 10],\n",
       "       [11, 12, 13, 14, 15]])"
      ]
     },
     "execution_count": 66,
     "metadata": {},
     "output_type": "execute_result"
    }
   ],
   "source": [
    "a"
   ]
  },
  {
   "cell_type": "code",
   "execution_count": 67,
   "id": "8e5459b2",
   "metadata": {},
   "outputs": [
    {
     "data": {
      "text/plain": [
       "12"
      ]
     },
     "execution_count": 67,
     "metadata": {},
     "output_type": "execute_result"
    }
   ],
   "source": [
    "#how to use second element in third row\n",
    "a[2][1]"
   ]
  },
  {
   "cell_type": "code",
   "execution_count": 68,
   "id": "b98a93c6",
   "metadata": {},
   "outputs": [],
   "source": [
    "#well it is easy, same like python but it is not a recommanded.\n",
    "#then what is recommended, and why?"
   ]
  },
  {
   "cell_type": "code",
   "execution_count": 69,
   "id": "b16a1270",
   "metadata": {},
   "outputs": [
    {
     "data": {
      "text/plain": [
       "12"
      ]
     },
     "execution_count": 69,
     "metadata": {},
     "output_type": "execute_result"
    }
   ],
   "source": [
    "a[2][1] #is a two step process even in numpy."
   ]
  },
  {
   "cell_type": "code",
   "execution_count": 71,
   "id": "0f22830f",
   "metadata": {},
   "outputs": [
    {
     "data": {
      "text/plain": [
       "12"
      ]
     },
     "execution_count": 71,
     "metadata": {},
     "output_type": "execute_result"
    }
   ],
   "source": [
    "a[2,1] #this is a single step process. and it is a single value --> directly."
   ]
  },
  {
   "cell_type": "code",
   "execution_count": 72,
   "id": "1d2501a2",
   "metadata": {},
   "outputs": [],
   "source": [
    "#but is negative is possible with this notation"
   ]
  },
  {
   "cell_type": "code",
   "execution_count": 73,
   "id": "06afaa8a",
   "metadata": {},
   "outputs": [
    {
     "data": {
      "text/plain": [
       "12"
      ]
     },
     "execution_count": 73,
     "metadata": {},
     "output_type": "execute_result"
    }
   ],
   "source": [
    "#second element from last row\n",
    "a[-1,1]"
   ]
  },
  {
   "cell_type": "code",
   "execution_count": 74,
   "id": "e2612840",
   "metadata": {},
   "outputs": [],
   "source": [
    "#see it exits."
   ]
  },
  {
   "cell_type": "code",
   "execution_count": 75,
   "id": "712b4e14",
   "metadata": {},
   "outputs": [
    {
     "name": "stdout",
     "output_type": "stream",
     "text": [
      "Available Themes: \n",
      "   chesterish\n",
      "   grade3\n",
      "   gruvboxd\n",
      "   gruvboxl\n",
      "   monokai\n",
      "   oceans16\n",
      "   onedork\n",
      "   solarizedd\n",
      "   solarizedl\n"
     ]
    }
   ],
   "source": [
    "!jt -l"
   ]
  },
  {
   "cell_type": "code",
   "execution_count": 77,
   "id": "0da10223",
   "metadata": {},
   "outputs": [],
   "source": [
    "!jt -t solarizedd"
   ]
  },
  {
   "cell_type": "code",
   "execution_count": 78,
   "id": "9220e982",
   "metadata": {
    "scrolled": true
   },
   "outputs": [
    {
     "name": "stderr",
     "output_type": "stream",
     "text": [
      "usage: jt [-h] [-l] [-t THEME] [-f MONOFONT] [-fs MONOSIZE] [-nf NBFONT]\n",
      "          [-nfs NBFONTSIZE] [-tf TCFONT] [-tfs TCFONTSIZE] [-dfs DFFONTSIZE]\n",
      "          [-ofs OUTFONTSIZE] [-mathfs MATHFONTSIZE] [-m MARGINS]\n",
      "          [-cursw CURSORWIDTH] [-cursc CURSORCOLOR] [-cellw CELLWIDTH]\n",
      "          [-lineh LINEHEIGHT] [-altp] [-altmd] [-altout] [-P] [-T] [-N] [-kl]\n",
      "          [-vim] [-r] [-dfonts]\n",
      "jt: error: unrecognized arguments: nfs 16\n"
     ]
    }
   ],
   "source": [
    "!jt nfs 16"
   ]
  },
  {
   "cell_type": "code",
   "execution_count": 79,
   "id": "efe9cf07",
   "metadata": {},
   "outputs": [
    {
     "name": "stderr",
     "output_type": "stream",
     "text": [
      "usage: jt [-h] [-l] [-t THEME] [-f MONOFONT] [-fs MONOSIZE] [-nf NBFONT]\n",
      "          [-nfs NBFONTSIZE] [-tf TCFONT] [-tfs TCFONTSIZE] [-dfs DFFONTSIZE]\n",
      "          [-ofs OUTFONTSIZE] [-mathfs MATHFONTSIZE] [-m MARGINS]\n",
      "          [-cursw CURSORWIDTH] [-cursc CURSORCOLOR] [-cellw CELLWIDTH]\n",
      "          [-lineh LINEHEIGHT] [-altp] [-altmd] [-altout] [-P] [-T] [-N] [-kl]\n",
      "          [-vim] [-r] [-dfonts]\n",
      "jt: error: unrecognized arguments: nfs 18\n"
     ]
    }
   ],
   "source": [
    "!jt nfs 18"
   ]
  },
  {
   "cell_type": "code",
   "execution_count": 84,
   "id": "48a2e8ef",
   "metadata": {},
   "outputs": [],
   "source": [
    "!jt -nfs 20"
   ]
  },
  {
   "cell_type": "code",
   "execution_count": 86,
   "id": "3cbbfdc4",
   "metadata": {},
   "outputs": [],
   "source": [
    "!jt -t onedork -f roboto -fs 16"
   ]
  },
  {
   "cell_type": "code",
   "execution_count": 87,
   "id": "c10069f2",
   "metadata": {},
   "outputs": [],
   "source": [
    "#back to numpy\n",
    "#print all the rows and columsn"
   ]
  },
  {
   "cell_type": "code",
   "execution_count": 88,
   "id": "96206565",
   "metadata": {},
   "outputs": [
    {
     "data": {
      "text/plain": [
       "array([[ 1,  2,  3,  4,  5],\n",
       "       [ 6,  7,  8,  9, 10],\n",
       "       [11, 12, 13, 14, 15]])"
      ]
     },
     "execution_count": 88,
     "metadata": {},
     "output_type": "execute_result"
    }
   ],
   "source": [
    "a[:,:]"
   ]
  },
  {
   "cell_type": "code",
   "execution_count": 89,
   "id": "4cc90b74",
   "metadata": {},
   "outputs": [
    {
     "data": {
      "text/plain": [
       "array([[ 2,  3,  4],\n",
       "       [ 7,  8,  9],\n",
       "       [12, 13, 14]])"
      ]
     },
     "execution_count": 89,
     "metadata": {},
     "output_type": "execute_result"
    }
   ],
   "source": [
    "a[:,1:4]"
   ]
  },
  {
   "cell_type": "code",
   "execution_count": 91,
   "id": "536956aa",
   "metadata": {},
   "outputs": [
    {
     "data": {
      "text/plain": [
       "array([[ 1,  3,  5],\n",
       "       [ 6,  8, 10],\n",
       "       [11, 13, 15]])"
      ]
     },
     "execution_count": 91,
     "metadata": {},
     "output_type": "execute_result"
    }
   ],
   "source": [
    "a[:,::2] #get all the values from first columns with step size of 2, for all the rows"
   ]
  },
  {
   "cell_type": "code",
   "execution_count": 92,
   "id": "8f280aef",
   "metadata": {},
   "outputs": [
    {
     "data": {
      "text/plain": [
       "array([[ 5,  4,  3,  2,  1],\n",
       "       [10,  9,  8,  7,  6],\n",
       "       [15, 14, 13, 12, 11]])"
      ]
     },
     "execution_count": 92,
     "metadata": {},
     "output_type": "execute_result"
    }
   ],
   "source": [
    "#but i want all the elements should print in reverse order in theire respective rows\n",
    "a[:,::-1]"
   ]
  },
  {
   "cell_type": "code",
   "execution_count": 93,
   "id": "b88d1dc4",
   "metadata": {},
   "outputs": [],
   "source": [
    "#see how cool is this."
   ]
  },
  {
   "cell_type": "code",
   "execution_count": 94,
   "id": "8eccd0e8",
   "metadata": {},
   "outputs": [
    {
     "data": {
      "text/plain": [
       "array([[15, 14, 13, 12, 11],\n",
       "       [10,  9,  8,  7,  6],\n",
       "       [ 5,  4,  3,  2,  1]])"
      ]
     },
     "execution_count": 94,
     "metadata": {},
     "output_type": "execute_result"
    }
   ],
   "source": [
    "a[::-1,::-1]"
   ]
  },
  {
   "cell_type": "code",
   "execution_count": 95,
   "id": "ec6a8335",
   "metadata": {},
   "outputs": [
    {
     "data": {
      "text/plain": [
       "array([[ 1,  6, 11],\n",
       "       [ 2,  7, 12],\n",
       "       [ 3,  8, 13],\n",
       "       [ 4,  9, 14],\n",
       "       [ 5, 10, 15]])"
      ]
     },
     "execution_count": 95,
     "metadata": {},
     "output_type": "execute_result"
    }
   ],
   "source": [
    "a.T"
   ]
  },
  {
   "cell_type": "code",
   "execution_count": 96,
   "id": "8455ceef",
   "metadata": {},
   "outputs": [
    {
     "data": {
      "text/plain": [
       "array([[ 1,  2,  3,  4,  5],\n",
       "       [ 6,  7,  8,  9, 10],\n",
       "       [11, 12, 13, 14, 15]])"
      ]
     },
     "execution_count": 96,
     "metadata": {},
     "output_type": "execute_result"
    }
   ],
   "source": [
    "a"
   ]
  },
  {
   "cell_type": "code",
   "execution_count": 97,
   "id": "9861d86b",
   "metadata": {},
   "outputs": [
    {
     "data": {
      "text/plain": [
       "array([[11,  6,  1],\n",
       "       [12,  7,  2],\n",
       "       [13,  8,  3],\n",
       "       [14,  9,  4],\n",
       "       [15, 10,  5]])"
      ]
     },
     "execution_count": 97,
     "metadata": {},
     "output_type": "execute_result"
    }
   ],
   "source": [
    "a.T[:,::-1]"
   ]
  },
  {
   "cell_type": "code",
   "execution_count": 98,
   "id": "be98f512",
   "metadata": {},
   "outputs": [],
   "source": [
    "#see how cool is this operations."
   ]
  },
  {
   "cell_type": "code",
   "execution_count": 99,
   "id": "1280fda6",
   "metadata": {},
   "outputs": [],
   "source": [
    "#lets look at the fancy inddexing in the 2D array"
   ]
  },
  {
   "cell_type": "code",
   "execution_count": 103,
   "id": "aec3f809",
   "metadata": {},
   "outputs": [
    {
     "data": {
      "text/plain": [
       "array([[ True,  True,  True,  True,  True],\n",
       "       [ True, False, False, False, False],\n",
       "       [False, False, False, False, False]])"
      ]
     },
     "execution_count": 103,
     "metadata": {},
     "output_type": "execute_result"
    }
   ],
   "source": [
    "#lets get all the vales as true which are less than 7\n",
    "a<7 #it is going to be a same shape as a"
   ]
  },
  {
   "cell_type": "code",
   "execution_count": 104,
   "id": "f948749a",
   "metadata": {},
   "outputs": [
    {
     "data": {
      "text/plain": [
       "array([1, 2, 3, 4, 5, 6])"
      ]
     },
     "execution_count": 104,
     "metadata": {},
     "output_type": "execute_result"
    }
   ],
   "source": [
    "a[a<7] #we get in a 1d, a result after we appplied mask will always a 1d, think why? --> hint output is variable"
   ]
  },
  {
   "cell_type": "code",
   "execution_count": 105,
   "id": "097af714",
   "metadata": {},
   "outputs": [],
   "source": [
    "#hey we have worked on axis but they are still in confusion. "
   ]
  },
  {
   "cell_type": "code",
   "execution_count": 106,
   "id": "552376a5",
   "metadata": {},
   "outputs": [],
   "source": [
    "#lets use universal funtion to help us the concept."
   ]
  },
  {
   "cell_type": "code",
   "execution_count": 107,
   "id": "7a83d7c4",
   "metadata": {},
   "outputs": [
    {
     "data": {
      "text/plain": [
       "array([[ 1,  2,  3,  4,  5],\n",
       "       [ 6,  7,  8,  9, 10],\n",
       "       [11, 12, 13, 14, 15]])"
      ]
     },
     "execution_count": 107,
     "metadata": {},
     "output_type": "execute_result"
    }
   ],
   "source": [
    "a"
   ]
  },
  {
   "cell_type": "code",
   "execution_count": 108,
   "id": "c730cc33",
   "metadata": {},
   "outputs": [
    {
     "data": {
      "text/plain": [
       "120"
      ]
     },
     "execution_count": 108,
     "metadata": {},
     "output_type": "execute_result"
    }
   ],
   "source": [
    "np.sum(a) #by default the parameter axis is None"
   ]
  },
  {
   "cell_type": "code",
   "execution_count": 109,
   "id": "3c2d54ec",
   "metadata": {},
   "outputs": [],
   "source": [
    "#simply it returns sum of all the elements in the 2d array."
   ]
  },
  {
   "cell_type": "code",
   "execution_count": 110,
   "id": "7452ca37",
   "metadata": {},
   "outputs": [],
   "source": [
    "#in 2dimentional numpy array we can have only 2 axis\n",
    "#axis 0\n",
    "#axis 1"
   ]
  },
  {
   "cell_type": "code",
   "execution_count": 111,
   "id": "b7b7405d",
   "metadata": {},
   "outputs": [],
   "source": [
    "#first remember this\n",
    "#When you do opearations in vertical directions then use axis = 0\n",
    "#when you do opeartions or changes in horizontal direction then use axis = 1 "
   ]
  },
  {
   "cell_type": "code",
   "execution_count": 112,
   "id": "7eb6c0fb",
   "metadata": {},
   "outputs": [
    {
     "data": {
      "text/plain": [
       "array([18, 21, 24, 27, 30])"
      ]
     },
     "execution_count": 112,
     "metadata": {},
     "output_type": "execute_result"
    }
   ],
   "source": [
    "#now lets do\n",
    "np.sum(a,axis=0)"
   ]
  },
  {
   "cell_type": "code",
   "execution_count": 113,
   "id": "ae06b907",
   "metadata": {},
   "outputs": [
    {
     "data": {
      "text/plain": [
       "array([[ 1,  2,  3,  4,  5],\n",
       "       [ 6,  7,  8,  9, 10],\n",
       "       [11, 12, 13, 14, 15]])"
      ]
     },
     "execution_count": 113,
     "metadata": {},
     "output_type": "execute_result"
    }
   ],
   "source": [
    "a"
   ]
  },
  {
   "cell_type": "code",
   "execution_count": 114,
   "id": "d1ef895f",
   "metadata": {},
   "outputs": [],
   "source": [
    "#1 + 6 + 11 --> 18\n",
    "#2 + 7 + 12 --> 21\n",
    "#3 + 8 + 13 --> 24\n",
    "#4 + 9 + 14 --> 27\n",
    "#5 + 10 + 15--> 30"
   ]
  },
  {
   "cell_type": "code",
   "execution_count": 115,
   "id": "935d06fc",
   "metadata": {},
   "outputs": [
    {
     "data": {
      "text/plain": [
       "array([15, 40, 65])"
      ]
     },
     "execution_count": 115,
     "metadata": {},
     "output_type": "execute_result"
    }
   ],
   "source": [
    "np.sum(a,axis=1)"
   ]
  },
  {
   "cell_type": "code",
   "execution_count": 116,
   "id": "b8fd2d11",
   "metadata": {},
   "outputs": [],
   "source": [
    "a= [[[1,2,3],[4,5,6],[7,8,9]],[[10,11,12],[13,14,15],[16,17,18]],[[19,20,21],[22,23,24],[25,26,27]]]"
   ]
  },
  {
   "cell_type": "code",
   "execution_count": 118,
   "id": "ca63173f",
   "metadata": {},
   "outputs": [],
   "source": [
    "a = np.array(a)"
   ]
  },
  {
   "cell_type": "code",
   "execution_count": 119,
   "id": "30e0cc3a",
   "metadata": {},
   "outputs": [
    {
     "data": {
      "text/plain": [
       "3"
      ]
     },
     "execution_count": 119,
     "metadata": {},
     "output_type": "execute_result"
    }
   ],
   "source": [
    "a.ndim"
   ]
  },
  {
   "cell_type": "code",
   "execution_count": 123,
   "id": "1798bc33",
   "metadata": {},
   "outputs": [
    {
     "data": {
      "text/plain": [
       "array([[[ 1,  2,  3],\n",
       "        [ 4,  5,  6],\n",
       "        [ 7,  8,  9]],\n",
       "\n",
       "       [[10, 11, 12],\n",
       "        [13, 14, 15],\n",
       "        [16, 17, 18]],\n",
       "\n",
       "       [[19, 20, 21],\n",
       "        [22, 23, 24],\n",
       "        [25, 26, 27]]])"
      ]
     },
     "execution_count": 123,
     "metadata": {},
     "output_type": "execute_result"
    }
   ],
   "source": [
    "a"
   ]
  },
  {
   "cell_type": "code",
   "execution_count": 120,
   "id": "e15b50c0",
   "metadata": {},
   "outputs": [],
   "source": [
    "#now we are dealing with  3 dimetional array"
   ]
  },
  {
   "cell_type": "code",
   "execution_count": 121,
   "id": "7720ae68",
   "metadata": {},
   "outputs": [
    {
     "data": {
      "text/plain": [
       "378"
      ]
     },
     "execution_count": 121,
     "metadata": {},
     "output_type": "execute_result"
    }
   ],
   "source": [
    "np.sum(a)"
   ]
  },
  {
   "cell_type": "code",
   "execution_count": 127,
   "id": "ccc49f4f",
   "metadata": {},
   "outputs": [
    {
     "data": {
      "text/plain": [
       "array([[30, 33, 36],\n",
       "       [39, 42, 45],\n",
       "       [48, 51, 54]])"
      ]
     },
     "execution_count": 127,
     "metadata": {},
     "output_type": "execute_result"
    }
   ],
   "source": [
    "np.sum(a,axis=0) #Vertical"
   ]
  },
  {
   "cell_type": "code",
   "execution_count": 128,
   "id": "5abc1eb5",
   "metadata": {},
   "outputs": [
    {
     "data": {
      "text/plain": [
       "array([[12, 15, 18],\n",
       "       [39, 42, 45],\n",
       "       [66, 69, 72]])"
      ]
     },
     "execution_count": 128,
     "metadata": {},
     "output_type": "execute_result"
    }
   ],
   "source": [
    "np.sum(a,axis=1) #Horizontal"
   ]
  },
  {
   "cell_type": "code",
   "execution_count": 129,
   "id": "aca55e75",
   "metadata": {},
   "outputs": [
    {
     "data": {
      "text/plain": [
       "array([[ 6, 15, 24],\n",
       "       [33, 42, 51],\n",
       "       [60, 69, 78]])"
      ]
     },
     "execution_count": 129,
     "metadata": {},
     "output_type": "execute_result"
    }
   ],
   "source": [
    "np.sum(a,axis=2) #Depth"
   ]
  },
  {
   "cell_type": "code",
   "execution_count": null,
   "id": "07785fa2",
   "metadata": {},
   "outputs": [],
   "source": []
  }
 ],
 "metadata": {
  "kernelspec": {
   "display_name": "Python 3 (ipykernel)",
   "language": "python",
   "name": "python3"
  },
  "language_info": {
   "codemirror_mode": {
    "name": "ipython",
    "version": 3
   },
   "file_extension": ".py",
   "mimetype": "text/x-python",
   "name": "python",
   "nbconvert_exporter": "python",
   "pygments_lexer": "ipython3",
   "version": "3.9.10"
  }
 },
 "nbformat": 4,
 "nbformat_minor": 5
}
