{
 "cells": [
  {
   "cell_type": "code",
   "execution_count": 1,
   "id": "15bd943d",
   "metadata": {},
   "outputs": [],
   "source": [
    "#today we are going to work on fiirbt data."
   ]
  },
  {
   "cell_type": "code",
   "execution_count": 2,
   "id": "08ca39b0",
   "metadata": {},
   "outputs": [],
   "source": [
    "#okay we have seen how to convert a list into numpy array and we have also seen how to create a numpy array with predefined value.\n",
    "#but what about if we want to create a empty numpy array"
   ]
  },
  {
   "cell_type": "code",
   "execution_count": 4,
   "id": "324c007b",
   "metadata": {},
   "outputs": [],
   "source": [
    "import numpy as np"
   ]
  },
  {
   "cell_type": "code",
   "execution_count": 7,
   "id": "6797fe9b",
   "metadata": {},
   "outputs": [
    {
     "data": {
      "text/plain": [
       "array(['', '', '', '', '', '', '', ''], dtype='<U21')"
      ]
     },
     "execution_count": 7,
     "metadata": {},
     "output_type": "execute_result"
    }
   ],
   "source": [
    "np.empty((8,),dtype = 'U21')"
   ]
  },
  {
   "cell_type": "code",
   "execution_count": 9,
   "id": "d44c814d",
   "metadata": {},
   "outputs": [],
   "source": [
    "e = np.empty((10,),dtype='U21')"
   ]
  },
  {
   "cell_type": "code",
   "execution_count": 10,
   "id": "ba0aa805",
   "metadata": {},
   "outputs": [
    {
     "data": {
      "text/plain": [
       "(10,)"
      ]
     },
     "execution_count": 10,
     "metadata": {},
     "output_type": "execute_result"
    }
   ],
   "source": [
    "e.shape"
   ]
  },
  {
   "cell_type": "code",
   "execution_count": 11,
   "id": "acba513d",
   "metadata": {},
   "outputs": [
    {
     "data": {
      "text/plain": [
       "''"
      ]
     },
     "execution_count": 11,
     "metadata": {},
     "output_type": "execute_result"
    }
   ],
   "source": [
    "e[0]"
   ]
  },
  {
   "cell_type": "code",
   "execution_count": 17,
   "id": "33c86c17",
   "metadata": {},
   "outputs": [],
   "source": [
    "#now lets import the airbnb data\n",
    "path = 'Numpy_2/survey.txt'"
   ]
  },
  {
   "cell_type": "code",
   "execution_count": 18,
   "id": "bcc63637",
   "metadata": {},
   "outputs": [],
   "source": [
    "data = np.loadtxt(path)"
   ]
  },
  {
   "cell_type": "code",
   "execution_count": 19,
   "id": "837d7e63",
   "metadata": {},
   "outputs": [
    {
     "data": {
      "text/plain": [
       "(1167,)"
      ]
     },
     "execution_count": 19,
     "metadata": {},
     "output_type": "execute_result"
    }
   ],
   "source": [
    "data.shape"
   ]
  },
  {
   "cell_type": "code",
   "execution_count": 28,
   "id": "3cd77ed9",
   "metadata": {},
   "outputs": [],
   "source": [
    "#now create a numpy array empty\n",
    "result = np.empty(shape = data.shape, dtype = 'U21') #U21 - >unicde with 21bytes"
   ]
  },
  {
   "cell_type": "code",
   "execution_count": 29,
   "id": "2dd02338",
   "metadata": {},
   "outputs": [
    {
     "data": {
      "text/plain": [
       "array(['', '', '', ..., '', '', ''], dtype='<U21')"
      ]
     },
     "execution_count": 29,
     "metadata": {},
     "output_type": "execute_result"
    }
   ],
   "source": [
    "result"
   ]
  },
  {
   "cell_type": "code",
   "execution_count": 30,
   "id": "c06c5c08",
   "metadata": {},
   "outputs": [
    {
     "data": {
      "text/plain": [
       "array([ 7., 10.,  5., ...,  5.,  9., 10.])"
      ]
     },
     "execution_count": 30,
     "metadata": {},
     "output_type": "execute_result"
    }
   ],
   "source": [
    "data"
   ]
  },
  {
   "cell_type": "code",
   "execution_count": 31,
   "id": "d5c4cf56",
   "metadata": {},
   "outputs": [],
   "source": [
    "#now lets fill all the vvalues less than 7 with word detractors\n",
    "#above 8 as pramotors\n",
    "#inbetween passive"
   ]
  },
  {
   "cell_type": "code",
   "execution_count": 32,
   "id": "8a0e04df",
   "metadata": {},
   "outputs": [],
   "source": [
    "mask1 = data<7\n",
    "mask2= (data>=7) & (data<=8)\n",
    "mask3 = data>8"
   ]
  },
  {
   "cell_type": "code",
   "execution_count": 33,
   "id": "441ad6af",
   "metadata": {},
   "outputs": [],
   "source": [
    "result[mask1] = 'Detractors'\n",
    "result[mask2] = 'Passive'\n",
    "result[mask3] = 'Pramotors'"
   ]
  },
  {
   "cell_type": "code",
   "execution_count": 34,
   "id": "e01e67d2",
   "metadata": {},
   "outputs": [
    {
     "data": {
      "text/plain": [
       "array(['Passive', 'Pramotors', 'Detractors', ..., 'Detractors',\n",
       "       'Pramotors', 'Pramotors'], dtype='<U21')"
      ]
     },
     "execution_count": 34,
     "metadata": {},
     "output_type": "execute_result"
    }
   ],
   "source": [
    "result"
   ]
  },
  {
   "cell_type": "code",
   "execution_count": 36,
   "id": "e87870f9",
   "metadata": {},
   "outputs": [],
   "source": [
    "#see how cool is that.\n",
    "#and the best part is previously we have like 10 different datas, now we have only 3 type of data."
   ]
  },
  {
   "cell_type": "code",
   "execution_count": 37,
   "id": "4ac81809",
   "metadata": {},
   "outputs": [
    {
     "data": {
      "text/plain": [
       "array(['Detractors', 'Passive', 'Pramotors'], dtype='<U21')"
      ]
     },
     "execution_count": 37,
     "metadata": {},
     "output_type": "execute_result"
    }
   ],
   "source": [
    "#but is there a way to find out how many unique values we have in the array? yes\n",
    "np.unique(result)"
   ]
  },
  {
   "cell_type": "code",
   "execution_count": 38,
   "id": "d4f818a8",
   "metadata": {},
   "outputs": [
    {
     "data": {
      "text/plain": [
       "array([ 1.,  4.,  5.,  7.,  8.,  9., 10.])"
      ]
     },
     "execution_count": 38,
     "metadata": {},
     "output_type": "execute_result"
    }
   ],
   "source": [
    "np.unique(data)"
   ]
  },
  {
   "cell_type": "code",
   "execution_count": 39,
   "id": "20e42a61",
   "metadata": {},
   "outputs": [
    {
     "data": {
      "text/plain": [
       "(array(['Detractors', 'Passive', 'Pramotors'], dtype='<U21'),\n",
       " array([332, 226, 609], dtype=int64))"
      ]
     },
     "execution_count": 39,
     "metadata": {},
     "output_type": "execute_result"
    }
   ],
   "source": [
    "#but there is another cool parameter in this unique method, which gives the frequencies of each type\n",
    "np.unique(result,return_counts=True)"
   ]
  },
  {
   "cell_type": "code",
   "execution_count": 45,
   "id": "da2009ea",
   "metadata": {},
   "outputs": [],
   "source": [
    "#now lets create the pramotors percentages and detractors percentages\n",
    "prom_perc = len(result[result=='Pramotors'])/data.shape[0]\n",
    "detr_perc = len(result[result=='Detractors'])/data.shape[0]"
   ]
  },
  {
   "cell_type": "code",
   "execution_count": 46,
   "id": "5f98f686",
   "metadata": {},
   "outputs": [],
   "source": [
    "#now lets calcullate the net pramotors score\n",
    "nps = prom_perc - detr_perc"
   ]
  },
  {
   "cell_type": "code",
   "execution_count": 47,
   "id": "7667c8c5",
   "metadata": {},
   "outputs": [
    {
     "data": {
      "text/plain": [
       "0.2373607540702657"
      ]
     },
     "execution_count": 47,
     "metadata": {},
     "output_type": "execute_result"
    }
   ],
   "source": [
    "nps"
   ]
  },
  {
   "cell_type": "code",
   "execution_count": null,
   "id": "3c70ed3f",
   "metadata": {},
   "outputs": [],
   "source": []
  },
  {
   "cell_type": "code",
   "execution_count": null,
   "id": "5cb7bc8b",
   "metadata": {},
   "outputs": [],
   "source": []
  },
  {
   "cell_type": "code",
   "execution_count": null,
   "id": "e4013e83",
   "metadata": {},
   "outputs": [],
   "source": []
  },
  {
   "cell_type": "code",
   "execution_count": 48,
   "id": "1cc18f6a",
   "metadata": {},
   "outputs": [],
   "source": [
    "#let discuss about the 2 dim arrays"
   ]
  },
  {
   "cell_type": "code",
   "execution_count": 49,
   "id": "de5ac9c2",
   "metadata": {},
   "outputs": [
    {
     "data": {
      "text/plain": [
       "array([[1, 2, 3],\n",
       "       [4, 5, 6]])"
      ]
     },
     "execution_count": 49,
     "metadata": {},
     "output_type": "execute_result"
    }
   ],
   "source": [
    "np.array([[1,2,3],[4,5,6]])"
   ]
  },
  {
   "cell_type": "code",
   "execution_count": 50,
   "id": "0366fa6d",
   "metadata": {},
   "outputs": [],
   "source": [
    "#the number of columns in each row should be equal."
   ]
  },
  {
   "cell_type": "code",
   "execution_count": 51,
   "id": "3137eded",
   "metadata": {},
   "outputs": [],
   "source": [
    "arr = np.array([[1,2,3],[4,5,6]])"
   ]
  },
  {
   "cell_type": "code",
   "execution_count": 52,
   "id": "14c4727d",
   "metadata": {},
   "outputs": [
    {
     "data": {
      "text/plain": [
       "2"
      ]
     },
     "execution_count": 52,
     "metadata": {},
     "output_type": "execute_result"
    }
   ],
   "source": [
    "arr.ndim"
   ]
  },
  {
   "cell_type": "code",
   "execution_count": 53,
   "id": "60af1d77",
   "metadata": {},
   "outputs": [
    {
     "data": {
      "text/plain": [
       "(2, 3)"
      ]
     },
     "execution_count": 53,
     "metadata": {},
     "output_type": "execute_result"
    }
   ],
   "source": [
    "arr.shape"
   ]
  },
  {
   "cell_type": "code",
   "execution_count": 54,
   "id": "4e563184",
   "metadata": {},
   "outputs": [
    {
     "data": {
      "text/plain": [
       "6"
      ]
     },
     "execution_count": 54,
     "metadata": {},
     "output_type": "execute_result"
    }
   ],
   "source": [
    "arr.size"
   ]
  },
  {
   "cell_type": "code",
   "execution_count": 55,
   "id": "0b0957e1",
   "metadata": {},
   "outputs": [],
   "source": [
    "#we will learn about the dimentions much depper when we learn about he concept of axies."
   ]
  },
  {
   "cell_type": "code",
   "execution_count": 56,
   "id": "e27c7c8f",
   "metadata": {},
   "outputs": [],
   "source": [
    "#can we reshape the numpy array? yes we can"
   ]
  },
  {
   "cell_type": "code",
   "execution_count": 57,
   "id": "bcd56c2c",
   "metadata": {},
   "outputs": [
    {
     "data": {
      "text/plain": [
       "array([[1, 2],\n",
       "       [3, 4],\n",
       "       [5, 6]])"
      ]
     },
     "execution_count": 57,
     "metadata": {},
     "output_type": "execute_result"
    }
   ],
   "source": [
    "arr.reshape((3,2))"
   ]
  },
  {
   "cell_type": "code",
   "execution_count": 58,
   "id": "073c4b1d",
   "metadata": {},
   "outputs": [],
   "source": [
    "#first it will convert all the data into 1 dimentional array, regardless of in which dimention it is in.\n",
    "# then it will convert into the given shape"
   ]
  },
  {
   "cell_type": "code",
   "execution_count": 60,
   "id": "4025a11b",
   "metadata": {},
   "outputs": [
    {
     "data": {
      "text/plain": [
       "array([[1, 2],\n",
       "       [3, 4],\n",
       "       [5, 6]])"
      ]
     },
     "execution_count": 60,
     "metadata": {},
     "output_type": "execute_result"
    }
   ],
   "source": [
    "#let's say you don't know how many columns it takes for a valid rows, then you can just pass number of rows and -1 in number of col.\n",
    "arr.reshape((3,-1))"
   ]
  },
  {
   "cell_type": "code",
   "execution_count": 61,
   "id": "1c2a90e7",
   "metadata": {},
   "outputs": [],
   "source": [
    "#it should be valid rows."
   ]
  },
  {
   "cell_type": "code",
   "execution_count": 63,
   "id": "ee549e15",
   "metadata": {},
   "outputs": [
    {
     "data": {
      "text/plain": [
       "array([[1],\n",
       "       [2],\n",
       "       [3],\n",
       "       [4],\n",
       "       [5],\n",
       "       [6]])"
      ]
     },
     "execution_count": 63,
     "metadata": {},
     "output_type": "execute_result"
    }
   ],
   "source": [
    "arr.reshape((6,1))"
   ]
  },
  {
   "cell_type": "code",
   "execution_count": 64,
   "id": "fa6019d0",
   "metadata": {},
   "outputs": [
    {
     "data": {
      "text/plain": [
       "array([[1],\n",
       "       [2],\n",
       "       [3],\n",
       "       [4],\n",
       "       [5],\n",
       "       [6]])"
      ]
     },
     "execution_count": 64,
     "metadata": {},
     "output_type": "execute_result"
    }
   ],
   "source": [
    "arr.reshape((6,-1))"
   ]
  },
  {
   "cell_type": "code",
   "execution_count": 65,
   "id": "8dce60e2",
   "metadata": {},
   "outputs": [
    {
     "data": {
      "text/plain": [
       "array([[1, 2, 3, 4, 5, 6]])"
      ]
     },
     "execution_count": 65,
     "metadata": {},
     "output_type": "execute_result"
    }
   ],
   "source": [
    "arr.reshape((1,-1))"
   ]
  },
  {
   "cell_type": "code",
   "execution_count": 66,
   "id": "2e9ef4ef",
   "metadata": {},
   "outputs": [
    {
     "data": {
      "text/plain": [
       "array([[1, 2, 3, 4, 5, 6]])"
      ]
     },
     "execution_count": 66,
     "metadata": {},
     "output_type": "execute_result"
    }
   ],
   "source": [
    "arr.reshape((1,6))"
   ]
  },
  {
   "cell_type": "code",
   "execution_count": null,
   "id": "d4a4e125",
   "metadata": {},
   "outputs": [],
   "source": []
  }
 ],
 "metadata": {
  "kernelspec": {
   "display_name": "Python 3 (ipykernel)",
   "language": "python",
   "name": "python3"
  },
  "language_info": {
   "codemirror_mode": {
    "name": "ipython",
    "version": 3
   },
   "file_extension": ".py",
   "mimetype": "text/x-python",
   "name": "python",
   "nbconvert_exporter": "python",
   "pygments_lexer": "ipython3",
   "version": "3.9.10"
  }
 },
 "nbformat": 4,
 "nbformat_minor": 5
}
