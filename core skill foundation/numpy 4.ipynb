{
 "cells": [
  {
   "cell_type": "code",
   "execution_count": 34,
   "id": "9181624e",
   "metadata": {},
   "outputs": [],
   "source": [
    "import numpy as np"
   ]
  },
  {
   "cell_type": "code",
   "execution_count": 7,
   "id": "fe2aa65d",
   "metadata": {},
   "outputs": [],
   "source": [
    "#to do we will work with firbit data."
   ]
  },
  {
   "cell_type": "code",
   "execution_count": 8,
   "id": "974d171c",
   "metadata": {},
   "outputs": [],
   "source": [
    "#Q1 what is the method that we use to find what are the unique element present in the numpy"
   ]
  },
  {
   "cell_type": "code",
   "execution_count": 35,
   "id": "f293c69d",
   "metadata": {},
   "outputs": [],
   "source": [
    "a= np.array([1,5,3,4,6,9,1,0,2,4,5,8,1,3,4,5,7,9,3])"
   ]
  },
  {
   "cell_type": "code",
   "execution_count": 10,
   "id": "005eb88f",
   "metadata": {},
   "outputs": [
    {
     "data": {
      "text/plain": [
       "array([0, 1, 2, 3, 4, 5, 6, 7, 8, 9])"
      ]
     },
     "execution_count": 10,
     "metadata": {},
     "output_type": "execute_result"
    }
   ],
   "source": [
    "np.unique(a)"
   ]
  },
  {
   "cell_type": "code",
   "execution_count": 11,
   "id": "8014e150",
   "metadata": {},
   "outputs": [
    {
     "data": {
      "text/plain": [
       "(array([0, 1, 2, 3, 4, 5, 6, 7, 8, 9]),\n",
       " array([1, 3, 1, 3, 3, 3, 1, 1, 1, 2], dtype=int64))"
      ]
     },
     "execution_count": 11,
     "metadata": {},
     "output_type": "execute_result"
    }
   ],
   "source": [
    "np.unique(a,return_counts=True)"
   ]
  },
  {
   "cell_type": "code",
   "execution_count": 12,
   "id": "d3e7075f",
   "metadata": {},
   "outputs": [],
   "source": [
    "#the above command we can get what are the frequences of all the unique elements."
   ]
  },
  {
   "cell_type": "code",
   "execution_count": 13,
   "id": "40fa5521",
   "metadata": {},
   "outputs": [],
   "source": [
    "ele,freq  =np.unique(a,return_counts=True)"
   ]
  },
  {
   "cell_type": "code",
   "execution_count": 14,
   "id": "c8d0842e",
   "metadata": {},
   "outputs": [
    {
     "data": {
      "text/plain": [
       "array([0, 1, 2, 3, 4, 5, 6, 7, 8, 9])"
      ]
     },
     "execution_count": 14,
     "metadata": {},
     "output_type": "execute_result"
    }
   ],
   "source": [
    "ele"
   ]
  },
  {
   "cell_type": "code",
   "execution_count": 15,
   "id": "b8b9972c",
   "metadata": {},
   "outputs": [
    {
     "data": {
      "text/plain": [
       "array([1, 3, 1, 3, 3, 3, 1, 1, 1, 2], dtype=int64)"
      ]
     },
     "execution_count": 15,
     "metadata": {},
     "output_type": "execute_result"
    }
   ],
   "source": [
    "freq"
   ]
  },
  {
   "cell_type": "code",
   "execution_count": 16,
   "id": "2ebba5c2",
   "metadata": {},
   "outputs": [],
   "source": [
    "#last time we worked like a<6 we are always dealing with array and scaler value.\n",
    "#what if we work with a<b two numpy arrays\n",
    "#well it will do a element wise comparision.\n",
    "#but they should be of equal sizes"
   ]
  },
  {
   "cell_type": "code",
   "execution_count": 17,
   "id": "5eefd04b",
   "metadata": {},
   "outputs": [],
   "source": [
    "a = np.array([5,6,8,1,0,6,4])\n",
    "b = np.array([8,6,4,1,3,1,7])"
   ]
  },
  {
   "cell_type": "code",
   "execution_count": 18,
   "id": "31aa1d0f",
   "metadata": {},
   "outputs": [
    {
     "data": {
      "text/plain": [
       "array([ True, False, False, False,  True, False,  True])"
      ]
     },
     "execution_count": 18,
     "metadata": {},
     "output_type": "execute_result"
    }
   ],
   "source": [
    "a<b"
   ]
  },
  {
   "cell_type": "code",
   "execution_count": 19,
   "id": "080443d0",
   "metadata": {},
   "outputs": [],
   "source": [
    "#just like the mask we have seen till now, but created using two numpy arrays."
   ]
  },
  {
   "cell_type": "code",
   "execution_count": 20,
   "id": "4a977a86",
   "metadata": {},
   "outputs": [
    {
     "data": {
      "text/plain": [
       "array([5, 0, 4])"
      ]
     },
     "execution_count": 20,
     "metadata": {},
     "output_type": "execute_result"
    }
   ],
   "source": [
    "a[a<b]"
   ]
  },
  {
   "cell_type": "code",
   "execution_count": 21,
   "id": "d10a90b8",
   "metadata": {},
   "outputs": [
    {
     "data": {
      "text/plain": [
       "array([8, 3, 7])"
      ]
     },
     "execution_count": 21,
     "metadata": {},
     "output_type": "execute_result"
    }
   ],
   "source": [
    "b[a<b]"
   ]
  },
  {
   "cell_type": "code",
   "execution_count": 22,
   "id": "b60f0807",
   "metadata": {},
   "outputs": [
    {
     "data": {
      "text/plain": [
       "True"
      ]
     },
     "execution_count": 22,
     "metadata": {},
     "output_type": "execute_result"
    }
   ],
   "source": [
    "len(a[a<b])==len(b[a<b]) #always will be true"
   ]
  },
  {
   "cell_type": "code",
   "execution_count": 23,
   "id": "90932617",
   "metadata": {},
   "outputs": [],
   "source": [
    "#we will learn two new methods any and all\n",
    "#work similar to 'and' and 'or'"
   ]
  },
  {
   "cell_type": "code",
   "execution_count": 24,
   "id": "c38f802f",
   "metadata": {},
   "outputs": [
    {
     "data": {
      "text/plain": [
       "True"
      ]
     },
     "execution_count": 24,
     "metadata": {},
     "output_type": "execute_result"
    }
   ],
   "source": [
    "np.any(a<b)"
   ]
  },
  {
   "cell_type": "code",
   "execution_count": 25,
   "id": "90bb07b0",
   "metadata": {},
   "outputs": [],
   "source": [
    "#np.any() returns true atleast one pair of a and b satisfies the condition."
   ]
  },
  {
   "cell_type": "code",
   "execution_count": 26,
   "id": "7ddea6b6",
   "metadata": {},
   "outputs": [
    {
     "data": {
      "text/plain": [
       "False"
      ]
     },
     "execution_count": 26,
     "metadata": {},
     "output_type": "execute_result"
    }
   ],
   "source": [
    "np.all(a<b)"
   ]
  },
  {
   "cell_type": "code",
   "execution_count": 27,
   "id": "21aee826",
   "metadata": {},
   "outputs": [],
   "source": [
    "#np.all() retuns ,when every pair if satisfied."
   ]
  },
  {
   "cell_type": "code",
   "execution_count": 28,
   "id": "14471afa",
   "metadata": {},
   "outputs": [],
   "source": [
    "a = np.arange(0,16,2)"
   ]
  },
  {
   "cell_type": "code",
   "execution_count": 29,
   "id": "3f2d5e43",
   "metadata": {},
   "outputs": [
    {
     "data": {
      "text/plain": [
       "array([ 0,  2,  4,  6,  8, 10, 12, 14])"
      ]
     },
     "execution_count": 29,
     "metadata": {},
     "output_type": "execute_result"
    }
   ],
   "source": [
    "a"
   ]
  },
  {
   "cell_type": "code",
   "execution_count": 30,
   "id": "bc4be01c",
   "metadata": {},
   "outputs": [
    {
     "data": {
      "text/plain": [
       "True"
      ]
     },
     "execution_count": 30,
     "metadata": {},
     "output_type": "execute_result"
    }
   ],
   "source": [
    "np.all(a%2==0) #because every element in the array a is even element."
   ]
  },
  {
   "cell_type": "code",
   "execution_count": 31,
   "id": "090a4089",
   "metadata": {},
   "outputs": [
    {
     "data": {
      "text/plain": [
       "False"
      ]
     },
     "execution_count": 31,
     "metadata": {},
     "output_type": "execute_result"
    }
   ],
   "source": [
    "np.any(a%2!=0) #since not a single element is odd."
   ]
  },
  {
   "cell_type": "code",
   "execution_count": 33,
   "id": "a9d603c1",
   "metadata": {},
   "outputs": [],
   "source": [
    "!jt -t gruvboxd"
   ]
  },
  {
   "cell_type": "code",
   "execution_count": 36,
   "id": "3760a172",
   "metadata": {},
   "outputs": [],
   "source": [
    "#lets work on the fitbit data."
   ]
  },
  {
   "cell_type": "code",
   "execution_count": 37,
   "id": "8710a570",
   "metadata": {},
   "outputs": [],
   "source": [
    "#we have learned about np.any and np.all\n",
    "#let consider some examples"
   ]
  },
  {
   "cell_type": "code",
   "execution_count": 38,
   "id": "9ba18c4d",
   "metadata": {},
   "outputs": [],
   "source": [
    "a = np.array([1,2,3,2])\n",
    "b = np.array([2,2,3,2])\n",
    "c = np.array([6,4,4,5])"
   ]
  },
  {
   "cell_type": "code",
   "execution_count": 39,
   "id": "9c4d48f1",
   "metadata": {},
   "outputs": [
    {
     "data": {
      "text/plain": [
       "array([ True,  True,  True,  True])"
      ]
     },
     "execution_count": 39,
     "metadata": {},
     "output_type": "execute_result"
    }
   ],
   "source": [
    "a<=b"
   ]
  },
  {
   "cell_type": "code",
   "execution_count": 40,
   "id": "6e49be9a",
   "metadata": {},
   "outputs": [
    {
     "data": {
      "text/plain": [
       "array([ True,  True,  True,  True])"
      ]
     },
     "execution_count": 40,
     "metadata": {},
     "output_type": "execute_result"
    }
   ],
   "source": [
    "b<=c"
   ]
  },
  {
   "cell_type": "code",
   "execution_count": 41,
   "id": "c8e7fc4f",
   "metadata": {},
   "outputs": [],
   "source": [
    "mask = (a<=b) & (b<=c)"
   ]
  },
  {
   "cell_type": "code",
   "execution_count": 42,
   "id": "06674c53",
   "metadata": {},
   "outputs": [
    {
     "data": {
      "text/plain": [
       "array([ True,  True,  True,  True])"
      ]
     },
     "execution_count": 42,
     "metadata": {},
     "output_type": "execute_result"
    }
   ],
   "source": [
    "mask"
   ]
  },
  {
   "cell_type": "code",
   "execution_count": 43,
   "id": "5cbb4954",
   "metadata": {},
   "outputs": [
    {
     "data": {
      "text/plain": [
       "True"
      ]
     },
     "execution_count": 43,
     "metadata": {},
     "output_type": "execute_result"
    }
   ],
   "source": [
    "np.all(mask)"
   ]
  },
  {
   "cell_type": "code",
   "execution_count": 44,
   "id": "029d3518",
   "metadata": {},
   "outputs": [
    {
     "data": {
      "text/plain": [
       "True"
      ]
     },
     "execution_count": 44,
     "metadata": {},
     "output_type": "execute_result"
    }
   ],
   "source": [
    "np.any(mask)"
   ]
  },
  {
   "cell_type": "code",
   "execution_count": 45,
   "id": "a4b3f962",
   "metadata": {},
   "outputs": [],
   "source": [
    "#now lets go to sorting"
   ]
  },
  {
   "cell_type": "code",
   "execution_count": 46,
   "id": "1952894c",
   "metadata": {},
   "outputs": [],
   "source": [
    "a = np.array([5,6,2,4,1,0,3,6,4,8,1,0])"
   ]
  },
  {
   "cell_type": "code",
   "execution_count": 47,
   "id": "bbed6327",
   "metadata": {},
   "outputs": [
    {
     "data": {
      "text/plain": [
       "array([0, 0, 1, 1, 2, 3, 4, 4, 5, 6, 6, 8])"
      ]
     },
     "execution_count": 47,
     "metadata": {},
     "output_type": "execute_result"
    }
   ],
   "source": [
    "np.sort(a)"
   ]
  },
  {
   "cell_type": "code",
   "execution_count": 48,
   "id": "2a96673d",
   "metadata": {},
   "outputs": [
    {
     "data": {
      "text/plain": [
       "array([ 5, 11,  4, 10,  2,  6,  3,  8,  0,  1,  7,  9], dtype=int64)"
      ]
     },
     "execution_count": 48,
     "metadata": {},
     "output_type": "execute_result"
    }
   ],
   "source": [
    "np.argsort(a)"
   ]
  },
  {
   "cell_type": "code",
   "execution_count": 49,
   "id": "92f065b7",
   "metadata": {},
   "outputs": [
    {
     "data": {
      "text/plain": [
       "8"
      ]
     },
     "execution_count": 49,
     "metadata": {},
     "output_type": "execute_result"
    }
   ],
   "source": [
    "np.max(a)"
   ]
  },
  {
   "cell_type": "code",
   "execution_count": 51,
   "id": "2c05786e",
   "metadata": {},
   "outputs": [
    {
     "data": {
      "text/plain": [
       "9"
      ]
     },
     "execution_count": 51,
     "metadata": {},
     "output_type": "execute_result"
    }
   ],
   "source": [
    "np.argmax(a) #index of maximum value --> argmax --> argument of maximum value"
   ]
  },
  {
   "cell_type": "code",
   "execution_count": 52,
   "id": "de2eb008",
   "metadata": {},
   "outputs": [
    {
     "data": {
      "text/plain": [
       "5"
      ]
     },
     "execution_count": 52,
     "metadata": {},
     "output_type": "execute_result"
    }
   ],
   "source": [
    "np.argmin(a)"
   ]
  },
  {
   "cell_type": "code",
   "execution_count": 54,
   "id": "da81a97a",
   "metadata": {},
   "outputs": [
    {
     "data": {
      "text/plain": [
       "array([ 5, 11,  4, 10,  2,  6,  3,  8,  0,  1,  7,  9], dtype=int64)"
      ]
     },
     "execution_count": 54,
     "metadata": {},
     "output_type": "execute_result"
    }
   ],
   "source": [
    "np.argsort(a) #indices of the elements in original array, places in sorted array"
   ]
  },
  {
   "cell_type": "code",
   "execution_count": 55,
   "id": "abf5150a",
   "metadata": {},
   "outputs": [],
   "source": [
    "#so when ever there is arg word in the method, it always returns the indices of the original method with out arg."
   ]
  },
  {
   "cell_type": "code",
   "execution_count": null,
   "id": "79e79070",
   "metadata": {},
   "outputs": [],
   "source": []
  },
  {
   "cell_type": "code",
   "execution_count": null,
   "id": "bb993784",
   "metadata": {},
   "outputs": [],
   "source": []
  },
  {
   "cell_type": "code",
   "execution_count": null,
   "id": "555f3556",
   "metadata": {},
   "outputs": [],
   "source": []
  },
  {
   "cell_type": "code",
   "execution_count": 56,
   "id": "05bd0e50",
   "metadata": {},
   "outputs": [],
   "source": [
    "#and where can we use"
   ]
  },
  {
   "cell_type": "code",
   "execution_count": 57,
   "id": "1ba74948",
   "metadata": {},
   "outputs": [],
   "source": [
    "path = 'Numpy_4/fit.txt'"
   ]
  },
  {
   "cell_type": "code",
   "execution_count": 71,
   "id": "5e60aa34",
   "metadata": {},
   "outputs": [],
   "source": [
    "data = np.loadtxt(path,dtype='str')"
   ]
  },
  {
   "cell_type": "code",
   "execution_count": 72,
   "id": "b31f40ab",
   "metadata": {},
   "outputs": [
    {
     "data": {
      "text/plain": [
       "array([['06-10-2017', '5464', 'Neutral', '181', '5', 'Inactive'],\n",
       "       ['07-10-2017', '6041', 'Sad', '197', '8', 'Inactive'],\n",
       "       ['08-10-2017', '25', 'Sad', '0', '5', 'Inactive']], dtype='<U10')"
      ]
     },
     "execution_count": 72,
     "metadata": {},
     "output_type": "execute_result"
    }
   ],
   "source": [
    "data[:3]"
   ]
  },
  {
   "cell_type": "code",
   "execution_count": 73,
   "id": "831716dc",
   "metadata": {},
   "outputs": [
    {
     "data": {
      "text/plain": [
       "'06'"
      ]
     },
     "execution_count": 73,
     "metadata": {},
     "output_type": "execute_result"
    }
   ],
   "source": [
    "data[0][0][:2]"
   ]
  },
  {
   "cell_type": "code",
   "execution_count": 74,
   "id": "c7e8a517",
   "metadata": {},
   "outputs": [],
   "source": [
    "#first column --> date of that person"
   ]
  },
  {
   "cell_type": "code",
   "execution_count": 75,
   "id": "4e12ba74",
   "metadata": {},
   "outputs": [],
   "source": [
    "#second --> steps\n",
    "#third --> mood\n",
    "#fourth --> calories\n",
    "#fifth --> hours he slept\n",
    "#sixth --> active/inactive"
   ]
  },
  {
   "cell_type": "code",
   "execution_count": 76,
   "id": "9092703e",
   "metadata": {},
   "outputs": [
    {
     "data": {
      "text/plain": [
       "(96, 6)"
      ]
     },
     "execution_count": 76,
     "metadata": {},
     "output_type": "execute_result"
    }
   ],
   "source": [
    "data.shape"
   ]
  },
  {
   "cell_type": "code",
   "execution_count": 77,
   "id": "9d3f9da6",
   "metadata": {},
   "outputs": [],
   "source": [
    "#96 rows --> 96 records\n",
    "#6 columns --> 6 features that we discussed above."
   ]
  },
  {
   "cell_type": "code",
   "execution_count": 78,
   "id": "c9d56a9f",
   "metadata": {},
   "outputs": [],
   "source": [
    "#can we work on this data, no as every thing is in string"
   ]
  },
  {
   "cell_type": "code",
   "execution_count": 79,
   "id": "7ef5c144",
   "metadata": {},
   "outputs": [],
   "source": [
    "#first look at the first 5 rows"
   ]
  },
  {
   "cell_type": "code",
   "execution_count": 80,
   "id": "20c3343f",
   "metadata": {},
   "outputs": [
    {
     "data": {
      "text/plain": [
       "array([['06-10-2017', '5464', 'Neutral', '181', '5', 'Inactive'],\n",
       "       ['07-10-2017', '6041', 'Sad', '197', '8', 'Inactive'],\n",
       "       ['08-10-2017', '25', 'Sad', '0', '5', 'Inactive'],\n",
       "       ['09-10-2017', '5461', 'Sad', '174', '4', 'Inactive'],\n",
       "       ['10-10-2017', '6915', 'Neutral', '223', '5', 'Active']],\n",
       "      dtype='<U10')"
      ]
     },
     "execution_count": 80,
     "metadata": {},
     "output_type": "execute_result"
    }
   ],
   "source": [
    "data[:5]"
   ]
  },
  {
   "cell_type": "code",
   "execution_count": 81,
   "id": "907e888e",
   "metadata": {},
   "outputs": [],
   "source": [
    "#lets get the all the dates\n",
    "dates = data[:,0]"
   ]
  },
  {
   "cell_type": "code",
   "execution_count": 84,
   "id": "ab30ddb7",
   "metadata": {},
   "outputs": [
    {
     "data": {
      "text/plain": [
       "array(['06-10-2017', '07-10-2017', '08-10-2017', '09-10-2017',\n",
       "       '10-10-2017', '11-10-2017', '12-10-2017', '13-10-2017',\n",
       "       '14-10-2017', '15-10-2017', '16-10-2017', '17-10-2017',\n",
       "       '18-10-2017', '19-10-2017', '20-10-2017', '21-10-2017',\n",
       "       '22-10-2017', '23-10-2017', '24-10-2017', '25-10-2017',\n",
       "       '26-10-2017', '27-10-2017', '28-10-2017', '29-10-2017',\n",
       "       '30-10-2017', '31-10-2017', '01-11-2017', '02-11-2017',\n",
       "       '03-11-2017', '04-11-2017', '05-11-2017', '06-11-2017',\n",
       "       '07-11-2017', '08-11-2017', '09-11-2017', '10-11-2017',\n",
       "       '11-11-2017', '12-11-2017', '13-11-2017', '14-11-2017',\n",
       "       '15-11-2017', '16-11-2017', '17-11-2017', '18-11-2017',\n",
       "       '19-11-2017', '20-11-2017', '21-11-2017', '22-11-2017',\n",
       "       '23-11-2017', '24-11-2017', '25-11-2017', '26-11-2017',\n",
       "       '27-11-2017', '28-11-2017', '29-11-2017', '30-11-2017',\n",
       "       '01-12-2017', '02-12-2017', '03-12-2017', '04-12-2017',\n",
       "       '05-12-2017', '06-12-2017', '07-12-2017', '08-12-2017',\n",
       "       '09-12-2017', '10-12-2017', '11-12-2017', '12-12-2017',\n",
       "       '13-12-2017', '14-12-2017', '15-12-2017', '16-12-2017',\n",
       "       '17-12-2017', '18-12-2017', '19-12-2017', '20-12-2017',\n",
       "       '21-12-2017', '22-12-2017', '23-12-2017', '24-12-2017',\n",
       "       '25-12-2017', '26-12-2017', '27-12-2017', '28-12-2017',\n",
       "       '29-12-2017', '30-12-2017', '31-12-2017', '01-01-2018',\n",
       "       '02-01-2018', '03-01-2018', '04-01-2018', '05-01-2018',\n",
       "       '06-01-2018', '07-01-2018', '08-01-2018', '09-01-2018'],\n",
       "      dtype='<U10')"
      ]
     },
     "execution_count": 84,
     "metadata": {},
     "output_type": "execute_result"
    }
   ],
   "source": [
    "dates"
   ]
  },
  {
   "cell_type": "code",
   "execution_count": 83,
   "id": "e48df0b9",
   "metadata": {},
   "outputs": [],
   "source": [
    "#calories\n",
    "calories = data[:,1]"
   ]
  },
  {
   "cell_type": "code",
   "execution_count": 86,
   "id": "782a6da3",
   "metadata": {},
   "outputs": [],
   "source": [
    "dates,steps,mood,calories,hours_slepts,active = data[:,0], data[:,1], data[:,2], data[:,3], data[:,4], data[:,5]"
   ]
  },
  {
   "cell_type": "code",
   "execution_count": 87,
   "id": "dde27e4c",
   "metadata": {},
   "outputs": [
    {
     "data": {
      "text/plain": [
       "array(['Neutral', 'Sad', 'Sad', 'Sad', 'Neutral', 'Sad', 'Sad', 'Sad',\n",
       "       'Sad', 'Sad', 'Sad', 'Sad', 'Happy', 'Sad', 'Sad', 'Sad', 'Sad',\n",
       "       'Neutral', 'Neutral', 'Neutral', 'Neutral', 'Neutral', 'Neutral',\n",
       "       'Happy', 'Neutral', 'Happy', 'Happy', 'Happy', 'Happy', 'Happy',\n",
       "       'Happy', 'Happy', 'Neutral', 'Happy', 'Happy', 'Happy', 'Happy',\n",
       "       'Happy', 'Happy', 'Happy', 'Happy', 'Happy', 'Happy', 'Neutral',\n",
       "       'Happy', 'Happy', 'Happy', 'Happy', 'Happy', 'Happy', 'Happy',\n",
       "       'Happy', 'Happy', 'Neutral', 'Sad', 'Happy', 'Happy', 'Happy',\n",
       "       'Happy', 'Happy', 'Happy', 'Happy', 'Sad', 'Neutral', 'Neutral',\n",
       "       'Sad', 'Sad', 'Neutral', 'Neutral', 'Happy', 'Neutral', 'Neutral',\n",
       "       'Sad', 'Neutral', 'Sad', 'Neutral', 'Neutral', 'Sad', 'Sad', 'Sad',\n",
       "       'Sad', 'Happy', 'Neutral', 'Happy', 'Neutral', 'Sad', 'Sad', 'Sad',\n",
       "       'Neutral', 'Neutral', 'Sad', 'Sad', 'Happy', 'Neutral', 'Neutral',\n",
       "       'Happy'], dtype='<U10')"
      ]
     },
     "execution_count": 87,
     "metadata": {},
     "output_type": "execute_result"
    }
   ],
   "source": [
    "mood"
   ]
  },
  {
   "cell_type": "code",
   "execution_count": 88,
   "id": "d6e09ffe",
   "metadata": {},
   "outputs": [
    {
     "data": {
      "text/plain": [
       "array([['05-01-2018', '133', 'Sad', '4', '2', 'Inactive'],\n",
       "       ['08-11-2017', '4068', 'Happy', '131', '2', 'Inactive'],\n",
       "       ['03-01-2018', '2599', 'Neutral', '84', '2', 'Inactive'],\n",
       "       ['25-12-2017', '518', 'Sad', '16', '3', 'Inactive'],\n",
       "       ['10-12-2017', '1648', 'Sad', '53', '3', 'Active'],\n",
       "       ['15-12-2017', '437', 'Neutral', '14', '3', 'Active'],\n",
       "       ['09-12-2017', '2909', 'Neutral', '93', '3', 'Active'],\n",
       "       ['31-12-2017', '36', 'Sad', '1', '3', 'Inactive'],\n",
       "       ['02-01-2018', '1447', 'Neutral', '47', '3', 'Inactive'],\n",
       "       ['04-01-2018', '702', 'Sad', '23', '3', 'Inactive'],\n",
       "       ['07-11-2017', '6041', 'Neutral', '197', '3', 'Inactive'],\n",
       "       ['01-01-2018', '299', 'Sad', '10', '3', 'Inactive'],\n",
       "       ['16-12-2017', '1231', 'Neutral', '39', '4', 'Active'],\n",
       "       ['17-12-2017', '1696', 'Sad', '55', '4', 'Inactive'],\n",
       "       ['11-12-2017', '799', 'Sad', '25', '4', 'Inactive'],\n",
       "       ['02-11-2017', '4779', 'Happy', '156', '4', 'Inactive'],\n",
       "       ['24-10-2017', '4383', 'Neutral', '143', '4', 'Inactive'],\n",
       "       ['04-11-2017', '2255', 'Happy', '72', '4', 'Inactive'],\n",
       "       ['08-12-2017', '2374', 'Neutral', '76', '4', 'Inactive'],\n",
       "       ['24-12-2017', '753', 'Sad', '28', '4', 'Inactive'],\n",
       "       ['06-11-2017', '5464', 'Happy', '181', '4', 'Inactive'],\n",
       "       ['26-12-2017', '5537', 'Happy', '180', '4', 'Active'],\n",
       "       ['15-11-2017', '4880', 'Happy', '164', '4', 'Active'],\n",
       "       ['29-12-2017', '3066', 'Neutral', '99', '4', 'Active'],\n",
       "       ['09-10-2017', '5461', 'Sad', '174', '4', 'Inactive'],\n",
       "       ['12-11-2017', '614', 'Happy', '19', '4', 'Active'],\n",
       "       ['07-12-2017', '3721', 'Sad', '121', '5', 'Active'],\n",
       "       ['30-11-2017', '3608', 'Happy', '116', '5', 'Active'],\n",
       "       ['24-11-2017', '5195', 'Happy', '167', '5', 'Inactive'],\n",
       "       ['06-10-2017', '5464', 'Neutral', '181', '5', 'Inactive'],\n",
       "       ['18-12-2017', '4921', 'Neutral', '158', '5', 'Active'],\n",
       "       ['13-12-2017', '3941', 'Neutral', '125', '5', 'Active'],\n",
       "       ['14-12-2017', '7422', 'Happy', '243', '5', 'Active'],\n",
       "       ['08-01-2018', '2127', 'Neutral', '0', '5', 'Inactive'],\n",
       "       ['19-12-2017', '221', 'Sad', '7', '5', 'Active'],\n",
       "       ['20-12-2017', '6500', 'Neutral', '213', '5', 'Active'],\n",
       "       ['21-12-2017', '3575', 'Neutral', '116', '5', 'Active'],\n",
       "       ['22-12-2017', '4061', 'Sad', '129', '5', 'Inactive'],\n",
       "       ['23-12-2017', '651', 'Sad', '21', '5', 'Inactive'],\n",
       "       ['27-12-2017', '4108', 'Neutral', '138', '5', 'Active'],\n",
       "       ['28-12-2017', '5376', 'Happy', '176', '5', 'Active'],\n",
       "       ['30-12-2017', '177', 'Sad', '5', '5', 'Inactive'],\n",
       "       ['07-01-2018', '500', 'Neutral', '0', '5', 'Active'],\n",
       "       ['12-12-2017', '7102', 'Neutral', '227', '5', 'Active'],\n",
       "       ['20-11-2017', '4275', 'Happy', '145', '5', 'Inactive'],\n",
       "       ['22-11-2017', '4421', 'Happy', '146', '5', 'Inactive'],\n",
       "       ['09-01-2018', '2203', 'Happy', '0', '5', 'Active'],\n",
       "       ['05-11-2017', '539', 'Happy', '17', '5', 'Active'],\n",
       "       ['30-10-2017', '2209', 'Neutral', '72', '5', 'Inactive'],\n",
       "       ['10-11-2017', '4033', 'Happy', '137', '5', 'Inactive'],\n",
       "       ['13-11-2017', '3149', 'Happy', '101', '5', 'Active'],\n",
       "       ['28-10-2017', '292', 'Neutral', '9', '5', 'Inactive'],\n",
       "       ['25-10-2017', '3881', 'Neutral', '125', '5', 'Inactive'],\n",
       "       ['23-10-2017', '3158', 'Neutral', '99', '5', 'Inactive'],\n",
       "       ['03-11-2017', '1831', 'Happy', '57', '5', 'Inactive'],\n",
       "       ['20-10-2017', '1580', 'Sad', '49', '5', 'Inactive'],\n",
       "       ['17-10-2017', '4687', 'Sad', '152', '5', 'Inactive'],\n",
       "       ['14-10-2017', '61', 'Sad', '1', '5', 'Inactive'],\n",
       "       ['10-10-2017', '6915', 'Neutral', '223', '5', 'Active'],\n",
       "       ['08-10-2017', '25', 'Sad', '0', '5', 'Inactive'],\n",
       "       ['18-11-2017', '570', 'Neutral', '17', '5', 'Active'],\n",
       "       ['16-11-2017', '4136', 'Happy', '137', '5', 'Active'],\n",
       "       ['01-11-2017', '4435', 'Happy', '141', '5', 'Inactive'],\n",
       "       ['18-10-2017', '4732', 'Happy', '150', '6', 'Active'],\n",
       "       ['21-10-2017', '2822', 'Sad', '86', '6', 'Inactive'],\n",
       "       ['15-10-2017', '1258', 'Sad', '40', '6', 'Inactive'],\n",
       "       ['26-10-2017', '4037', 'Neutral', '129', '6', 'Inactive'],\n",
       "       ['12-10-2017', '4340', 'Sad', '140', '6', 'Inactive'],\n",
       "       ['11-10-2017', '4545', 'Sad', '149', '6', 'Inactive'],\n",
       "       ['29-10-2017', '330', 'Happy', '10', '6', 'Inactive'],\n",
       "       ['21-11-2017', '5999', 'Happy', '192', '6', 'Inactive'],\n",
       "       ['29-11-2017', '6676', 'Sad', '220', '6', 'Active'],\n",
       "       ['11-11-2017', '6314', 'Happy', '193', '6', 'Active'],\n",
       "       ['23-11-2017', '6930', 'Happy', '234', '6', 'Inactive'],\n",
       "       ['17-11-2017', '705', 'Happy', '22', '6', 'Active'],\n",
       "       ['25-11-2017', '546', 'Happy', '16', '6', 'Inactive'],\n",
       "       ['01-12-2017', '774', 'Happy', '23', '6', 'Active'],\n",
       "       ['19-11-2017', '269', 'Happy', '9', '6', 'Active'],\n",
       "       ['27-11-2017', '995', 'Happy', '32', '6', 'Active'],\n",
       "       ['05-12-2017', '5934', 'Happy', '194', '7', 'Active'],\n",
       "       ['26-11-2017', '493', 'Happy', '17', '7', 'Active'],\n",
       "       ['02-12-2017', '1421', 'Happy', '44', '7', 'Active'],\n",
       "       ['19-10-2017', '3519', 'Sad', '113', '7', 'Inactive'],\n",
       "       ['13-10-2017', '1230', 'Sad', '38', '7', 'Inactive'],\n",
       "       ['28-11-2017', '1163', 'Neutral', '35', '7', 'Active'],\n",
       "       ['07-10-2017', '6041', 'Sad', '197', '8', 'Inactive'],\n",
       "       ['06-01-2018', '153', 'Happy', '0', '8', 'Inactive'],\n",
       "       ['31-10-2017', '4550', 'Happy', '150', '8', 'Active'],\n",
       "       ['03-12-2017', '4064', 'Happy', '131', '8', 'Active'],\n",
       "       ['22-10-2017', '181', 'Sad', '6', '8', 'Inactive'],\n",
       "       ['04-12-2017', '2725', 'Happy', '86', '8', 'Active'],\n",
       "       ['06-12-2017', '1867', 'Happy', '60', '8', 'Active'],\n",
       "       ['27-10-2017', '202', 'Neutral', '6', '8', 'Inactive'],\n",
       "       ['14-11-2017', '4005', 'Happy', '139', '8', 'Active'],\n",
       "       ['16-10-2017', '3148', 'Sad', '101', '8', 'Inactive'],\n",
       "       ['09-11-2017', '4683', 'Happy', '154', '9', 'Inactive']],\n",
       "      dtype='<U10')"
      ]
     },
     "execution_count": 88,
     "metadata": {},
     "output_type": "execute_result"
    }
   ],
   "source": [
    "#can you sort the data using hours slept\n",
    "data[np.argsort(data[:,-2])]"
   ]
  },
  {
   "cell_type": "code",
   "execution_count": 89,
   "id": "c45016d8",
   "metadata": {},
   "outputs": [],
   "source": [
    "#wow great."
   ]
  },
  {
   "cell_type": "code",
   "execution_count": 90,
   "id": "019dc2e6",
   "metadata": {},
   "outputs": [],
   "source": [
    "#remeber the error that we encountered"
   ]
  },
  {
   "cell_type": "code",
   "execution_count": 99,
   "id": "4bbe4479",
   "metadata": {},
   "outputs": [],
   "source": [
    "dates,steps,mood,calories,hours_slept,active = data.T"
   ]
  },
  {
   "cell_type": "code",
   "execution_count": 100,
   "id": "f0b08e65",
   "metadata": {},
   "outputs": [
    {
     "data": {
      "text/plain": [
       "array(['Neutral', 'Sad', 'Sad', 'Sad', 'Neutral', 'Sad', 'Sad', 'Sad',\n",
       "       'Sad', 'Sad', 'Sad', 'Sad', 'Happy', 'Sad', 'Sad', 'Sad', 'Sad',\n",
       "       'Neutral', 'Neutral', 'Neutral', 'Neutral', 'Neutral', 'Neutral',\n",
       "       'Happy', 'Neutral', 'Happy', 'Happy', 'Happy', 'Happy', 'Happy',\n",
       "       'Happy', 'Happy', 'Neutral', 'Happy', 'Happy', 'Happy', 'Happy',\n",
       "       'Happy', 'Happy', 'Happy', 'Happy', 'Happy', 'Happy', 'Neutral',\n",
       "       'Happy', 'Happy', 'Happy', 'Happy', 'Happy', 'Happy', 'Happy',\n",
       "       'Happy', 'Happy', 'Neutral', 'Sad', 'Happy', 'Happy', 'Happy',\n",
       "       'Happy', 'Happy', 'Happy', 'Happy', 'Sad', 'Neutral', 'Neutral',\n",
       "       'Sad', 'Sad', 'Neutral', 'Neutral', 'Happy', 'Neutral', 'Neutral',\n",
       "       'Sad', 'Neutral', 'Sad', 'Neutral', 'Neutral', 'Sad', 'Sad', 'Sad',\n",
       "       'Sad', 'Happy', 'Neutral', 'Happy', 'Neutral', 'Sad', 'Sad', 'Sad',\n",
       "       'Neutral', 'Neutral', 'Sad', 'Sad', 'Happy', 'Neutral', 'Neutral',\n",
       "       'Happy'], dtype='<U10')"
      ]
     },
     "execution_count": 100,
     "metadata": {},
     "output_type": "execute_result"
    }
   ],
   "source": [
    "mood"
   ]
  },
  {
   "cell_type": "code",
   "execution_count": 101,
   "id": "6cdb1d06",
   "metadata": {},
   "outputs": [],
   "source": [
    "#so here is how Transpose is used and solved the unpacking a 2 dimentional array"
   ]
  },
  {
   "cell_type": "code",
   "execution_count": 102,
   "id": "11d4aac4",
   "metadata": {},
   "outputs": [
    {
     "data": {
      "text/plain": [
       "numpy.ndarray"
      ]
     },
     "execution_count": 102,
     "metadata": {},
     "output_type": "execute_result"
    }
   ],
   "source": [
    "type(dates)"
   ]
  },
  {
   "cell_type": "code",
   "execution_count": 103,
   "id": "972abfac",
   "metadata": {},
   "outputs": [],
   "source": [
    "steps = np.array(steps,dtype='int')"
   ]
  },
  {
   "cell_type": "code",
   "execution_count": 104,
   "id": "6d01f2d7",
   "metadata": {},
   "outputs": [
    {
     "data": {
      "text/plain": [
       "array([5464, 6041,   25, 5461, 6915, 4545, 4340, 1230,   61, 1258, 3148,\n",
       "       4687, 4732, 3519, 1580, 2822,  181, 3158, 4383, 3881, 4037,  202,\n",
       "        292,  330, 2209, 4550, 4435, 4779, 1831, 2255,  539, 5464, 6041,\n",
       "       4068, 4683, 4033, 6314,  614, 3149, 4005, 4880, 4136,  705,  570,\n",
       "        269, 4275, 5999, 4421, 6930, 5195,  546,  493,  995, 1163, 6676,\n",
       "       3608,  774, 1421, 4064, 2725, 5934, 1867, 3721, 2374, 2909, 1648,\n",
       "        799, 7102, 3941, 7422,  437, 1231, 1696, 4921,  221, 6500, 3575,\n",
       "       4061,  651,  753,  518, 5537, 4108, 5376, 3066,  177,   36,  299,\n",
       "       1447, 2599,  702,  133,  153,  500, 2127, 2203])"
      ]
     },
     "execution_count": 104,
     "metadata": {},
     "output_type": "execute_result"
    }
   ],
   "source": [
    "steps"
   ]
  },
  {
   "cell_type": "code",
   "execution_count": 105,
   "id": "770e30f6",
   "metadata": {},
   "outputs": [],
   "source": [
    "calories = np.array(calories,dtype='int')"
   ]
  },
  {
   "cell_type": "code",
   "execution_count": 106,
   "id": "e4789f76",
   "metadata": {},
   "outputs": [],
   "source": [
    "hours_slept = np.array(hours_slept, dtype='int')"
   ]
  },
  {
   "cell_type": "code",
   "execution_count": 107,
   "id": "6de89810",
   "metadata": {},
   "outputs": [],
   "source": [
    "mask1 = active=='Active'\n",
    "mask2 = active == 'Inactive'"
   ]
  },
  {
   "cell_type": "code",
   "execution_count": 108,
   "id": "351a55ee",
   "metadata": {},
   "outputs": [],
   "source": [
    "active[mask1] = '1'\n",
    "active[mask2] = '0'"
   ]
  },
  {
   "cell_type": "code",
   "execution_count": 109,
   "id": "ac01590e",
   "metadata": {},
   "outputs": [
    {
     "data": {
      "text/plain": [
       "array(['0', '0', '0', '0', '1', '0', '0', '0', '0', '0', '0', '0', '1',\n",
       "       '0', '0', '0', '0', '0', '0', '0', '0', '0', '0', '0', '0', '1',\n",
       "       '0', '0', '0', '0', '1', '0', '0', '0', '0', '0', '1', '1', '1',\n",
       "       '1', '1', '1', '1', '1', '1', '0', '0', '0', '0', '0', '0', '1',\n",
       "       '1', '1', '1', '1', '1', '1', '1', '1', '1', '1', '1', '0', '1',\n",
       "       '1', '0', '1', '1', '1', '1', '1', '0', '1', '1', '1', '1', '0',\n",
       "       '0', '0', '0', '1', '1', '1', '1', '0', '0', '0', '0', '0', '0',\n",
       "       '0', '0', '1', '0', '1'], dtype='<U10')"
      ]
     },
     "execution_count": 109,
     "metadata": {},
     "output_type": "execute_result"
    }
   ],
   "source": [
    "active"
   ]
  },
  {
   "cell_type": "code",
   "execution_count": 110,
   "id": "d1e91697",
   "metadata": {},
   "outputs": [],
   "source": [
    "active = np.array(active,dtype='int')"
   ]
  },
  {
   "cell_type": "code",
   "execution_count": 111,
   "id": "286f0a21",
   "metadata": {},
   "outputs": [
    {
     "data": {
      "text/plain": [
       "array(['Happy', 'Neutral', 'Sad'], dtype='<U10')"
      ]
     },
     "execution_count": 111,
     "metadata": {},
     "output_type": "execute_result"
    }
   ],
   "source": [
    "np.unique(mood)"
   ]
  },
  {
   "cell_type": "code",
   "execution_count": 112,
   "id": "3f5e03a5",
   "metadata": {},
   "outputs": [
    {
     "data": {
      "text/plain": [
       "(array(['Happy', 'Neutral', 'Sad'], dtype='<U10'),\n",
       " array([40, 27, 29], dtype=int64))"
      ]
     },
     "execution_count": 112,
     "metadata": {},
     "output_type": "execute_result"
    }
   ],
   "source": [
    "np.unique(mood,return_counts=True)"
   ]
  },
  {
   "cell_type": "code",
   "execution_count": 113,
   "id": "3a58be63",
   "metadata": {},
   "outputs": [],
   "source": [
    "#so mostly he is happy, 40 days out of 96 days."
   ]
  },
  {
   "cell_type": "code",
   "execution_count": 114,
   "id": "6f326d42",
   "metadata": {},
   "outputs": [],
   "source": [
    "#what is the average steps that person have taken"
   ]
  },
  {
   "cell_type": "code",
   "execution_count": 115,
   "id": "41de1b10",
   "metadata": {},
   "outputs": [
    {
     "data": {
      "text/plain": [
       "2935.9375"
      ]
     },
     "execution_count": 115,
     "metadata": {},
     "output_type": "execute_result"
    }
   ],
   "source": [
    "np.mean(steps)"
   ]
  },
  {
   "cell_type": "code",
   "execution_count": 117,
   "id": "6d94ecea",
   "metadata": {},
   "outputs": [
    {
     "data": {
      "text/plain": [
       "7422"
      ]
     },
     "execution_count": 117,
     "metadata": {},
     "output_type": "execute_result"
    }
   ],
   "source": [
    "np.max(steps)"
   ]
  },
  {
   "cell_type": "code",
   "execution_count": 118,
   "id": "766e8530",
   "metadata": {},
   "outputs": [
    {
     "data": {
      "text/plain": [
       "'14-12-2017'"
      ]
     },
     "execution_count": 118,
     "metadata": {},
     "output_type": "execute_result"
    }
   ],
   "source": [
    "dates[np.argmax(steps)]"
   ]
  },
  {
   "cell_type": "code",
   "execution_count": 119,
   "id": "3ff94eed",
   "metadata": {},
   "outputs": [],
   "source": [
    "#that is the date that he took maximum steps"
   ]
  },
  {
   "cell_type": "code",
   "execution_count": 121,
   "id": "b0b61aaa",
   "metadata": {},
   "outputs": [
    {
     "data": {
      "text/plain": [
       "0"
      ]
     },
     "execution_count": 121,
     "metadata": {},
     "output_type": "execute_result"
    }
   ],
   "source": [
    "calories[np.argmin(steps)] #calories that he burned that he took minimum steps"
   ]
  },
  {
   "cell_type": "code",
   "execution_count": 122,
   "id": "f538645c",
   "metadata": {},
   "outputs": [
    {
     "data": {
      "text/plain": [
       "243"
      ]
     },
     "execution_count": 122,
     "metadata": {},
     "output_type": "execute_result"
    }
   ],
   "source": [
    "calories[np.argmax(steps)]"
   ]
  },
  {
   "cell_type": "code",
   "execution_count": 123,
   "id": "09ab7527",
   "metadata": {},
   "outputs": [
    {
     "data": {
      "text/plain": [
       "'Happy'"
      ]
     },
     "execution_count": 123,
     "metadata": {},
     "output_type": "execute_result"
    }
   ],
   "source": [
    "mood[np.argmax(steps)]"
   ]
  },
  {
   "cell_type": "code",
   "execution_count": 124,
   "id": "7e27b942",
   "metadata": {},
   "outputs": [
    {
     "data": {
      "text/plain": [
       "'Sad'"
      ]
     },
     "execution_count": 124,
     "metadata": {},
     "output_type": "execute_result"
    }
   ],
   "source": [
    "mood[np.argmin(steps)]"
   ]
  },
  {
   "cell_type": "code",
   "execution_count": 125,
   "id": "173d4a4f",
   "metadata": {},
   "outputs": [
    {
     "data": {
      "text/plain": [
       "1"
      ]
     },
     "execution_count": 125,
     "metadata": {},
     "output_type": "execute_result"
    }
   ],
   "source": [
    "active[np.argmax(steps)]"
   ]
  },
  {
   "cell_type": "code",
   "execution_count": 127,
   "id": "1676f68c",
   "metadata": {},
   "outputs": [
    {
     "data": {
      "text/plain": [
       "0"
      ]
     },
     "execution_count": 127,
     "metadata": {},
     "output_type": "execute_result"
    }
   ],
   "source": [
    "active[np.argmin(steps)]"
   ]
  },
  {
   "cell_type": "code",
   "execution_count": 128,
   "id": "7e3bde44",
   "metadata": {},
   "outputs": [],
   "source": [
    "mask = mood == 'Sad'"
   ]
  },
  {
   "cell_type": "code",
   "execution_count": 129,
   "id": "7f7b3e46",
   "metadata": {},
   "outputs": [
    {
     "data": {
      "text/plain": [
       "2103.0689655172414"
      ]
     },
     "execution_count": 129,
     "metadata": {},
     "output_type": "execute_result"
    }
   ],
   "source": [
    "np.mean(steps[mask])"
   ]
  },
  {
   "cell_type": "code",
   "execution_count": 137,
   "id": "bb8771c9",
   "metadata": {},
   "outputs": [],
   "source": [
    "mask1 = mood =='Neutral'\n",
    "mask2 = mood=='Happy'"
   ]
  },
  {
   "cell_type": "code",
   "execution_count": 138,
   "id": "d5806fcf",
   "metadata": {},
   "outputs": [
    {
     "data": {
      "text/plain": [
       "3296.4328358208954"
      ]
     },
     "execution_count": 138,
     "metadata": {},
     "output_type": "execute_result"
    }
   ],
   "source": [
    "np.mean(steps[mask1 | mask2])"
   ]
  },
  {
   "cell_type": "code",
   "execution_count": 139,
   "id": "01619407",
   "metadata": {},
   "outputs": [
    {
     "data": {
      "text/plain": [
       "3153.777777777778"
      ]
     },
     "execution_count": 139,
     "metadata": {},
     "output_type": "execute_result"
    }
   ],
   "source": [
    "np.mean(steps[mask1])"
   ]
  },
  {
   "cell_type": "code",
   "execution_count": 140,
   "id": "e1d443cf",
   "metadata": {},
   "outputs": [
    {
     "data": {
      "text/plain": [
       "3392.725"
      ]
     },
     "execution_count": 140,
     "metadata": {},
     "output_type": "execute_result"
    }
   ],
   "source": [
    "np.mean(steps[mask2])"
   ]
  },
  {
   "cell_type": "code",
   "execution_count": 141,
   "id": "99c95489",
   "metadata": {},
   "outputs": [],
   "source": [
    "#so we can recommand him that he need to walk atleast 3000 steps to be happy or neutral"
   ]
  },
  {
   "cell_type": "code",
   "execution_count": 142,
   "id": "3e32688b",
   "metadata": {},
   "outputs": [],
   "source": [
    "#lets find out his mood when he is walking more tha 4000 steps"
   ]
  },
  {
   "cell_type": "code",
   "execution_count": 143,
   "id": "6e9f0b31",
   "metadata": {},
   "outputs": [],
   "source": [
    "mask = steps>4000"
   ]
  },
  {
   "cell_type": "code",
   "execution_count": 144,
   "id": "bd3d37b2",
   "metadata": {},
   "outputs": [
    {
     "data": {
      "text/plain": [
       "array(['Neutral', 'Sad', 'Sad', 'Neutral', 'Sad', 'Sad', 'Sad', 'Happy',\n",
       "       'Neutral', 'Neutral', 'Happy', 'Happy', 'Happy', 'Happy',\n",
       "       'Neutral', 'Happy', 'Happy', 'Happy', 'Happy', 'Happy', 'Happy',\n",
       "       'Happy', 'Happy', 'Happy', 'Happy', 'Happy', 'Happy', 'Sad',\n",
       "       'Happy', 'Happy', 'Neutral', 'Happy', 'Neutral', 'Neutral', 'Sad',\n",
       "       'Happy', 'Neutral', 'Happy'], dtype='<U10')"
      ]
     },
     "execution_count": 144,
     "metadata": {},
     "output_type": "execute_result"
    }
   ],
   "source": [
    "mood[mask]"
   ]
  },
  {
   "cell_type": "code",
   "execution_count": 145,
   "id": "15e83b55",
   "metadata": {},
   "outputs": [
    {
     "data": {
      "text/plain": [
       "(array(['Happy', 'Neutral', 'Sad'], dtype='<U10'),\n",
       " array([22,  9,  7], dtype=int64))"
      ]
     },
     "execution_count": 145,
     "metadata": {},
     "output_type": "execute_result"
    }
   ],
   "source": [
    "np.unique(mood[mask],return_counts=True)"
   ]
  },
  {
   "cell_type": "code",
   "execution_count": 146,
   "id": "0d9f4649",
   "metadata": {},
   "outputs": [],
   "source": [
    "#okay when he walks more than, 4000 steps he is mostly happy"
   ]
  },
  {
   "cell_type": "code",
   "execution_count": 147,
   "id": "a81cd31a",
   "metadata": {},
   "outputs": [],
   "source": [
    "m,c = np.unique(mood[mask],return_counts=True)"
   ]
  },
  {
   "cell_type": "code",
   "execution_count": 148,
   "id": "df330a83",
   "metadata": {},
   "outputs": [
    {
     "data": {
      "text/plain": [
       "57.89473684210527"
      ]
     },
     "execution_count": 148,
     "metadata": {},
     "output_type": "execute_result"
    }
   ],
   "source": [
    "(c[0]/np.sum(c))*100"
   ]
  },
  {
   "cell_type": "code",
   "execution_count": 149,
   "id": "c27b56ee",
   "metadata": {},
   "outputs": [],
   "source": [
    "#so when he walks more tha 4000,  57% of chance that he is going to be happy"
   ]
  },
  {
   "cell_type": "code",
   "execution_count": 150,
   "id": "58d97995",
   "metadata": {},
   "outputs": [],
   "source": [
    "mask = steps<2000"
   ]
  },
  {
   "cell_type": "code",
   "execution_count": 151,
   "id": "ea77ec2d",
   "metadata": {},
   "outputs": [
    {
     "data": {
      "text/plain": [
       "33.33333333333333"
      ]
     },
     "execution_count": 151,
     "metadata": {},
     "output_type": "execute_result"
    }
   ],
   "source": [
    "m,c = np.unique(mood[mask],return_counts=True)\n",
    "(c[0]/np.sum(c))*100"
   ]
  },
  {
   "cell_type": "code",
   "execution_count": 152,
   "id": "9c95f329",
   "metadata": {},
   "outputs": [],
   "source": [
    "mask = hours_slept<5"
   ]
  },
  {
   "cell_type": "code",
   "execution_count": 154,
   "id": "ff0a0eff",
   "metadata": {},
   "outputs": [
    {
     "data": {
      "text/plain": [
       "(array(['Happy', 'Neutral', 'Sad'], dtype='<U10'),\n",
       " array([ 7,  9, 10], dtype=int64))"
      ]
     },
     "execution_count": 154,
     "metadata": {},
     "output_type": "execute_result"
    }
   ],
   "source": [
    "m,c = np.unique(mood[mask],return_counts=True)\n",
    "m,c"
   ]
  },
  {
   "cell_type": "code",
   "execution_count": 155,
   "id": "aaa36e3d",
   "metadata": {},
   "outputs": [],
   "source": [
    "#he is more likely going to be sad."
   ]
  },
  {
   "cell_type": "code",
   "execution_count": 156,
   "id": "e8d46983",
   "metadata": {},
   "outputs": [
    {
     "data": {
      "text/plain": [
       "(array(['Happy', 'Neutral', 'Sad'], dtype='<U10'),\n",
       " array([10,  2,  5], dtype=int64))"
      ]
     },
     "execution_count": 156,
     "metadata": {},
     "output_type": "execute_result"
    }
   ],
   "source": [
    "mask = hours_slept>6\n",
    "m,c = np.unique(mood[mask],return_counts=True)\n",
    "m,c"
   ]
  },
  {
   "cell_type": "code",
   "execution_count": 157,
   "id": "eaf4fae3",
   "metadata": {},
   "outputs": [],
   "source": [
    "#if he get more than 6 hours of sleep he is more likely going to be happy"
   ]
  },
  {
   "cell_type": "code",
   "execution_count": 158,
   "id": "3d94141b",
   "metadata": {},
   "outputs": [
    {
     "data": {
      "text/plain": [
       "5.21875"
      ]
     },
     "execution_count": 158,
     "metadata": {},
     "output_type": "execute_result"
    }
   ],
   "source": [
    "np.mean(hours_slept)"
   ]
  },
  {
   "cell_type": "code",
   "execution_count": 159,
   "id": "17669ac9",
   "metadata": {},
   "outputs": [],
   "source": [
    "#on average he is sleeping 5 hours of sleep."
   ]
  },
  {
   "cell_type": "code",
   "execution_count": 160,
   "id": "d0ad14c5",
   "metadata": {},
   "outputs": [
    {
     "data": {
      "text/plain": [
       "(array(['Happy', 'Neutral', 'Sad'], dtype='<U10'),\n",
       " array([20,  3, 10], dtype=int64))"
      ]
     },
     "execution_count": 160,
     "metadata": {},
     "output_type": "execute_result"
    }
   ],
   "source": [
    "mask = hours_slept>5\n",
    "m,c = np.unique(mood[mask],return_counts=True)\n",
    "m,c"
   ]
  },
  {
   "cell_type": "code",
   "execution_count": 161,
   "id": "f9412d9b",
   "metadata": {},
   "outputs": [],
   "source": [
    "#so if he sleep more than his average sleep hours, he is more likely going to be happy. other wise he is going to be sad. "
   ]
  },
  {
   "cell_type": "code",
   "execution_count": null,
   "id": "720d6b57",
   "metadata": {},
   "outputs": [],
   "source": []
  }
 ],
 "metadata": {
  "kernelspec": {
   "display_name": "Python 3 (ipykernel)",
   "language": "python",
   "name": "python3"
  },
  "language_info": {
   "codemirror_mode": {
    "name": "ipython",
    "version": 3
   },
   "file_extension": ".py",
   "mimetype": "text/x-python",
   "name": "python",
   "nbconvert_exporter": "python",
   "pygments_lexer": "ipython3",
   "version": "3.9.10"
  }
 },
 "nbformat": 4,
 "nbformat_minor": 5
}
