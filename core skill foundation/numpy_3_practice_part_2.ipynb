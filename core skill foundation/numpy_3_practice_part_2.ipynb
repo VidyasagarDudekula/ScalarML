{
 "cells": [
  {
   "cell_type": "code",
   "execution_count": 1,
   "id": "41beb339",
   "metadata": {},
   "outputs": [],
   "source": [
    "import numpy as np\n",
    "import pandas as pd"
   ]
  },
  {
   "cell_type": "code",
   "execution_count": 3,
   "id": "6f4eb1a0",
   "metadata": {},
   "outputs": [],
   "source": [
    "#lets discusss about the numpy array\n",
    "#1 dimentional numpy array is called vector.\n",
    "#2 dimentional numpy array is called matrix.\n",
    "#3 dimentional numpy array is called tensor.\n",
    "#4 dimentional numpy array is called tesaract"
   ]
  },
  {
   "cell_type": "code",
   "execution_count": 4,
   "id": "c5016490",
   "metadata": {},
   "outputs": [],
   "source": [
    "a = np.array([[1,2],[3,5]])"
   ]
  },
  {
   "cell_type": "code",
   "execution_count": 5,
   "id": "2e9d618c",
   "metadata": {},
   "outputs": [],
   "source": [
    "#the above a is a two dimetional matrix"
   ]
  },
  {
   "cell_type": "code",
   "execution_count": 6,
   "id": "af01645d",
   "metadata": {},
   "outputs": [
    {
     "data": {
      "text/plain": [
       "array([[0.73, 0.88],\n",
       "       [0.95, 0.99]])"
      ]
     },
     "execution_count": 6,
     "metadata": {},
     "output_type": "execute_result"
    }
   ],
   "source": [
    "np.around(1 / (1+np.exp(-a)),decimals=2)"
   ]
  },
  {
   "cell_type": "code",
   "execution_count": 7,
   "id": "3e0b3f5e",
   "metadata": {},
   "outputs": [],
   "source": [
    "#the above value is a sigmoid function."
   ]
  },
  {
   "cell_type": "code",
   "execution_count": null,
   "id": "63ac07d8",
   "metadata": {},
   "outputs": [],
   "source": []
  }
 ],
 "metadata": {
  "kernelspec": {
   "display_name": "Python 3 (ipykernel)",
   "language": "python",
   "name": "python3"
  },
  "language_info": {
   "codemirror_mode": {
    "name": "ipython",
    "version": 3
   },
   "file_extension": ".py",
   "mimetype": "text/x-python",
   "name": "python",
   "nbconvert_exporter": "python",
   "pygments_lexer": "ipython3",
   "version": "3.10.8"
  }
 },
 "nbformat": 4,
 "nbformat_minor": 5
}
