{
 "cells": [
  {
   "cell_type": "code",
   "execution_count": 1,
   "id": "9181624e",
   "metadata": {},
   "outputs": [],
   "source": [
    "import numpy as np"
   ]
  },
  {
   "cell_type": "code",
   "execution_count": 2,
   "id": "fe2aa65d",
   "metadata": {},
   "outputs": [],
   "source": [
    "#to do we will work with firbit data."
   ]
  },
  {
   "cell_type": "code",
   "execution_count": 3,
   "id": "974d171c",
   "metadata": {},
   "outputs": [],
   "source": [
    "#Q1 what is the method that we use to find what are the unique element present in the numpy"
   ]
  },
  {
   "cell_type": "code",
   "execution_count": 4,
   "id": "f293c69d",
   "metadata": {},
   "outputs": [],
   "source": [
    "a= np.array([1,5,3,4,6,9,1,0,2,4,5,8,1,3,4,5,7,9,3])"
   ]
  },
  {
   "cell_type": "code",
   "execution_count": 5,
   "id": "005eb88f",
   "metadata": {},
   "outputs": [
    {
     "data": {
      "text/plain": [
       "array([0, 1, 2, 3, 4, 5, 6, 7, 8, 9])"
      ]
     },
     "execution_count": 5,
     "metadata": {},
     "output_type": "execute_result"
    }
   ],
   "source": [
    "np.unique(a)"
   ]
  },
  {
   "cell_type": "code",
   "execution_count": 6,
   "id": "8014e150",
   "metadata": {},
   "outputs": [
    {
     "data": {
      "text/plain": [
       "(array([0, 1, 2, 3, 4, 5, 6, 7, 8, 9]),\n",
       " array([1, 3, 1, 3, 3, 3, 1, 1, 1, 2], dtype=int64))"
      ]
     },
     "execution_count": 6,
     "metadata": {},
     "output_type": "execute_result"
    }
   ],
   "source": [
    "np.unique(a,return_counts=True)"
   ]
  },
  {
   "cell_type": "code",
   "execution_count": 7,
   "id": "d3e7075f",
   "metadata": {},
   "outputs": [],
   "source": [
    "#the above command we can get what are the frequences of all the unique elements."
   ]
  },
  {
   "cell_type": "code",
   "execution_count": 8,
   "id": "40fa5521",
   "metadata": {},
   "outputs": [],
   "source": [
    "ele,freq  =np.unique(a,return_counts=True)"
   ]
  },
  {
   "cell_type": "code",
   "execution_count": 9,
   "id": "c8d0842e",
   "metadata": {},
   "outputs": [
    {
     "data": {
      "text/plain": [
       "array([0, 1, 2, 3, 4, 5, 6, 7, 8, 9])"
      ]
     },
     "execution_count": 9,
     "metadata": {},
     "output_type": "execute_result"
    }
   ],
   "source": [
    "ele"
   ]
  },
  {
   "cell_type": "code",
   "execution_count": 10,
   "id": "b8b9972c",
   "metadata": {},
   "outputs": [
    {
     "data": {
      "text/plain": [
       "array([1, 3, 1, 3, 3, 3, 1, 1, 1, 2], dtype=int64)"
      ]
     },
     "execution_count": 10,
     "metadata": {},
     "output_type": "execute_result"
    }
   ],
   "source": [
    "freq"
   ]
  },
  {
   "cell_type": "code",
   "execution_count": 13,
   "id": "2ebba5c2",
   "metadata": {},
   "outputs": [],
   "source": [
    "#last time we worked like a<6 we are always dealing with array and scaler value.\n",
    "#what if we work with a<b two numpy arrays\n",
    "#well it will do a element wise comparision.\n",
    "#but they should be of equal sizes"
   ]
  },
  {
   "cell_type": "code",
   "execution_count": 14,
   "id": "5eefd04b",
   "metadata": {},
   "outputs": [],
   "source": [
    "a = np.array([5,6,8,1,0,6,4])\n",
    "b = np.array([8,6,4,1,3,1,7])"
   ]
  },
  {
   "cell_type": "code",
   "execution_count": 15,
   "id": "31aa1d0f",
   "metadata": {},
   "outputs": [
    {
     "data": {
      "text/plain": [
       "array([ True, False, False, False,  True, False,  True])"
      ]
     },
     "execution_count": 15,
     "metadata": {},
     "output_type": "execute_result"
    }
   ],
   "source": [
    "a<b"
   ]
  },
  {
   "cell_type": "code",
   "execution_count": 16,
   "id": "080443d0",
   "metadata": {},
   "outputs": [],
   "source": [
    "#just like the mask we have seen till now, but created using two numpy arrays."
   ]
  },
  {
   "cell_type": "code",
   "execution_count": 17,
   "id": "4a977a86",
   "metadata": {},
   "outputs": [
    {
     "data": {
      "text/plain": [
       "array([5, 0, 4])"
      ]
     },
     "execution_count": 17,
     "metadata": {},
     "output_type": "execute_result"
    }
   ],
   "source": [
    "a[a<b]"
   ]
  },
  {
   "cell_type": "code",
   "execution_count": 18,
   "id": "d10a90b8",
   "metadata": {},
   "outputs": [
    {
     "data": {
      "text/plain": [
       "array([8, 3, 7])"
      ]
     },
     "execution_count": 18,
     "metadata": {},
     "output_type": "execute_result"
    }
   ],
   "source": [
    "b[a<b]"
   ]
  },
  {
   "cell_type": "code",
   "execution_count": 19,
   "id": "b60f0807",
   "metadata": {},
   "outputs": [
    {
     "data": {
      "text/plain": [
       "True"
      ]
     },
     "execution_count": 19,
     "metadata": {},
     "output_type": "execute_result"
    }
   ],
   "source": [
    "len(a[a<b])==len(b[a<b]) #always will be true"
   ]
  },
  {
   "cell_type": "code",
   "execution_count": 20,
   "id": "90932617",
   "metadata": {},
   "outputs": [],
   "source": [
    "#we will learn two new methods any and all\n",
    "#work similar to 'and' and 'or'"
   ]
  },
  {
   "cell_type": "code",
   "execution_count": 21,
   "id": "c38f802f",
   "metadata": {},
   "outputs": [
    {
     "data": {
      "text/plain": [
       "True"
      ]
     },
     "execution_count": 21,
     "metadata": {},
     "output_type": "execute_result"
    }
   ],
   "source": [
    "np.any(a<b)"
   ]
  },
  {
   "cell_type": "code",
   "execution_count": 22,
   "id": "90bb07b0",
   "metadata": {},
   "outputs": [],
   "source": [
    "#np.any() returns true atleast one pair of a and b satisfies the condition."
   ]
  },
  {
   "cell_type": "code",
   "execution_count": 23,
   "id": "7ddea6b6",
   "metadata": {},
   "outputs": [
    {
     "data": {
      "text/plain": [
       "False"
      ]
     },
     "execution_count": 23,
     "metadata": {},
     "output_type": "execute_result"
    }
   ],
   "source": [
    "np.all(a<b)"
   ]
  },
  {
   "cell_type": "code",
   "execution_count": 24,
   "id": "21aee826",
   "metadata": {},
   "outputs": [],
   "source": [
    "#np.all() retuns ,when every pair if satisfied."
   ]
  },
  {
   "cell_type": "code",
   "execution_count": 25,
   "id": "14471afa",
   "metadata": {},
   "outputs": [],
   "source": [
    "a = np.arange(0,16,2)"
   ]
  },
  {
   "cell_type": "code",
   "execution_count": 26,
   "id": "3f2d5e43",
   "metadata": {},
   "outputs": [
    {
     "data": {
      "text/plain": [
       "array([ 0,  2,  4,  6,  8, 10, 12, 14])"
      ]
     },
     "execution_count": 26,
     "metadata": {},
     "output_type": "execute_result"
    }
   ],
   "source": [
    "a"
   ]
  },
  {
   "cell_type": "code",
   "execution_count": 28,
   "id": "bc4be01c",
   "metadata": {},
   "outputs": [
    {
     "data": {
      "text/plain": [
       "True"
      ]
     },
     "execution_count": 28,
     "metadata": {},
     "output_type": "execute_result"
    }
   ],
   "source": [
    "np.all(a%2==0) #because every element in the array a is even element."
   ]
  },
  {
   "cell_type": "code",
   "execution_count": 30,
   "id": "090a4089",
   "metadata": {},
   "outputs": [
    {
     "data": {
      "text/plain": [
       "False"
      ]
     },
     "execution_count": 30,
     "metadata": {},
     "output_type": "execute_result"
    }
   ],
   "source": [
    "np.any(a%2!=0) #since not a single element is odd."
   ]
  },
  {
   "cell_type": "code",
   "execution_count": null,
   "id": "a9d603c1",
   "metadata": {},
   "outputs": [],
   "source": []
  }
 ],
 "metadata": {
  "kernelspec": {
   "display_name": "Python 3 (ipykernel)",
   "language": "python",
   "name": "python3"
  },
  "language_info": {
   "codemirror_mode": {
    "name": "ipython",
    "version": 3
   },
   "file_extension": ".py",
   "mimetype": "text/x-python",
   "name": "python",
   "nbconvert_exporter": "python",
   "pygments_lexer": "ipython3",
   "version": "3.9.10"
  }
 },
 "nbformat": 4,
 "nbformat_minor": 5
}
