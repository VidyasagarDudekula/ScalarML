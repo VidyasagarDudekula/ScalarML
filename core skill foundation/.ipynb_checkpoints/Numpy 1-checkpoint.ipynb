{
 "cells": [
  {
   "cell_type": "code",
   "execution_count": 4,
   "id": "fc31c428",
   "metadata": {},
   "outputs": [],
   "source": [
    "#first leacture in numpy"
   ]
  },
  {
   "cell_type": "code",
   "execution_count": 1,
   "id": "d0beb100",
   "metadata": {},
   "outputs": [],
   "source": [
    "import numpy as np\n",
    "import pandas as pd"
   ]
  },
  {
   "cell_type": "code",
   "execution_count": 2,
   "id": "15afeb31",
   "metadata": {},
   "outputs": [],
   "source": [
    "#converting a list to a numpy\n",
    "l = np.array([1,5,6,4,8,2,3,9])"
   ]
  },
  {
   "cell_type": "code",
   "execution_count": 3,
   "id": "d4dfe0c2",
   "metadata": {},
   "outputs": [
    {
     "data": {
      "text/plain": [
       "numpy.ndarray"
      ]
     },
     "execution_count": 3,
     "metadata": {},
     "output_type": "execute_result"
    }
   ],
   "source": [
    "type(l)"
   ]
  },
  {
   "cell_type": "code",
   "execution_count": 4,
   "id": "3aeb196e",
   "metadata": {},
   "outputs": [],
   "source": [
    "#let us look into some element wise operations on numpy"
   ]
  },
  {
   "cell_type": "code",
   "execution_count": 5,
   "id": "febd8852",
   "metadata": {},
   "outputs": [
    {
     "data": {
      "text/plain": [
       "array([ 2, 10, 12,  8, 16,  4,  6, 18])"
      ]
     },
     "execution_count": 5,
     "metadata": {},
     "output_type": "execute_result"
    }
   ],
   "source": [
    "l * 2"
   ]
  },
  {
   "cell_type": "code",
   "execution_count": 6,
   "id": "50e34149",
   "metadata": {},
   "outputs": [
    {
     "data": {
      "text/plain": [
       "array([ 1, 25, 36, 16, 64,  4,  9, 81])"
      ]
     },
     "execution_count": 6,
     "metadata": {},
     "output_type": "execute_result"
    }
   ],
   "source": [
    "l**2"
   ]
  },
  {
   "cell_type": "code",
   "execution_count": 7,
   "id": "4611de1d",
   "metadata": {},
   "outputs": [
    {
     "data": {
      "text/plain": [
       "array([ 6, 10, 11,  9, 13,  7,  8, 14])"
      ]
     },
     "execution_count": 7,
     "metadata": {},
     "output_type": "execute_result"
    }
   ],
   "source": [
    "l+5"
   ]
  },
  {
   "cell_type": "code",
   "execution_count": 8,
   "id": "a9722120",
   "metadata": {},
   "outputs": [
    {
     "data": {
      "text/plain": [
       "array([0.5, 2.5, 3. , 2. , 4. , 1. , 1.5, 4.5])"
      ]
     },
     "execution_count": 8,
     "metadata": {},
     "output_type": "execute_result"
    }
   ],
   "source": [
    "l/2"
   ]
  },
  {
   "cell_type": "code",
   "execution_count": 9,
   "id": "fa5e85ce",
   "metadata": {},
   "outputs": [
    {
     "data": {
      "text/plain": [
       "array([-19, -15, -14, -16, -12, -18, -17, -11])"
      ]
     },
     "execution_count": 9,
     "metadata": {},
     "output_type": "execute_result"
    }
   ],
   "source": [
    "l-20"
   ]
  },
  {
   "cell_type": "code",
   "execution_count": 10,
   "id": "0124045c",
   "metadata": {},
   "outputs": [],
   "source": [
    "#one benifit that numpy operates is. it supports element wise operations"
   ]
  },
  {
   "cell_type": "code",
   "execution_count": 11,
   "id": "df9ba4ff",
   "metadata": {},
   "outputs": [],
   "source": [
    "#if you want to generate some numbers in a range.\n",
    "l = np.arange(100000)"
   ]
  },
  {
   "cell_type": "code",
   "execution_count": 12,
   "id": "0fb7e3b2",
   "metadata": {},
   "outputs": [
    {
     "data": {
      "text/plain": [
       "array([    0,     1,     2, ..., 99997, 99998, 99999])"
      ]
     },
     "execution_count": 12,
     "metadata": {},
     "output_type": "execute_result"
    }
   ],
   "source": [
    "l"
   ]
  },
  {
   "cell_type": "code",
   "execution_count": 13,
   "id": "3e2dc06c",
   "metadata": {},
   "outputs": [],
   "source": [
    "#one draw back with numpy is unlike list it can't store different type of elements in a single array. all the elements in the array should have only one type of array."
   ]
  },
  {
   "cell_type": "code",
   "execution_count": 14,
   "id": "7157125b",
   "metadata": {},
   "outputs": [],
   "source": [
    "#but that is what it makes numpy array faster than list."
   ]
  },
  {
   "cell_type": "code",
   "execution_count": 15,
   "id": "da37f5f9",
   "metadata": {},
   "outputs": [
    {
     "data": {
      "text/plain": [
       "array([1, 2, 3, 4, 5])"
      ]
     },
     "execution_count": 15,
     "metadata": {},
     "output_type": "execute_result"
    }
   ],
   "source": [
    "#initializing a numpy array\n",
    "a = np.array([1,2,3,4,5])\n",
    "a"
   ]
  },
  {
   "cell_type": "code",
   "execution_count": 16,
   "id": "3f3080b7",
   "metadata": {},
   "outputs": [
    {
     "data": {
      "text/plain": [
       "numpy.ndarray"
      ]
     },
     "execution_count": 16,
     "metadata": {},
     "output_type": "execute_result"
    }
   ],
   "source": [
    "#what is the type of a\n",
    "type(a)"
   ]
  },
  {
   "cell_type": "code",
   "execution_count": 17,
   "id": "df731708",
   "metadata": {},
   "outputs": [],
   "source": [
    "#it is a n dimentional numpy array"
   ]
  },
  {
   "cell_type": "code",
   "execution_count": 18,
   "id": "3ce2eac8",
   "metadata": {},
   "outputs": [
    {
     "data": {
      "text/plain": [
       "numpy.int32"
      ]
     },
     "execution_count": 18,
     "metadata": {},
     "output_type": "execute_result"
    }
   ],
   "source": [
    "#what is the data type of eelement that is stored in array a\n",
    "type(a[0])"
   ]
  },
  {
   "cell_type": "code",
   "execution_count": 19,
   "id": "2d55f27a",
   "metadata": {},
   "outputs": [],
   "source": [
    "#it shows int32 not a python normal int, as numpy is written in c++, it gives 32 bit integer"
   ]
  },
  {
   "cell_type": "code",
   "execution_count": 21,
   "id": "aa1e09d4",
   "metadata": {},
   "outputs": [
    {
     "data": {
      "text/plain": [
       "array([ 1. ,  2. ,  3.5,  6. , 20.1,  8. ,  6.5])"
      ]
     },
     "execution_count": 21,
     "metadata": {},
     "output_type": "execute_result"
    }
   ],
   "source": [
    "a = np.array([1.0,2,3.5,6,20.1,8,6.5])\n",
    "a\n",
    "#every thing is converted to lossless format. int -> float (loss less)\n",
    "#float -> int (lossy)"
   ]
  },
  {
   "cell_type": "code",
   "execution_count": 22,
   "id": "5810c1f4",
   "metadata": {},
   "outputs": [
    {
     "data": {
      "text/plain": [
       "numpy.ndarray"
      ]
     },
     "execution_count": 22,
     "metadata": {},
     "output_type": "execute_result"
    }
   ],
   "source": [
    "type(a)"
   ]
  },
  {
   "cell_type": "code",
   "execution_count": 23,
   "id": "00be80c6",
   "metadata": {},
   "outputs": [
    {
     "data": {
      "text/plain": [
       "numpy.float64"
      ]
     },
     "execution_count": 23,
     "metadata": {},
     "output_type": "execute_result"
    }
   ],
   "source": [
    "type(a[0])"
   ]
  },
  {
   "cell_type": "code",
   "execution_count": 24,
   "id": "b47d6d14",
   "metadata": {},
   "outputs": [],
   "source": [
    "#so now it is a 64 bit float number"
   ]
  },
  {
   "cell_type": "code",
   "execution_count": 25,
   "id": "665b4624",
   "metadata": {},
   "outputs": [
    {
     "data": {
      "text/plain": [
       "array(['1', '5', '4', '6', '8', '5', '4'], dtype='<U11')"
      ]
     },
     "execution_count": 25,
     "metadata": {},
     "output_type": "execute_result"
    }
   ],
   "source": [
    "a = np.array([1,5,'4',6,8,5,'4'])\n",
    "a"
   ]
  },
  {
   "cell_type": "code",
   "execution_count": 26,
   "id": "857c14af",
   "metadata": {},
   "outputs": [
    {
     "data": {
      "text/plain": [
       "numpy.ndarray"
      ]
     },
     "execution_count": 26,
     "metadata": {},
     "output_type": "execute_result"
    }
   ],
   "source": [
    "type(a)"
   ]
  },
  {
   "cell_type": "code",
   "execution_count": 27,
   "id": "25548b28",
   "metadata": {},
   "outputs": [
    {
     "data": {
      "text/plain": [
       "numpy.str_"
      ]
     },
     "execution_count": 27,
     "metadata": {},
     "output_type": "execute_result"
    }
   ],
   "source": [
    "type(a[0])"
   ]
  },
  {
   "cell_type": "code",
   "execution_count": 28,
   "id": "73fc2dc4",
   "metadata": {},
   "outputs": [
    {
     "data": {
      "text/plain": [
       "dtype('<U11')"
      ]
     },
     "execution_count": 28,
     "metadata": {},
     "output_type": "execute_result"
    }
   ],
   "source": [
    "#you can use even this\n",
    "a.dtype"
   ]
  },
  {
   "cell_type": "code",
   "execution_count": 29,
   "id": "58bfe0d9",
   "metadata": {},
   "outputs": [
    {
     "data": {
      "text/plain": [
       "array([1., 2., 4., 6., 8.])"
      ]
     },
     "execution_count": 29,
     "metadata": {},
     "output_type": "execute_result"
    }
   ],
   "source": [
    "#we can even pass a argument that will convert every data in to certain datatype\n",
    "a = np.array([1,2,4,6,8],dtype='float')\n",
    "a"
   ]
  },
  {
   "cell_type": "code",
   "execution_count": 30,
   "id": "8fcc466b",
   "metadata": {},
   "outputs": [],
   "source": [
    "#but reverse might give you a lossy convertion\n",
    "a = np.array([1.0,2.5,3,6,7.5],dtype=\"int32\")"
   ]
  },
  {
   "cell_type": "code",
   "execution_count": 31,
   "id": "b8597c52",
   "metadata": {},
   "outputs": [
    {
     "data": {
      "text/plain": [
       "array([1, 2, 3, 6, 7])"
      ]
     },
     "execution_count": 31,
     "metadata": {},
     "output_type": "execute_result"
    }
   ],
   "source": [
    "a #lossy convertion"
   ]
  },
  {
   "cell_type": "code",
   "execution_count": null,
   "id": "ff210baf",
   "metadata": {},
   "outputs": [],
   "source": []
  },
  {
   "cell_type": "code",
   "execution_count": null,
   "id": "d5f4000f",
   "metadata": {},
   "outputs": [],
   "source": []
  },
  {
   "cell_type": "code",
   "execution_count": 32,
   "id": "5dea11de",
   "metadata": {},
   "outputs": [
    {
     "data": {
      "text/plain": [
       "array([ 0,  1,  2,  3,  4,  5,  6,  7,  8,  9, 10, 11, 12, 13, 14, 15, 16,\n",
       "       17, 18, 19, 20, 21, 22, 23, 24, 25, 26, 27, 28, 29, 30, 31, 32, 33,\n",
       "       34, 35, 36, 37, 38, 39, 40, 41, 42, 43, 44, 45, 46, 47, 48, 49, 50,\n",
       "       51, 52, 53, 54, 55, 56, 57, 58, 59, 60, 61, 62, 63, 64, 65, 66, 67,\n",
       "       68, 69, 70, 71, 72, 73, 74, 75, 76, 77, 78, 79, 80, 81, 82, 83, 84,\n",
       "       85, 86, 87, 88, 89, 90, 91, 92, 93, 94, 95, 96, 97, 98, 99])"
      ]
     },
     "execution_count": 32,
     "metadata": {},
     "output_type": "execute_result"
    }
   ],
   "source": [
    "#arange which is similar to range in python\n",
    "\n",
    "np.arange(100)"
   ]
  },
  {
   "cell_type": "code",
   "execution_count": 33,
   "id": "fa06390c",
   "metadata": {},
   "outputs": [
    {
     "data": {
      "text/plain": [
       "range(0, 100)"
      ]
     },
     "execution_count": 33,
     "metadata": {},
     "output_type": "execute_result"
    }
   ],
   "source": [
    "range(100)"
   ]
  },
  {
   "cell_type": "code",
   "execution_count": 35,
   "id": "d080df3e",
   "metadata": {},
   "outputs": [
    {
     "data": {
      "text/plain": [
       "[0, 1, 2, 3, 4]"
      ]
     },
     "execution_count": 35,
     "metadata": {},
     "output_type": "execute_result"
    }
   ],
   "source": [
    "list(range(5))"
   ]
  },
  {
   "cell_type": "code",
   "execution_count": 37,
   "id": "ff671eba",
   "metadata": {},
   "outputs": [
    {
     "data": {
      "text/plain": [
       "[0, 2, 4, 6, 8, 10, 12, 14]"
      ]
     },
     "execution_count": 37,
     "metadata": {},
     "output_type": "execute_result"
    }
   ],
   "source": [
    "#range(start,stop,step)\n",
    "list(range(0,15,2))"
   ]
  },
  {
   "cell_type": "code",
   "execution_count": 39,
   "id": "253181f4",
   "metadata": {},
   "outputs": [
    {
     "data": {
      "text/plain": [
       "array([ 0,  2,  4,  6,  8, 10, 12, 14, 16, 18])"
      ]
     },
     "execution_count": 39,
     "metadata": {},
     "output_type": "execute_result"
    }
   ],
   "source": [
    "#similary\n",
    "np.arange(0,20,2)"
   ]
  },
  {
   "cell_type": "code",
   "execution_count": 40,
   "id": "e59bfc50",
   "metadata": {},
   "outputs": [
    {
     "data": {
      "text/plain": [
       "array([50, 49, 48, 47, 46, 45, 44, 43, 42, 41, 40, 39, 38, 37, 36, 35, 34,\n",
       "       33, 32, 31, 30, 29, 28, 27, 26, 25, 24, 23, 22, 21, 20, 19, 18, 17,\n",
       "       16, 15, 14, 13, 12, 11, 10,  9,  8,  7,  6,  5,  4,  3,  2,  1])"
      ]
     },
     "execution_count": 40,
     "metadata": {},
     "output_type": "execute_result"
    }
   ],
   "source": [
    "#np.arange(start,end,step)\n",
    "np.arange(50,0,-1)"
   ]
  },
  {
   "cell_type": "code",
   "execution_count": 41,
   "id": "deec5c63",
   "metadata": {},
   "outputs": [
    {
     "data": {
      "text/plain": [
       "array([ 0.  ,  0.75,  1.5 ,  2.25,  3.  ,  3.75,  4.5 ,  5.25,  6.  ,\n",
       "        6.75,  7.5 ,  8.25,  9.  ,  9.75, 10.5 , 11.25, 12.  , 12.75,\n",
       "       13.5 , 14.25])"
      ]
     },
     "execution_count": 41,
     "metadata": {},
     "output_type": "execute_result"
    }
   ],
   "source": [
    "#but what is the difference between\n",
    "#1. python range does not support floating point step size, but np.arange does\n",
    "np.arange(0,15,0.75)"
   ]
  },
  {
   "cell_type": "code",
   "execution_count": null,
   "id": "5c185099",
   "metadata": {},
   "outputs": [],
   "source": []
  }
 ],
 "metadata": {
  "kernelspec": {
   "display_name": "Python 3 (ipykernel)",
   "language": "python",
   "name": "python3"
  },
  "language_info": {
   "codemirror_mode": {
    "name": "ipython",
    "version": 3
   },
   "file_extension": ".py",
   "mimetype": "text/x-python",
   "name": "python",
   "nbconvert_exporter": "python",
   "pygments_lexer": "ipython3",
   "version": "3.9.10"
  }
 },
 "nbformat": 4,
 "nbformat_minor": 5
}
