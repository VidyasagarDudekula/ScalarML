{
 "cells": [
  {
   "cell_type": "code",
   "execution_count": 1,
   "id": "5657a9de",
   "metadata": {},
   "outputs": [],
   "source": [
    "#today we are going to work on fiirbt data."
   ]
  },
  {
   "cell_type": "code",
   "execution_count": 2,
   "id": "c91e61cb",
   "metadata": {},
   "outputs": [],
   "source": [
    "#okay we have seen how to convert a list into numpy array and we have also seen how to create a numpy array with predefined value.\n",
    "#but what about if we want to create a empty numpy array"
   ]
  },
  {
   "cell_type": "code",
   "execution_count": 4,
   "id": "48bd77b3",
   "metadata": {},
   "outputs": [],
   "source": [
    "import numpy as np"
   ]
  },
  {
   "cell_type": "code",
   "execution_count": 7,
   "id": "b7feeed1",
   "metadata": {},
   "outputs": [
    {
     "data": {
      "text/plain": [
       "array(['', '', '', '', '', '', '', ''], dtype='<U21')"
      ]
     },
     "execution_count": 7,
     "metadata": {},
     "output_type": "execute_result"
    }
   ],
   "source": [
    "np.empty((8,),dtype = 'U21')"
   ]
  },
  {
   "cell_type": "code",
   "execution_count": 9,
   "id": "97641883",
   "metadata": {},
   "outputs": [],
   "source": [
    "e = np.empty((10,),dtype='U21')"
   ]
  },
  {
   "cell_type": "code",
   "execution_count": 10,
   "id": "afbeac4f",
   "metadata": {},
   "outputs": [
    {
     "data": {
      "text/plain": [
       "(10,)"
      ]
     },
     "execution_count": 10,
     "metadata": {},
     "output_type": "execute_result"
    }
   ],
   "source": [
    "e.shape"
   ]
  },
  {
   "cell_type": "code",
   "execution_count": 11,
   "id": "b1aab7ab",
   "metadata": {},
   "outputs": [
    {
     "data": {
      "text/plain": [
       "''"
      ]
     },
     "execution_count": 11,
     "metadata": {},
     "output_type": "execute_result"
    }
   ],
   "source": [
    "e[0]"
   ]
  },
  {
   "cell_type": "code",
   "execution_count": 17,
   "id": "d9b9dda4",
   "metadata": {},
   "outputs": [],
   "source": [
    "#now lets import the airbnb data\n",
    "path = 'Numpy_2/survey.txt'"
   ]
  },
  {
   "cell_type": "code",
   "execution_count": 18,
   "id": "480f455a",
   "metadata": {},
   "outputs": [],
   "source": [
    "data = np.loadtxt(path)"
   ]
  },
  {
   "cell_type": "code",
   "execution_count": 19,
   "id": "530a23fa",
   "metadata": {},
   "outputs": [
    {
     "data": {
      "text/plain": [
       "(1167,)"
      ]
     },
     "execution_count": 19,
     "metadata": {},
     "output_type": "execute_result"
    }
   ],
   "source": [
    "data.shape"
   ]
  },
  {
   "cell_type": "code",
   "execution_count": 28,
   "id": "1ffc85a9",
   "metadata": {},
   "outputs": [],
   "source": [
    "#now create a numpy array empty\n",
    "result = np.empty(shape = data.shape, dtype = 'U21') #U21 - >unicde with 21bytes"
   ]
  },
  {
   "cell_type": "code",
   "execution_count": 29,
   "id": "6e764140",
   "metadata": {},
   "outputs": [
    {
     "data": {
      "text/plain": [
       "array(['', '', '', ..., '', '', ''], dtype='<U21')"
      ]
     },
     "execution_count": 29,
     "metadata": {},
     "output_type": "execute_result"
    }
   ],
   "source": [
    "result"
   ]
  },
  {
   "cell_type": "code",
   "execution_count": 30,
   "id": "0e815986",
   "metadata": {},
   "outputs": [
    {
     "data": {
      "text/plain": [
       "array([ 7., 10.,  5., ...,  5.,  9., 10.])"
      ]
     },
     "execution_count": 30,
     "metadata": {},
     "output_type": "execute_result"
    }
   ],
   "source": [
    "data"
   ]
  },
  {
   "cell_type": "code",
   "execution_count": 31,
   "id": "0dc8beac",
   "metadata": {},
   "outputs": [],
   "source": [
    "#now lets fill all the vvalues less than 7 with word detractors\n",
    "#above 8 as pramotors\n",
    "#inbetween passive"
   ]
  },
  {
   "cell_type": "code",
   "execution_count": 32,
   "id": "fa081b7c",
   "metadata": {},
   "outputs": [],
   "source": [
    "mask1 = data<7\n",
    "mask2= (data>=7) & (data<=8)\n",
    "mask3 = data>8"
   ]
  },
  {
   "cell_type": "code",
   "execution_count": 33,
   "id": "7c187eae",
   "metadata": {},
   "outputs": [],
   "source": [
    "result[mask1] = 'Detractors'\n",
    "result[mask2] = 'Passive'\n",
    "result[mask3] = 'Pramotors'"
   ]
  },
  {
   "cell_type": "code",
   "execution_count": 34,
   "id": "ca7207a6",
   "metadata": {},
   "outputs": [
    {
     "data": {
      "text/plain": [
       "array(['Passive', 'Pramotors', 'Detractors', ..., 'Detractors',\n",
       "       'Pramotors', 'Pramotors'], dtype='<U21')"
      ]
     },
     "execution_count": 34,
     "metadata": {},
     "output_type": "execute_result"
    }
   ],
   "source": [
    "result"
   ]
  },
  {
   "cell_type": "code",
   "execution_count": 36,
   "id": "fb94380f",
   "metadata": {},
   "outputs": [],
   "source": [
    "#see how cool is that.\n",
    "#and the best part is previously we have like 10 different datas, now we have only 3 type of data."
   ]
  },
  {
   "cell_type": "code",
   "execution_count": 37,
   "id": "bb667585",
   "metadata": {},
   "outputs": [
    {
     "data": {
      "text/plain": [
       "array(['Detractors', 'Passive', 'Pramotors'], dtype='<U21')"
      ]
     },
     "execution_count": 37,
     "metadata": {},
     "output_type": "execute_result"
    }
   ],
   "source": [
    "#but is there a way to find out how many unique values we have in the array? yes\n",
    "np.unique(result)"
   ]
  },
  {
   "cell_type": "code",
   "execution_count": 38,
   "id": "43aa3217",
   "metadata": {},
   "outputs": [
    {
     "data": {
      "text/plain": [
       "array([ 1.,  4.,  5.,  7.,  8.,  9., 10.])"
      ]
     },
     "execution_count": 38,
     "metadata": {},
     "output_type": "execute_result"
    }
   ],
   "source": [
    "np.unique(data)"
   ]
  },
  {
   "cell_type": "code",
   "execution_count": 39,
   "id": "6886b0f7",
   "metadata": {},
   "outputs": [
    {
     "data": {
      "text/plain": [
       "(array(['Detractors', 'Passive', 'Pramotors'], dtype='<U21'),\n",
       " array([332, 226, 609], dtype=int64))"
      ]
     },
     "execution_count": 39,
     "metadata": {},
     "output_type": "execute_result"
    }
   ],
   "source": [
    "#but there is another cool parameter in this unique method, which gives the frequencies of each type\n",
    "np.unique(result,return_counts=True)"
   ]
  },
  {
   "cell_type": "code",
   "execution_count": 45,
   "id": "b703d545",
   "metadata": {},
   "outputs": [],
   "source": [
    "#now lets create the pramotors percentages and detractors percentages\n",
    "prom_perc = len(result[result=='Pramotors'])/data.shape[0]\n",
    "detr_perc = len(result[result=='Detractors'])/data.shape[0]"
   ]
  },
  {
   "cell_type": "code",
   "execution_count": 46,
   "id": "5290a825",
   "metadata": {},
   "outputs": [],
   "source": [
    "#now lets calcullate the net pramotors score\n",
    "nps = prom_perc - detr_perc"
   ]
  },
  {
   "cell_type": "code",
   "execution_count": 47,
   "id": "ebd02785",
   "metadata": {},
   "outputs": [
    {
     "data": {
      "text/plain": [
       "0.2373607540702657"
      ]
     },
     "execution_count": 47,
     "metadata": {},
     "output_type": "execute_result"
    }
   ],
   "source": [
    "nps"
   ]
  },
  {
   "cell_type": "code",
   "execution_count": null,
   "id": "dff70bcb",
   "metadata": {},
   "outputs": [],
   "source": []
  },
  {
   "cell_type": "code",
   "execution_count": null,
   "id": "c2da6f0b",
   "metadata": {},
   "outputs": [],
   "source": []
  },
  {
   "cell_type": "code",
   "execution_count": null,
   "id": "5888a482",
   "metadata": {},
   "outputs": [],
   "source": []
  },
  {
   "cell_type": "code",
   "execution_count": 48,
   "id": "fe7ce80a",
   "metadata": {},
   "outputs": [],
   "source": [
    "#let discuss about the 2 dim arrays"
   ]
  },
  {
   "cell_type": "code",
   "execution_count": 49,
   "id": "2b1337dc",
   "metadata": {},
   "outputs": [
    {
     "data": {
      "text/plain": [
       "array([[1, 2, 3],\n",
       "       [4, 5, 6]])"
      ]
     },
     "execution_count": 49,
     "metadata": {},
     "output_type": "execute_result"
    }
   ],
   "source": [
    "np.array([[1,2,3],[4,5,6]])"
   ]
  },
  {
   "cell_type": "code",
   "execution_count": 50,
   "id": "6e91575c",
   "metadata": {},
   "outputs": [],
   "source": [
    "#the number of columns in each row should be equal."
   ]
  },
  {
   "cell_type": "code",
   "execution_count": 51,
   "id": "f1b8582b",
   "metadata": {},
   "outputs": [],
   "source": [
    "arr = np.array([[1,2,3],[4,5,6]])"
   ]
  },
  {
   "cell_type": "code",
   "execution_count": 52,
   "id": "903fd56f",
   "metadata": {},
   "outputs": [
    {
     "data": {
      "text/plain": [
       "2"
      ]
     },
     "execution_count": 52,
     "metadata": {},
     "output_type": "execute_result"
    }
   ],
   "source": [
    "arr.ndim"
   ]
  },
  {
   "cell_type": "code",
   "execution_count": 53,
   "id": "473c2c3f",
   "metadata": {},
   "outputs": [
    {
     "data": {
      "text/plain": [
       "(2, 3)"
      ]
     },
     "execution_count": 53,
     "metadata": {},
     "output_type": "execute_result"
    }
   ],
   "source": [
    "arr.shape"
   ]
  },
  {
   "cell_type": "code",
   "execution_count": 54,
   "id": "54a7b0e9",
   "metadata": {},
   "outputs": [
    {
     "data": {
      "text/plain": [
       "6"
      ]
     },
     "execution_count": 54,
     "metadata": {},
     "output_type": "execute_result"
    }
   ],
   "source": [
    "arr.size"
   ]
  },
  {
   "cell_type": "code",
   "execution_count": 55,
   "id": "2284f8e2",
   "metadata": {},
   "outputs": [],
   "source": [
    "#we will learn about the dimentions much depper when we learn about he concept of axies."
   ]
  },
  {
   "cell_type": "code",
   "execution_count": 56,
   "id": "27f3b51f",
   "metadata": {},
   "outputs": [],
   "source": [
    "#can we reshape the numpy array? yes we can"
   ]
  },
  {
   "cell_type": "code",
   "execution_count": 57,
   "id": "80b3b26c",
   "metadata": {},
   "outputs": [
    {
     "data": {
      "text/plain": [
       "array([[1, 2],\n",
       "       [3, 4],\n",
       "       [5, 6]])"
      ]
     },
     "execution_count": 57,
     "metadata": {},
     "output_type": "execute_result"
    }
   ],
   "source": [
    "arr.reshape((3,2))"
   ]
  },
  {
   "cell_type": "code",
   "execution_count": 58,
   "id": "8a90ac25",
   "metadata": {},
   "outputs": [],
   "source": [
    "#first it will convert all the data into 1 dimentional array, regardless of in which dimention it is in.\n",
    "# then it will convert into the given shape"
   ]
  },
  {
   "cell_type": "code",
   "execution_count": 60,
   "id": "3bd8568e",
   "metadata": {},
   "outputs": [
    {
     "data": {
      "text/plain": [
       "array([[1, 2],\n",
       "       [3, 4],\n",
       "       [5, 6]])"
      ]
     },
     "execution_count": 60,
     "metadata": {},
     "output_type": "execute_result"
    }
   ],
   "source": [
    "#let's say you don't know how many columns it takes for a valid rows, then you can just pass number of rows and -1 in number of col.\n",
    "arr.reshape((3,-1))"
   ]
  },
  {
   "cell_type": "code",
   "execution_count": 61,
   "id": "6b9f0459",
   "metadata": {},
   "outputs": [],
   "source": [
    "#it should be valid rows."
   ]
  },
  {
   "cell_type": "code",
   "execution_count": 63,
   "id": "24fd3288",
   "metadata": {},
   "outputs": [
    {
     "data": {
      "text/plain": [
       "array([[1],\n",
       "       [2],\n",
       "       [3],\n",
       "       [4],\n",
       "       [5],\n",
       "       [6]])"
      ]
     },
     "execution_count": 63,
     "metadata": {},
     "output_type": "execute_result"
    }
   ],
   "source": [
    "arr.reshape((6,1))"
   ]
  },
  {
   "cell_type": "code",
   "execution_count": 64,
   "id": "75dc8658",
   "metadata": {},
   "outputs": [
    {
     "data": {
      "text/plain": [
       "array([[1],\n",
       "       [2],\n",
       "       [3],\n",
       "       [4],\n",
       "       [5],\n",
       "       [6]])"
      ]
     },
     "execution_count": 64,
     "metadata": {},
     "output_type": "execute_result"
    }
   ],
   "source": [
    "arr.reshape((6,-1))"
   ]
  },
  {
   "cell_type": "code",
   "execution_count": 65,
   "id": "887183e1",
   "metadata": {},
   "outputs": [
    {
     "data": {
      "text/plain": [
       "array([[1, 2, 3, 4, 5, 6]])"
      ]
     },
     "execution_count": 65,
     "metadata": {},
     "output_type": "execute_result"
    }
   ],
   "source": [
    "arr.reshape((1,-1))"
   ]
  },
  {
   "cell_type": "code",
   "execution_count": 66,
   "id": "0bcda99e",
   "metadata": {},
   "outputs": [
    {
     "data": {
      "text/plain": [
       "array([[1, 2, 3, 4, 5, 6]])"
      ]
     },
     "execution_count": 66,
     "metadata": {},
     "output_type": "execute_result"
    }
   ],
   "source": [
    "arr.reshape((1,6))"
   ]
  },
  {
   "cell_type": "code",
   "execution_count": 67,
   "id": "c310f218",
   "metadata": {},
   "outputs": [],
   "source": [
    "a = np.arange(1,13).reshape((4,3))"
   ]
  },
  {
   "cell_type": "code",
   "execution_count": 68,
   "id": "b23cf13a",
   "metadata": {},
   "outputs": [
    {
     "data": {
      "text/plain": [
       "array([[ 1,  2,  3],\n",
       "       [ 4,  5,  6],\n",
       "       [ 7,  8,  9],\n",
       "       [10, 11, 12]])"
      ]
     },
     "execution_count": 68,
     "metadata": {},
     "output_type": "execute_result"
    }
   ],
   "source": [
    "a"
   ]
  },
  {
   "cell_type": "code",
   "execution_count": 69,
   "id": "0c6c4f34",
   "metadata": {},
   "outputs": [],
   "source": [
    "#see how easy to create an 2 dimentional array with elements certain range."
   ]
  },
  {
   "cell_type": "code",
   "execution_count": 70,
   "id": "96b7d439",
   "metadata": {},
   "outputs": [
    {
     "data": {
      "text/plain": [
       "array([[1, 2, 3],\n",
       "       [4, 5, 6]])"
      ]
     },
     "execution_count": 70,
     "metadata": {},
     "output_type": "execute_result"
    }
   ],
   "source": [
    "#well can we do negative indexing in the reshape for rows? yes we can.\n",
    "arr.reshape((-1,3))"
   ]
  },
  {
   "cell_type": "code",
   "execution_count": 71,
   "id": "bebc5462",
   "metadata": {},
   "outputs": [],
   "source": [
    "#so the number of rows will automatically selected."
   ]
  },
  {
   "cell_type": "code",
   "execution_count": 73,
   "id": "8bfdfa57",
   "metadata": {},
   "outputs": [],
   "source": [
    "#but you can't give both the values a negative values.\n",
    "#so it can deal with the one unknown dimention."
   ]
  },
  {
   "cell_type": "code",
   "execution_count": 74,
   "id": "522c6fb2",
   "metadata": {},
   "outputs": [],
   "source": [
    "#but where do we use this, later on we will be working with matrix, but you have to create a model which accepts the data in 1d\n",
    "#so you will do arr.reshape((1,-1))"
   ]
  },
  {
   "cell_type": "code",
   "execution_count": 75,
   "id": "0ea86401",
   "metadata": {},
   "outputs": [],
   "source": [
    "#so models will accepts only in 1dimentional format, but we can make it to accept more than that."
   ]
  },
  {
   "cell_type": "code",
   "execution_count": 78,
   "id": "29bb7e44",
   "metadata": {},
   "outputs": [
    {
     "ename": "TypeError",
     "evalue": "fill() takes exactly 1 argument (2 given)",
     "output_type": "error",
     "traceback": [
      "\u001b[1;31m---------------------------------------------------------------------------\u001b[0m",
      "\u001b[1;31mTypeError\u001b[0m                                 Traceback (most recent call last)",
      "Cell \u001b[1;32mIn [78], line 1\u001b[0m\n\u001b[1;32m----> 1\u001b[0m arr \u001b[38;5;241m=\u001b[39m \u001b[43marr\u001b[49m\u001b[38;5;241;43m.\u001b[39;49m\u001b[43mfill\u001b[49m\u001b[43m(\u001b[49m\u001b[43m(\u001b[49m\u001b[38;5;241;43m3\u001b[39;49m\u001b[43m,\u001b[49m\u001b[38;5;241;43m2\u001b[39;49m\u001b[43m)\u001b[49m\u001b[43m,\u001b[49m\u001b[38;5;241;43m5\u001b[39;49m\u001b[43m)\u001b[49m\n",
      "\u001b[1;31mTypeError\u001b[0m: fill() takes exactly 1 argument (2 given)"
     ]
    }
   ],
   "source": [
    "arr = arr.fill((3,2),5)"
   ]
  },
  {
   "cell_type": "code",
   "execution_count": 79,
   "id": "15b91843",
   "metadata": {},
   "outputs": [
    {
     "data": {
      "text/plain": [
       "array([[1, 2, 3],\n",
       "       [4, 5, 6]])"
      ]
     },
     "execution_count": 79,
     "metadata": {},
     "output_type": "execute_result"
    }
   ],
   "source": [
    "#can we transform this into some othere shape\n",
    "arr #2X3"
   ]
  },
  {
   "cell_type": "code",
   "execution_count": 80,
   "id": "47cf7491",
   "metadata": {},
   "outputs": [
    {
     "data": {
      "text/plain": [
       "array([[1, 4],\n",
       "       [2, 5],\n",
       "       [3, 6]])"
      ]
     },
     "execution_count": 80,
     "metadata": {},
     "output_type": "execute_result"
    }
   ],
   "source": [
    "arr.T #3X2"
   ]
  },
  {
   "cell_type": "code",
   "execution_count": 81,
   "id": "5d194251",
   "metadata": {},
   "outputs": [],
   "source": [
    "#but what will happen if we apply transform tha numpy array to 1 dim\n",
    "b = np.arange(1,9)"
   ]
  },
  {
   "cell_type": "code",
   "execution_count": 82,
   "id": "742210a7",
   "metadata": {},
   "outputs": [
    {
     "data": {
      "text/plain": [
       "array([1, 2, 3, 4, 5, 6, 7, 8])"
      ]
     },
     "execution_count": 82,
     "metadata": {},
     "output_type": "execute_result"
    }
   ],
   "source": [
    "b"
   ]
  },
  {
   "cell_type": "code",
   "execution_count": 83,
   "id": "f7544609",
   "metadata": {},
   "outputs": [
    {
     "data": {
      "text/plain": [
       "array([1, 2, 3, 4, 5, 6, 7, 8])"
      ]
     },
     "execution_count": 83,
     "metadata": {},
     "output_type": "execute_result"
    }
   ],
   "source": [
    "b.T"
   ]
  },
  {
   "cell_type": "code",
   "execution_count": 84,
   "id": "1d5abdc2",
   "metadata": {},
   "outputs": [],
   "source": [
    "#but look at  this.\n",
    "c = np.array([list(range(1,12))])"
   ]
  },
  {
   "cell_type": "code",
   "execution_count": 86,
   "id": "3ba1b3a3",
   "metadata": {},
   "outputs": [
    {
     "data": {
      "text/plain": [
       "array([[ 1,  2,  3,  4,  5,  6,  7,  8,  9, 10, 11]])"
      ]
     },
     "execution_count": 86,
     "metadata": {},
     "output_type": "execute_result"
    }
   ],
   "source": [
    "c\n",
    "#look carefully it is not a 1 dimentional array, it is a 2 dim array 1X12"
   ]
  },
  {
   "cell_type": "code",
   "execution_count": 88,
   "id": "291dfdf1",
   "metadata": {},
   "outputs": [
    {
     "data": {
      "text/plain": [
       "array([[ 1],\n",
       "       [ 2],\n",
       "       [ 3],\n",
       "       [ 4],\n",
       "       [ 5],\n",
       "       [ 6],\n",
       "       [ 7],\n",
       "       [ 8],\n",
       "       [ 9],\n",
       "       [10],\n",
       "       [11]])"
      ]
     },
     "execution_count": 88,
     "metadata": {},
     "output_type": "execute_result"
    }
   ],
   "source": [
    "c.T # now it is 12X1 12 rows with 1column"
   ]
  },
  {
   "cell_type": "code",
   "execution_count": 90,
   "id": "ab9b1029",
   "metadata": {},
   "outputs": [],
   "source": [
    "#how can i convert any ddimentional array to 1 dimentional array\n",
    "a = np.arange(1,16).reshape((3,5))"
   ]
  },
  {
   "cell_type": "code",
   "execution_count": 91,
   "id": "7f4d7033",
   "metadata": {},
   "outputs": [
    {
     "data": {
      "text/plain": [
       "array([[ 1,  2,  3,  4,  5],\n",
       "       [ 6,  7,  8,  9, 10],\n",
       "       [11, 12, 13, 14, 15]])"
      ]
     },
     "execution_count": 91,
     "metadata": {},
     "output_type": "execute_result"
    }
   ],
   "source": [
    "a"
   ]
  },
  {
   "cell_type": "code",
   "execution_count": 92,
   "id": "0a643d5a",
   "metadata": {},
   "outputs": [
    {
     "data": {
      "text/plain": [
       "array([ 1,  2,  3,  4,  5,  6,  7,  8,  9, 10, 11, 12, 13, 14, 15])"
      ]
     },
     "execution_count": 92,
     "metadata": {},
     "output_type": "execute_result"
    }
   ],
   "source": [
    "#here is how\n",
    "a.reshape((1,-1))[0]"
   ]
  },
  {
   "cell_type": "code",
   "execution_count": 93,
   "id": "5cf96734",
   "metadata": {},
   "outputs": [],
   "source": [
    "#now you got the 1 dimentional array"
   ]
  },
  {
   "cell_type": "code",
   "execution_count": 94,
   "id": "1789de98",
   "metadata": {},
   "outputs": [
    {
     "data": {
      "text/plain": [
       "array([ 1,  2,  3,  4,  5,  6,  7,  8,  9, 10, 11, 12, 13, 14, 15])"
      ]
     },
     "execution_count": 94,
     "metadata": {},
     "output_type": "execute_result"
    }
   ],
   "source": [
    "#but is there a short form for this\n",
    "a.flatten()"
   ]
  },
  {
   "cell_type": "code",
   "execution_count": 95,
   "id": "76c272c0",
   "metadata": {},
   "outputs": [],
   "source": [
    "#the method flatten will cconvert any dimentional array to 1 dimentional array"
   ]
  },
  {
   "cell_type": "code",
   "execution_count": null,
   "id": "d5e9dbed",
   "metadata": {},
   "outputs": [],
   "source": []
  }
 ],
 "metadata": {
  "kernelspec": {
   "display_name": "Python 3 (ipykernel)",
   "language": "python",
   "name": "python3"
  },
  "language_info": {
   "codemirror_mode": {
    "name": "ipython",
    "version": 3
   },
   "file_extension": ".py",
   "mimetype": "text/x-python",
   "name": "python",
   "nbconvert_exporter": "python",
   "pygments_lexer": "ipython3",
   "version": "3.9.10"
  }
 },
 "nbformat": 4,
 "nbformat_minor": 5
}
