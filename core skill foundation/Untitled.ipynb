{
 "cells": [
  {
   "cell_type": "code",
   "execution_count": 1,
   "id": "a209b4d2",
   "metadata": {},
   "outputs": [],
   "source": [
    "import numpy as np"
   ]
  },
  {
   "cell_type": "code",
   "execution_count": 2,
   "id": "0618bce0",
   "metadata": {},
   "outputs": [],
   "source": [
    "#today we learn about matrix multiplication "
   ]
  },
  {
   "cell_type": "code",
   "execution_count": 3,
   "id": "2530a425",
   "metadata": {},
   "outputs": [],
   "source": [
    "a = np.arange(1,5).reshape((2,2))\n",
    "b = np.arange(5,9).reshape((2,2))"
   ]
  },
  {
   "cell_type": "code",
   "execution_count": 5,
   "id": "1d59c9c4",
   "metadata": {},
   "outputs": [
    {
     "data": {
      "text/plain": [
       "array([[ 5, 12],\n",
       "       [21, 32]])"
      ]
     },
     "execution_count": 5,
     "metadata": {},
     "output_type": "execute_result"
    }
   ],
   "source": [
    "a*b #this is a element wise muliplication."
   ]
  },
  {
   "cell_type": "code",
   "execution_count": 6,
   "id": "430ee67c",
   "metadata": {},
   "outputs": [
    {
     "data": {
      "text/plain": [
       "array([[1, 2],\n",
       "       [3, 4]])"
      ]
     },
     "execution_count": 6,
     "metadata": {},
     "output_type": "execute_result"
    }
   ],
   "source": [
    "a"
   ]
  },
  {
   "cell_type": "code",
   "execution_count": 7,
   "id": "c7bd0514",
   "metadata": {},
   "outputs": [
    {
     "data": {
      "text/plain": [
       "array([[5, 6],\n",
       "       [7, 8]])"
      ]
     },
     "execution_count": 7,
     "metadata": {},
     "output_type": "execute_result"
    }
   ],
   "source": [
    "b"
   ]
  },
  {
   "cell_type": "code",
   "execution_count": 8,
   "id": "c99c0fa8",
   "metadata": {},
   "outputs": [
    {
     "data": {
      "text/plain": [
       "array([[19, 22],\n",
       "       [43, 50]])"
      ]
     },
     "execution_count": 8,
     "metadata": {},
     "output_type": "execute_result"
    }
   ],
   "source": [
    "np.dot(a,b)"
   ]
  },
  {
   "cell_type": "code",
   "execution_count": 9,
   "id": "0f7fcf9c",
   "metadata": {},
   "outputs": [],
   "source": [
    "a=5\n",
    "a1=6"
   ]
  },
  {
   "cell_type": "code",
   "execution_count": 10,
   "id": "4b1812a9",
   "metadata": {},
   "outputs": [],
   "source": [
    "b=np.arange(1,5)\n",
    "b1 = np.arange(5,9)"
   ]
  },
  {
   "cell_type": "code",
   "execution_count": 11,
   "id": "7a7192e0",
   "metadata": {},
   "outputs": [],
   "source": [
    "c = np.arange(1,13).reshape((3,4))\n",
    "c1 = np.arange(2,14).reshape((4,3))"
   ]
  },
  {
   "cell_type": "code",
   "execution_count": 12,
   "id": "18ff0592",
   "metadata": {},
   "outputs": [],
   "source": [
    "e = np.arange(1,13).reshape((2,6))"
   ]
  },
  {
   "cell_type": "code",
   "execution_count": 13,
   "id": "13d1fd34",
   "metadata": {},
   "outputs": [
    {
     "data": {
      "text/plain": [
       "array([[ 80,  90, 100],\n",
       "       [184, 210, 236],\n",
       "       [288, 330, 372]])"
      ]
     },
     "execution_count": 13,
     "metadata": {},
     "output_type": "execute_result"
    }
   ],
   "source": [
    "np.matmul(c,c1)"
   ]
  },
  {
   "cell_type": "code",
   "execution_count": 14,
   "id": "a1a35d43",
   "metadata": {},
   "outputs": [
    {
     "data": {
      "text/plain": [
       "array([[ 53,  62,  71,  80],\n",
       "       [ 98, 116, 134, 152],\n",
       "       [143, 170, 197, 224],\n",
       "       [188, 224, 260, 296]])"
      ]
     },
     "execution_count": 14,
     "metadata": {},
     "output_type": "execute_result"
    }
   ],
   "source": [
    "np.matmul(c1,c)"
   ]
  },
  {
   "cell_type": "code",
   "execution_count": 15,
   "id": "2e0fa6fd",
   "metadata": {},
   "outputs": [
    {
     "data": {
      "text/plain": [
       "70"
      ]
     },
     "execution_count": 15,
     "metadata": {},
     "output_type": "execute_result"
    }
   ],
   "source": [
    "np.dot(b,b1)"
   ]
  },
  {
   "cell_type": "code",
   "execution_count": 16,
   "id": "478f6030",
   "metadata": {},
   "outputs": [
    {
     "data": {
      "text/plain": [
       "70"
      ]
     },
     "execution_count": 16,
     "metadata": {},
     "output_type": "execute_result"
    }
   ],
   "source": [
    "np.matmul(b,b1)"
   ]
  },
  {
   "cell_type": "code",
   "execution_count": 17,
   "id": "56a52845",
   "metadata": {},
   "outputs": [],
   "source": [
    "a = np.arange(0,24).reshape((2,3,4))"
   ]
  },
  {
   "cell_type": "code",
   "execution_count": 18,
   "id": "4369aa2e",
   "metadata": {},
   "outputs": [
    {
     "data": {
      "text/plain": [
       "array([1, 2, 3, 4])"
      ]
     },
     "execution_count": 18,
     "metadata": {},
     "output_type": "execute_result"
    }
   ],
   "source": [
    "b"
   ]
  },
  {
   "cell_type": "code",
   "execution_count": 19,
   "id": "7b4a7d2f",
   "metadata": {},
   "outputs": [
    {
     "data": {
      "text/plain": [
       "array([[ 20,  60, 100],\n",
       "       [140, 180, 220]])"
      ]
     },
     "execution_count": 19,
     "metadata": {},
     "output_type": "execute_result"
    }
   ],
   "source": [
    "np.dot(a,b)"
   ]
  },
  {
   "cell_type": "code",
   "execution_count": 20,
   "id": "3dbd45e3",
   "metadata": {},
   "outputs": [
    {
     "data": {
      "text/plain": [
       "array([[[ 0,  1,  2,  3],\n",
       "        [ 4,  5,  6,  7],\n",
       "        [ 8,  9, 10, 11]],\n",
       "\n",
       "       [[12, 13, 14, 15],\n",
       "        [16, 17, 18, 19],\n",
       "        [20, 21, 22, 23]]])"
      ]
     },
     "execution_count": 20,
     "metadata": {},
     "output_type": "execute_result"
    }
   ],
   "source": [
    "a"
   ]
  },
  {
   "cell_type": "code",
   "execution_count": null,
   "id": "55b362c0",
   "metadata": {},
   "outputs": [],
   "source": []
  }
 ],
 "metadata": {
  "kernelspec": {
   "display_name": "Python 3 (ipykernel)",
   "language": "python",
   "name": "python3"
  },
  "language_info": {
   "codemirror_mode": {
    "name": "ipython",
    "version": 3
   },
   "file_extension": ".py",
   "mimetype": "text/x-python",
   "name": "python",
   "nbconvert_exporter": "python",
   "pygments_lexer": "ipython3",
   "version": "3.9.10"
  }
 },
 "nbformat": 4,
 "nbformat_minor": 5
}
