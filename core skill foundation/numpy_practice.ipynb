{
 "cells": [
  {
   "cell_type": "code",
   "execution_count": 3,
   "id": "15d4efd7",
   "metadata": {},
   "outputs": [],
   "source": [
    "import numpy as np\n",
    "import pandas as pd"
   ]
  },
  {
   "cell_type": "code",
   "execution_count": 4,
   "id": "667b0ac5",
   "metadata": {},
   "outputs": [],
   "source": [
    "#lets creata a 1 dimentinal array with some predefined values.\n",
    "#we can use np.full(shape,value,dtype=\"\")\n",
    "a = np.full((9,),0)"
   ]
  },
  {
   "cell_type": "code",
   "execution_count": 5,
   "id": "56994734",
   "metadata": {},
   "outputs": [
    {
     "data": {
      "text/plain": [
       "array([0, 0, 0, 0, 0, 0, 0, 0, 0])"
      ]
     },
     "execution_count": 5,
     "metadata": {},
     "output_type": "execute_result"
    }
   ],
   "source": [
    "a"
   ]
  },
  {
   "cell_type": "code",
   "execution_count": 6,
   "id": "b5169c9f",
   "metadata": {},
   "outputs": [],
   "source": [
    "a = np.array([5,4,1,2,6,8,7,5,1,2,3,4,5,6,8,4,1])"
   ]
  },
  {
   "cell_type": "code",
   "execution_count": 7,
   "id": "73320446",
   "metadata": {},
   "outputs": [],
   "source": [
    "#lets make all the odd values -1\n",
    "mask = a%2!=0\n",
    "a[mask] = -1"
   ]
  },
  {
   "cell_type": "code",
   "execution_count": 8,
   "id": "dd5f96ff",
   "metadata": {},
   "outputs": [
    {
     "data": {
      "text/plain": [
       "array([-1,  4, -1,  2,  6,  8, -1, -1, -1,  2, -1,  4, -1,  6,  8,  4, -1])"
      ]
     },
     "execution_count": 8,
     "metadata": {},
     "output_type": "execute_result"
    }
   ],
   "source": [
    "a"
   ]
  },
  {
   "cell_type": "code",
   "execution_count": 9,
   "id": "933fefe9",
   "metadata": {},
   "outputs": [],
   "source": [
    "#but is there a way to not affect the original array.\n",
    "#yes using a universal method called 'where'\n",
    "#template is np.where(mask,replace_vale,original_array)\n",
    "a = np.array([5,4,1,2,6,8,7,5,1,2,3,4,5,6,8,4,1])\n",
    "b = np.where(a%2!=0,-1,a)"
   ]
  },
  {
   "cell_type": "code",
   "execution_count": 10,
   "id": "79671cdd",
   "metadata": {},
   "outputs": [
    {
     "data": {
      "text/plain": [
       "array([5, 4, 1, 2, 6, 8, 7, 5, 1, 2, 3, 4, 5, 6, 8, 4, 1])"
      ]
     },
     "execution_count": 10,
     "metadata": {},
     "output_type": "execute_result"
    }
   ],
   "source": [
    "a"
   ]
  },
  {
   "cell_type": "code",
   "execution_count": 11,
   "id": "4907b98a",
   "metadata": {},
   "outputs": [
    {
     "data": {
      "text/plain": [
       "array([-1,  4, -1,  2,  6,  8, -1, -1, -1,  2, -1,  4, -1,  6,  8,  4, -1])"
      ]
     },
     "execution_count": 11,
     "metadata": {},
     "output_type": "execute_result"
    }
   ],
   "source": [
    "b"
   ]
  },
  {
   "cell_type": "code",
   "execution_count": 12,
   "id": "0e3829c8",
   "metadata": {},
   "outputs": [],
   "source": [
    "#see the original array is not effected."
   ]
  },
  {
   "cell_type": "code",
   "execution_count": 18,
   "id": "67a9cf74",
   "metadata": {},
   "outputs": [
    {
     "name": "stdout",
     "output_type": "stream",
     "text": [
      "[5 4 1 2 6 8 7 5 1 2 3 4 5 6 8 4 1]\n",
      "[ 5  4  1  2  6  8  7  5  1  2  3  4  5  6  8  4  1 10]\n"
     ]
    }
   ],
   "source": [
    "#how to add a new element in the existing numpy array.\n",
    "#you can do that by universal function called np.append(original_array,value)\n",
    "print(a)\n",
    "a = np.append(a,10)\n",
    "print(a)"
   ]
  },
  {
   "cell_type": "code",
   "execution_count": 19,
   "id": "1474f23d",
   "metadata": {},
   "outputs": [
    {
     "data": {
      "text/plain": [
       "18"
      ]
     },
     "execution_count": 19,
     "metadata": {},
     "output_type": "execute_result"
    }
   ],
   "source": [
    "#okay what if i want to reshape my numpy array\n",
    "#wll we can use reshape method of array a\n",
    "a.size"
   ]
  },
  {
   "cell_type": "code",
   "execution_count": 22,
   "id": "f70e3947",
   "metadata": {},
   "outputs": [
    {
     "data": {
      "text/plain": [
       "array([[ 5,  4,  1,  2,  6,  8,  7,  5,  1],\n",
       "       [ 2,  3,  4,  5,  6,  8,  4,  1, 10]])"
      ]
     },
     "execution_count": 22,
     "metadata": {},
     "output_type": "execute_result"
    }
   ],
   "source": [
    "a.reshape((2,9)) #but it is not inplace"
   ]
  },
  {
   "cell_type": "code",
   "execution_count": 23,
   "id": "e370a0d5",
   "metadata": {},
   "outputs": [],
   "source": [
    "b = a.reshape((2,9))"
   ]
  },
  {
   "cell_type": "code",
   "execution_count": 24,
   "id": "9e33eafe",
   "metadata": {},
   "outputs": [
    {
     "data": {
      "text/plain": [
       "array([[ 5,  4,  1,  2,  6,  8,  7,  5,  1],\n",
       "       [ 2,  3,  4,  5,  6,  8,  4,  1, 10]])"
      ]
     },
     "execution_count": 24,
     "metadata": {},
     "output_type": "execute_result"
    }
   ],
   "source": [
    "b"
   ]
  },
  {
   "cell_type": "code",
   "execution_count": 26,
   "id": "d5cc07a9",
   "metadata": {},
   "outputs": [],
   "source": [
    "#so, you need to calculate the number of rows and columns you want, if you want to reshape an numpy array?\n",
    "#no you can just decide a valid number of rows that you want, and give -1 in the place of number of columns, \n",
    "#it will automatically decide number columns that required for that number of rows.\n",
    "b = a.reshape(3,-1)"
   ]
  },
  {
   "cell_type": "code",
   "execution_count": 28,
   "id": "3d083484",
   "metadata": {},
   "outputs": [
    {
     "data": {
      "text/plain": [
       "array([[ 5,  4,  1,  2,  6,  8],\n",
       "       [ 7,  5,  1,  2,  3,  4],\n",
       "       [ 5,  6,  8,  4,  1, 10]])"
      ]
     },
     "execution_count": 28,
     "metadata": {},
     "output_type": "execute_result"
    }
   ],
   "source": [
    "b\n",
    "#see how cool is that!"
   ]
  },
  {
   "cell_type": "code",
   "execution_count": null,
   "id": "3e261f60",
   "metadata": {},
   "outputs": [],
   "source": []
  },
  {
   "cell_type": "code",
   "execution_count": null,
   "id": "38155298",
   "metadata": {},
   "outputs": [],
   "source": []
  }
 ],
 "metadata": {
  "kernelspec": {
   "display_name": "Python 3 (ipykernel)",
   "language": "python",
   "name": "python3"
  },
  "language_info": {
   "codemirror_mode": {
    "name": "ipython",
    "version": 3
   },
   "file_extension": ".py",
   "mimetype": "text/x-python",
   "name": "python",
   "nbconvert_exporter": "python",
   "pygments_lexer": "ipython3",
   "version": "3.10.8"
  }
 },
 "nbformat": 4,
 "nbformat_minor": 5
}
