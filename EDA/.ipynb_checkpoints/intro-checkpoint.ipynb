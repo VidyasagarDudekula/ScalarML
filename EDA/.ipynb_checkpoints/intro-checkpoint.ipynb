{
 "cells": [
  {
   "cell_type": "markdown",
   "id": "5bd7bd93",
   "metadata": {},
   "source": [
    "# Iris Dataset\n",
    "* A Simple dataset to learn the basics.\n",
    "* 3 types of flowers\n",
    "## objective\n",
    "* given a new flower data, we have to predict what kind of a class it belongs to.\n",
    "* so it is a classification class."
   ]
  },
  {
   "cell_type": "markdown",
   "id": "c43a89ea",
   "metadata": {},
   "source": [
    "# dataset columns / Variables / features\n",
    "* Sepel Length\n",
    "* sepel Width \n",
    "* Petal Length\n",
    "* Petal Width\n",
    "* Species"
   ]
  },
  {
   "cell_type": "markdown",
   "id": "31124670",
   "metadata": {},
   "source": [
    "# Rows\n",
    "* each row is called as a datapoint or a Vector."
   ]
  },
  {
   "cell_type": "markdown",
   "id": "96c612cf",
   "metadata": {},
   "source": [
    "# Basic terminology\n",
    "* Vector is called n-dimentional numerical array.\n",
    "* what is a 1D vector --> scaler.\n",
    "* input/feature/varibles/independent variables\n",
    "* output/label/class/dependent variables"
   ]
  },
  {
   "cell_type": "code",
   "execution_count": 1,
   "id": "a2522c90",
   "metadata": {},
   "outputs": [],
   "source": [
    "import pandas as pd\n",
    "import numpy as np\n",
    "import matplotlib.pyplot as plt\n",
    "import seaborn as sns\n",
    "from pathlib import Path\n",
    "import os"
   ]
  },
  {
   "cell_type": "code",
   "execution_count": 2,
   "id": "8628a8ab",
   "metadata": {},
   "outputs": [
    {
     "data": {
      "text/plain": [
       "PosixPath('/Users/dvidyasagar/Coding/ML/scaler/EDA')"
      ]
     },
     "execution_count": 2,
     "metadata": {},
     "output_type": "execute_result"
    }
   ],
   "source": [
    "current_file = Path().absolute()\n",
    "current_file"
   ]
  },
  {
   "cell_type": "code",
   "execution_count": 3,
   "id": "f406ab31",
   "metadata": {},
   "outputs": [
    {
     "data": {
      "text/plain": [
       "PosixPath('/Users/dvidyasagar/Coding/ML')"
      ]
     },
     "execution_count": 3,
     "metadata": {},
     "output_type": "execute_result"
    }
   ],
   "source": [
    "parent_file = current_file.parent.parent\n",
    "parent_file"
   ]
  },
  {
   "cell_type": "code",
   "execution_count": 4,
   "id": "95ccde2d",
   "metadata": {},
   "outputs": [
    {
     "name": "stdout",
     "output_type": "stream",
     "text": [
      "linearregression\n",
      "logistic-regression\n",
      ".DS_Store\n",
      "coding ninjas\n",
      "kkn_practice\n",
      "scaler\n",
      "udemy-ML\n",
      ".git\n",
      "data\n",
      "Codebasics\n"
     ]
    }
   ],
   "source": [
    "def print_path_content(file_path):\n",
    "    folders = os.listdir(file_path)\n",
    "    for folder in folders:\n",
    "        print(folder)\n",
    "print_path_content(parent_file)"
   ]
  },
  {
   "cell_type": "code",
   "execution_count": 5,
   "id": "aef1f6a5",
   "metadata": {},
   "outputs": [
    {
     "name": "stdout",
     "output_type": "stream",
     "text": [
      "all_season_summary.csv\n",
      "amazon_reviews_sample.csv\n",
      "homeprices.csv\n",
      "diabetes_clean.csv\n",
      "digit_recognizer_test.csv\n",
      "telecom_churn_clean.csv\n",
      ".DS_Store\n",
      "laptop_price_predictions\n",
      "weatherAUS.csv\n",
      "insurance.csv\n",
      "test_diabetes.csv\n",
      "newsweek_data.csv\n",
      "advertising_and_sales_clean.csv\n",
      "prediction.csv\n",
      "Iris.csv\n",
      "house-prices-advanced-regression-techniques\n",
      "Twitter+data+in+sheets.xlsx\n",
      "areas.csv\n",
      "digit_recognizer_train.csv\n",
      "foxnews_data.csv\n",
      "digit_recognizer_sample_submission.csv\n",
      "magic_gamma_telescope\n",
      "Breast_Cancer_Wisconsin.csv\n",
      "train_diabetes.csv\n"
     ]
    }
   ],
   "source": [
    "data_folder_path = parent_file.joinpath('data')\n",
    "print_path_content(data_folder_path)"
   ]
  },
  {
   "cell_type": "code",
   "execution_count": 6,
   "id": "feefe8f6",
   "metadata": {},
   "outputs": [
    {
     "data": {
      "text/plain": [
       "PosixPath('/Users/dvidyasagar/Coding/ML/data')"
      ]
     },
     "execution_count": 6,
     "metadata": {},
     "output_type": "execute_result"
    }
   ],
   "source": [
    "data_folder_path"
   ]
  },
  {
   "cell_type": "markdown",
   "id": "7717a13a",
   "metadata": {},
   "source": [
    "# Balenced Dataset and Imbalenced dataset.\n",
    "* Lets say i have two classes in my dataset, and the total amnount of data is 10000.\n",
    "* The first class is of 8000 records and 2nd is of 2000 records.\n",
    "* This is called an imbalence dataset. the model which we build on top of this type of data is good at predicting the class 1 and bad at predicting the class 2.\n",
    "* Let's say I have two different classes of 10000 records total. if the class 1 is of 4000 records and class 2 of 6000 records then it is closely balenced dataset. as this is what the real world is looks like."
   ]
  },
  {
   "cell_type": "code",
   "execution_count": 7,
   "id": "b672c3aa",
   "metadata": {},
   "outputs": [
    {
     "data": {
      "text/html": [
       "<div>\n",
       "<style scoped>\n",
       "    .dataframe tbody tr th:only-of-type {\n",
       "        vertical-align: middle;\n",
       "    }\n",
       "\n",
       "    .dataframe tbody tr th {\n",
       "        vertical-align: top;\n",
       "    }\n",
       "\n",
       "    .dataframe thead th {\n",
       "        text-align: right;\n",
       "    }\n",
       "</style>\n",
       "<table border=\"1\" class=\"dataframe\">\n",
       "  <thead>\n",
       "    <tr style=\"text-align: right;\">\n",
       "      <th></th>\n",
       "      <th>Id</th>\n",
       "      <th>SepalLengthCm</th>\n",
       "      <th>SepalWidthCm</th>\n",
       "      <th>PetalLengthCm</th>\n",
       "      <th>PetalWidthCm</th>\n",
       "      <th>Species</th>\n",
       "    </tr>\n",
       "  </thead>\n",
       "  <tbody>\n",
       "    <tr>\n",
       "      <th>0</th>\n",
       "      <td>1</td>\n",
       "      <td>5.1</td>\n",
       "      <td>3.5</td>\n",
       "      <td>1.4</td>\n",
       "      <td>0.2</td>\n",
       "      <td>Iris-setosa</td>\n",
       "    </tr>\n",
       "    <tr>\n",
       "      <th>1</th>\n",
       "      <td>2</td>\n",
       "      <td>4.9</td>\n",
       "      <td>3.0</td>\n",
       "      <td>1.4</td>\n",
       "      <td>0.2</td>\n",
       "      <td>Iris-setosa</td>\n",
       "    </tr>\n",
       "    <tr>\n",
       "      <th>2</th>\n",
       "      <td>3</td>\n",
       "      <td>4.7</td>\n",
       "      <td>3.2</td>\n",
       "      <td>1.3</td>\n",
       "      <td>0.2</td>\n",
       "      <td>Iris-setosa</td>\n",
       "    </tr>\n",
       "    <tr>\n",
       "      <th>3</th>\n",
       "      <td>4</td>\n",
       "      <td>4.6</td>\n",
       "      <td>3.1</td>\n",
       "      <td>1.5</td>\n",
       "      <td>0.2</td>\n",
       "      <td>Iris-setosa</td>\n",
       "    </tr>\n",
       "    <tr>\n",
       "      <th>4</th>\n",
       "      <td>5</td>\n",
       "      <td>5.0</td>\n",
       "      <td>3.6</td>\n",
       "      <td>1.4</td>\n",
       "      <td>0.2</td>\n",
       "      <td>Iris-setosa</td>\n",
       "    </tr>\n",
       "  </tbody>\n",
       "</table>\n",
       "</div>"
      ],
      "text/plain": [
       "   Id  SepalLengthCm  SepalWidthCm  PetalLengthCm  PetalWidthCm      Species\n",
       "0   1            5.1           3.5            1.4           0.2  Iris-setosa\n",
       "1   2            4.9           3.0            1.4           0.2  Iris-setosa\n",
       "2   3            4.7           3.2            1.3           0.2  Iris-setosa\n",
       "3   4            4.6           3.1            1.5           0.2  Iris-setosa\n",
       "4   5            5.0           3.6            1.4           0.2  Iris-setosa"
      ]
     },
     "execution_count": 7,
     "metadata": {},
     "output_type": "execute_result"
    }
   ],
   "source": [
    "# 2-D scatter plot:\n",
    "# Always understand the axis: Labels and scale.\n",
    "\n",
    "iris = pd.read_csv('/Users/dvidyasagar/Coding/ML/data/iris.csv')\n",
    "iris.head()"
   ]
  },
  {
   "cell_type": "code",
   "execution_count": 8,
   "id": "9ee5e2e2",
   "metadata": {},
   "outputs": [
    {
     "data": {
      "text/plain": [
       "Index(['Id', 'SepalLengthCm', 'SepalWidthCm', 'PetalLengthCm', 'PetalWidthCm',\n",
       "       'Species'],\n",
       "      dtype='object')"
      ]
     },
     "execution_count": 8,
     "metadata": {},
     "output_type": "execute_result"
    }
   ],
   "source": [
    "iris.columns"
   ]
  },
  {
   "cell_type": "code",
   "execution_count": 9,
   "id": "9dc2b7ce",
   "metadata": {},
   "outputs": [
    {
     "data": {
      "text/html": [
       "<div>\n",
       "<style scoped>\n",
       "    .dataframe tbody tr th:only-of-type {\n",
       "        vertical-align: middle;\n",
       "    }\n",
       "\n",
       "    .dataframe tbody tr th {\n",
       "        vertical-align: top;\n",
       "    }\n",
       "\n",
       "    .dataframe thead th {\n",
       "        text-align: right;\n",
       "    }\n",
       "</style>\n",
       "<table border=\"1\" class=\"dataframe\">\n",
       "  <thead>\n",
       "    <tr style=\"text-align: right;\">\n",
       "      <th></th>\n",
       "      <th>id</th>\n",
       "      <th>sepal_length</th>\n",
       "      <th>sepal_width</th>\n",
       "      <th>petal_length</th>\n",
       "      <th>petal_width</th>\n",
       "      <th>species</th>\n",
       "    </tr>\n",
       "  </thead>\n",
       "  <tbody>\n",
       "    <tr>\n",
       "      <th>0</th>\n",
       "      <td>Id</td>\n",
       "      <td>SepalLengthCm</td>\n",
       "      <td>SepalWidthCm</td>\n",
       "      <td>PetalLengthCm</td>\n",
       "      <td>PetalWidthCm</td>\n",
       "      <td>Species</td>\n",
       "    </tr>\n",
       "    <tr>\n",
       "      <th>1</th>\n",
       "      <td>1</td>\n",
       "      <td>5.1</td>\n",
       "      <td>3.5</td>\n",
       "      <td>1.4</td>\n",
       "      <td>0.2</td>\n",
       "      <td>Iris-setosa</td>\n",
       "    </tr>\n",
       "    <tr>\n",
       "      <th>2</th>\n",
       "      <td>2</td>\n",
       "      <td>4.9</td>\n",
       "      <td>3.0</td>\n",
       "      <td>1.4</td>\n",
       "      <td>0.2</td>\n",
       "      <td>Iris-setosa</td>\n",
       "    </tr>\n",
       "    <tr>\n",
       "      <th>3</th>\n",
       "      <td>3</td>\n",
       "      <td>4.7</td>\n",
       "      <td>3.2</td>\n",
       "      <td>1.3</td>\n",
       "      <td>0.2</td>\n",
       "      <td>Iris-setosa</td>\n",
       "    </tr>\n",
       "    <tr>\n",
       "      <th>4</th>\n",
       "      <td>4</td>\n",
       "      <td>4.6</td>\n",
       "      <td>3.1</td>\n",
       "      <td>1.5</td>\n",
       "      <td>0.2</td>\n",
       "      <td>Iris-setosa</td>\n",
       "    </tr>\n",
       "  </tbody>\n",
       "</table>\n",
       "</div>"
      ],
      "text/plain": [
       "   id   sepal_length   sepal_width   petal_length   petal_width      species\n",
       "0  Id  SepalLengthCm  SepalWidthCm  PetalLengthCm  PetalWidthCm      Species\n",
       "1   1            5.1           3.5            1.4           0.2  Iris-setosa\n",
       "2   2            4.9           3.0            1.4           0.2  Iris-setosa\n",
       "3   3            4.7           3.2            1.3           0.2  Iris-setosa\n",
       "4   4            4.6           3.1            1.5           0.2  Iris-setosa"
      ]
     },
     "execution_count": 9,
     "metadata": {},
     "output_type": "execute_result"
    }
   ],
   "source": [
    "iris = pd.read_csv('/Users/dvidyasagar/Coding/ML/data/iris.csv', names=['id', 'sepal_length', 'sepal_width', 'petal_length', 'petal_width',\n",
    "       'species'])\n",
    "iris.head()"
   ]
  },
  {
   "cell_type": "code",
   "execution_count": 10,
   "id": "387025e3",
   "metadata": {},
   "outputs": [],
   "source": [
    "iris.drop('id', axis=1, inplace=True)\n",
    "iris.drop(0, axis=0, inplace=True)"
   ]
  },
  {
   "cell_type": "code",
   "execution_count": 11,
   "id": "865b8c7f",
   "metadata": {},
   "outputs": [],
   "source": [
    "def change_col_type(column_name):\n",
    "    iris[column_name] = iris[column_name].astype(dtype='float')\n",
    "    return iris[column_name]\n",
    "for col in list(iris.columns)[:-1]:\n",
    "    iris[col] = change_col_type(col)"
   ]
  },
  {
   "cell_type": "code",
   "execution_count": null,
   "id": "1cb9a45a",
   "metadata": {},
   "outputs": [],
   "source": []
  },
  {
   "cell_type": "code",
   "execution_count": 12,
   "id": "8722cc87",
   "metadata": {},
   "outputs": [
    {
     "data": {
      "image/png": "[encoded data removed]",
      "text/plain": [
       "<Figure size 640x480 with 1 Axes>"
      ]
     },
     "metadata": {},
     "output_type": "display_data"
    }
   ],
   "source": [
    "iris.plot(x='sepal_length', y='sepal_width', kind='scatter')\n",
    "plt.show()"
   ]
  },
  {
   "cell_type": "code",
   "execution_count": 16,
   "id": "5e68e457",
   "metadata": {},
   "outputs": [
    {
     "data": {
      "image/png": "[encoded data removed]",
      "text/plain": [
       "<Figure size 932.5x400 with 1 Axes>"
      ]
     },
     "metadata": {},
     "output_type": "display_data"
    }
   ],
   "source": [
    "#Nothing is making sense, so\n",
    "# let's color the different classes.\n",
    "sns.set_style('whitegrid')\n",
    "g = sns.FacetGrid(iris, hue='species', height=4, aspect=2)\n",
    "g.map(plt.scatter, 'sepal_length', 'sepal_width').add_legend()\n",
    "x_min, x_max = iris['sepal_length'].min() - 0.5, iris['sepal_length'].max() + 0.5\n",
    "y_min, y_max = iris['sepal_width'].min() - 0.5, iris['sepal_width'].max() + 0.5\n",
    "\n",
    "# Set x and y axis limits\n",
    "g.set(xlim=(x_min, x_max), ylim=(y_min, y_max))\n",
    "plt.show()"
   ]
  },
  {
   "cell_type": "code",
   "execution_count": 17,
   "id": "6a35fe69",
   "metadata": {},
   "outputs": [],
   "source": [
    "# now if you observe the setosa(blue) can be easily seperated. Right?\n",
    "# A Legend is which shows, what entity belong to what class."
   ]
  },
  {
   "cell_type": "code",
   "execution_count": null,
   "id": "af4d81d5",
   "metadata": {},
   "outputs": [],
   "source": [
    "# so what we have observed is, the sepal_length and sepal_width can classify the setosa flowers --> linearly seperable.\n",
    "# what about the versicolor and virginica, well they are overlap, so it is much harder to split them. with just two features alone."
   ]
  }
 ],
 "metadata": {
  "kernelspec": {
   "display_name": "Python 3 (ipykernel)",
   "language": "python",
   "name": "python3"
  },
  "language_info": {
   "codemirror_mode": {
    "name": "ipython",
    "version": 3
   },
   "file_extension": ".py",
   "mimetype": "text/x-python",
   "name": "python",
   "nbconvert_exporter": "python",
   "pygments_lexer": "ipython3",
   "version": "3.11.4"
  }
 },
 "nbformat": 4,
 "nbformat_minor": 5
}
